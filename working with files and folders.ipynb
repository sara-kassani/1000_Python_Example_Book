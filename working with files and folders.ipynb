{
 "cells": [
  {
   "cell_type": "code",
   "execution_count": 2,
   "id": "04c8d1a9",
   "metadata": {},
   "outputs": [],
   "source": [
    "import os\n",
    "import glob"
   ]
  },
  {
   "cell_type": "markdown",
   "id": "298859e0",
   "metadata": {},
   "source": [
    "## List files and folders\n",
    "___"
   ]
  },
  {
   "cell_type": "code",
   "execution_count": 36,
   "id": "0bdf16ee",
   "metadata": {},
   "outputs": [],
   "source": [
    "IMG_EXTENSIONS = ['.jpg', '.jpeg', '.nii', '.nii.gz', '.png', '.dcm', '.dicom',]\n",
    "\n",
    "def is_image(filename):\n",
    "    return any(filename.endswith(extension) for extension in IMG_EXTENSIONS)\n",
    "\n",
    "def get_images_list(dir):    # input argument should be dir --> don't change name\n",
    "    images = []\n",
    "    assert os.path.isdir(dir), '%s is not a valid directory' % dir\n",
    "    for root, _, fnames in sorted(os.walk(dir)):\n",
    "        for fname in fnames:\n",
    "            if is_image(fname):\n",
    "                path = os.path.join(root,fname)\n",
    "                images.append(path)\n",
    "    return images, len(images)"
   ]
  },
  {
   "cell_type": "code",
   "execution_count": 37,
   "id": "5f4421ac",
   "metadata": {},
   "outputs": [
    {
     "data": {
      "text/plain": [
       "(['data/test\\\\images\\\\f_2413_seq12_seq12.nii',\n",
       "  'data/test\\\\images\\\\f_3290_seq12_seq12.nii',\n",
       "  'data/test\\\\masks\\\\f_2413_seq12_seq12.nii',\n",
       "  'data/test\\\\masks\\\\f_2449_seq12_seq12.nii',\n",
       "  'data/train\\\\images\\\\f_2396_seq12_seq12.nii',\n",
       "  'data/train\\\\images\\\\f_2422_seq12_seq12.nii',\n",
       "  'data/train\\\\masks\\\\f_2396_seq12_seq12.nii',\n",
       "  'data/train\\\\masks\\\\f_2422_seq12_seq12.nii',\n",
       "  'data/validation\\\\images\\\\f_2421_seq12_seq12.nii',\n",
       "  'data/validation\\\\images\\\\f_2487_seq12_seq12.nii',\n",
       "  'data/validation\\\\masks\\\\f_2421_seq12_seq12.nii',\n",
       "  'data/validation\\\\masks\\\\f_2487_seq12_seq12.nii'],\n",
       " 12)"
      ]
     },
     "execution_count": 37,
     "metadata": {},
     "output_type": "execute_result"
    }
   ],
   "source": [
    "input_dir= 'data/'\n",
    "get_images_list(input_dir)"
   ]
  },
  {
   "cell_type": "markdown",
   "id": "d8432c95",
   "metadata": {},
   "source": [
    "_______"
   ]
  },
  {
   "cell_type": "code",
   "execution_count": 38,
   "id": "06a04cf8",
   "metadata": {},
   "outputs": [
    {
     "name": "stdout",
     "output_type": "stream",
     "text": [
      "data/ 0\n",
      "data/test 0\n",
      "data/test\\images 2\n",
      "data/test\\masks 2\n",
      "data/train 0\n",
      "data/train\\images 2\n",
      "data/train\\masks 2\n",
      "data/validation 0\n",
      "data/validation\\images 2\n",
      "data/validation\\masks 2\n"
     ]
    }
   ],
   "source": [
    "input_dir = 'data/'\n",
    "\n",
    "for root, dirs, files in os.walk(input_dir):\n",
    "    print(root, len(files))"
   ]
  },
  {
   "cell_type": "markdown",
   "id": "e72cde0a",
   "metadata": {},
   "source": [
    "_______"
   ]
  },
  {
   "cell_type": "code",
   "execution_count": 41,
   "id": "0a84e973",
   "metadata": {},
   "outputs": [
    {
     "name": "stdout",
     "output_type": "stream",
     "text": [
      "12 files, 9 folders\n"
     ]
    }
   ],
   "source": [
    "files = folders = 0\n",
    "for _, dirnames, filenames in os.walk(input_dir):\n",
    "    files += len(filenames)\n",
    "    folders += len(dirnames)\n",
    "    \n",
    "print(\"{:} files, {:} folders\".format(files, folders))"
   ]
  },
  {
   "cell_type": "code",
   "execution_count": null,
   "id": "bf563054",
   "metadata": {},
   "outputs": [],
   "source": [
    "import os\n",
    "from PIL import Image \n",
    "\n",
    "folder_images = \"data/train/images\"\n",
    "size_images = dict()\n",
    "\n",
    "for dirpath, _, filenames in os.walk(folder_images):\n",
    "    for image_name in filenames:\n",
    "        image = os.path.abspath(os.path.join(dirpath, image_name))\n",
    "        with Image.open(image) as img:\n",
    "            width, heigth = img.size\n",
    "            size_images[image_name] = {'width': width, 'heigth': heigth}\n",
    "            \n",
    "for k, v in size_images.items():\n",
    "    print (k, '-->', v)    #  ISIC_0011166.jpg --> {'width': 1024, 'heigth': 768}"
   ]
  },
  {
   "cell_type": "code",
   "execution_count": null,
   "id": "5581d9ff",
   "metadata": {},
   "outputs": [],
   "source": [
    "max_width = max(v['width'] for v in size_images.values())\n",
    "print(\"max width is: \" + str(max_width))"
   ]
  },
  {
   "cell_type": "code",
   "execution_count": null,
   "id": "9ecb87e7",
   "metadata": {},
   "outputs": [],
   "source": [
    "sorted_list = sorted(size_images.items(), key=lambda x: x[1]['width'])\n",
    "for k, v in sorted_list:\n",
    "    print (k, '-->', v)\n",
    "    \n",
    "sorted_list = sorted(size_images.items(), key=lambda x: x[1]['width'], reverse=True)\n",
    "for k, v in sorted_list:\n",
    "    print (k, '-->', v)"
   ]
  },
  {
   "cell_type": "markdown",
   "id": "ba140067",
   "metadata": {},
   "source": [
    "____"
   ]
  },
  {
   "cell_type": "code",
   "execution_count": 7,
   "id": "f50ee8cc",
   "metadata": {},
   "outputs": [
    {
     "name": "stdout",
     "output_type": "stream",
     "text": [
      "['f_2396_seq12_seq12.nii', 'f_2422_seq12_seq12.nii']\n",
      "2\n"
     ]
    }
   ],
   "source": [
    "input_dir= 'data/train/images'     # works only for one folder\n",
    "file_names = os.listdir(input_dir)\n",
    "print(file_names)\n",
    "print(len(file_names))"
   ]
  },
  {
   "cell_type": "code",
   "execution_count": 10,
   "id": "e24775b3",
   "metadata": {},
   "outputs": [
    {
     "data": {
      "text/plain": [
       "('data/train/images', [], ['f_2396_seq12_seq12.nii', 'f_2422_seq12_seq12.nii'])"
      ]
     },
     "execution_count": 10,
     "metadata": {},
     "output_type": "execute_result"
    }
   ],
   "source": [
    "# Method 2\n",
    "file_names = next(os.walk(input_dir))\n",
    "file_names"
   ]
  },
  {
   "cell_type": "code",
   "execution_count": 11,
   "id": "ba61040f",
   "metadata": {},
   "outputs": [
    {
     "data": {
      "text/plain": [
       "['f_2396_seq12_seq12.nii', 'f_2422_seq12_seq12.nii']"
      ]
     },
     "execution_count": 11,
     "metadata": {},
     "output_type": "execute_result"
    }
   ],
   "source": [
    "file_names = next(os.walk(input_dir))[2]\n",
    "file_names"
   ]
  },
  {
   "cell_type": "code",
   "execution_count": null,
   "id": "2267b8bc",
   "metadata": {},
   "outputs": [],
   "source": []
  },
  {
   "cell_type": "markdown",
   "id": "b645de80",
   "metadata": {},
   "source": [
    "_____"
   ]
  },
  {
   "cell_type": "code",
   "execution_count": 4,
   "id": "492cb565",
   "metadata": {},
   "outputs": [
    {
     "name": "stdout",
     "output_type": "stream",
     "text": [
      "data/test/images\\f_2413_seq12_seq12\n",
      "data/test/images\\f_3290_seq12_seq12\n"
     ]
    }
   ],
   "source": [
    "for filepath_ext in glob.glob(\"data/test/images/*.nii\"):\n",
    "    filepath, ext= os.path.splitext(filepath_ext)\n",
    "    print(filepath)    #  data/test/images\\f_2413_seq12_seq12\n",
    "#     print (ext)    # .nii\n",
    "#     print(filepath_ext)    # data/test/images\\f_2413_seq12_seq12.nii"
   ]
  },
  {
   "cell_type": "markdown",
   "id": "02622923",
   "metadata": {},
   "source": [
    "______"
   ]
  },
  {
   "cell_type": "code",
   "execution_count": 5,
   "id": "d366338a",
   "metadata": {
    "scrolled": true
   },
   "outputs": [
    {
     "name": "stdout",
     "output_type": "stream",
     "text": [
      "data\\test\\images\\f_2413_seq12_seq12.nii\n",
      "data\\test\\images\\f_3290_seq12_seq12.nii\n",
      "data\\test\\masks\\f_2413_seq12_seq12.nii\n",
      "data\\test\\masks\\f_2449_seq12_seq12.nii\n",
      "data\\train\\images\\f_2396_seq12_seq12.nii\n",
      "data\\train\\images\\f_2422_seq12_seq12.nii\n",
      "data\\train\\masks\\f_2396_seq12_seq12.nii\n",
      "data\\train\\masks\\f_2422_seq12_seq12.nii\n",
      "data\\validation\\images\\f_2421_seq12_seq12.nii\n",
      "data\\validation\\images\\f_2487_seq12_seq12.nii\n",
      "data\\validation\\masks\\f_2421_seq12_seq12.nii\n",
      "data\\validation\\masks\\f_2487_seq12_seq12.nii\n"
     ]
    }
   ],
   "source": [
    "root_dir = 'data/'\n",
    "for filename in glob.iglob(root_dir + '**/*.nii', recursive= True):\n",
    "    print(filename)"
   ]
  },
  {
   "cell_type": "markdown",
   "id": "f0bf9421",
   "metadata": {},
   "source": [
    "_______________"
   ]
  },
  {
   "cell_type": "code",
   "execution_count": 13,
   "id": "9a7a2688",
   "metadata": {},
   "outputs": [
    {
     "name": "stdout",
     "output_type": "stream",
     "text": [
      "data/test\\images\\f_2413_seq12_seq12.nii\n",
      "data/test\\images\\f_3290_seq12_seq12.nii\n",
      "data/test\\masks\\f_2413_seq12_seq12.nii\n",
      "data/test\\masks\\f_2449_seq12_seq12.nii\n",
      "data/train\\images\\f_2396_seq12_seq12.nii\n",
      "data/train\\images\\f_2422_seq12_seq12.nii\n",
      "data/train\\masks\\f_2396_seq12_seq12.nii\n",
      "data/train\\masks\\f_2422_seq12_seq12.nii\n",
      "data/validation\\images\\f_2421_seq12_seq12.nii\n",
      "data/validation\\images\\f_2487_seq12_seq12.nii\n",
      "data/validation\\masks\\f_2421_seq12_seq12.nii\n",
      "data/validation\\masks\\f_2487_seq12_seq12.nii\n"
     ]
    }
   ],
   "source": [
    "for root, _,  fnames in os.walk('data/'):\n",
    "    for fname in fnames:\n",
    "#         print(fname)    # f_2413_seq12_seq12.nii\n",
    "#         print(root)\n",
    "        print(os.path.join(root, fname))"
   ]
  },
  {
   "cell_type": "markdown",
   "id": "9e45ad85",
   "metadata": {},
   "source": [
    "## Rename files - Recursively\n",
    "_____"
   ]
  },
  {
   "cell_type": "code",
   "execution_count": null,
   "id": "bbc14f19",
   "metadata": {},
   "outputs": [],
   "source": [
    "import os\n",
    "folder = 'data'\n",
    "\n",
    "import os\n",
    "pathiter = (os.path.join(root, filename)\n",
    "    for root, _, filenames in os.walk(folder)\n",
    "    for filename in filenames\n",
    ")\n",
    "# print(type(pathiter))    #  <class 'generator'>\n",
    "for path in pathiter:\n",
    "#     print(path)\n",
    "    newname =  path.replace('.nii', '_seq12.nii')\n",
    "    if newname != path:\n",
    "        os.rename(path,newname)"
   ]
  }
 ],
 "metadata": {
  "kernelspec": {
   "display_name": "Python 3 (ipykernel)",
   "language": "python",
   "name": "python3"
  },
  "language_info": {
   "codemirror_mode": {
    "name": "ipython",
    "version": 3
   },
   "file_extension": ".py",
   "mimetype": "text/x-python",
   "name": "python",
   "nbconvert_exporter": "python",
   "pygments_lexer": "ipython3",
   "version": "3.9.7"
  }
 },
 "nbformat": 4,
 "nbformat_minor": 5
}
