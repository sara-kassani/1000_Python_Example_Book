{
 "cells": [
  {
   "cell_type": "markdown",
   "id": "21d97c1b",
   "metadata": {},
   "source": [
    "# Chapter 1\n",
    "## The mechanics of learning"
   ]
  },
  {
   "cell_type": "code",
   "execution_count": 3,
   "id": "b97abaa6",
   "metadata": {},
   "outputs": [],
   "source": [
    "import numpy as np\n",
    "import torch\n",
    "import seaborn as sns\n",
    "import matplotlib.pyplot as plt\n",
    "import numpy as np\n",
    "from tqdm.autonotebook import tqdm\n",
    "import pandas as pd"
   ]
  },
  {
   "cell_type": "code",
   "execution_count": 6,
   "id": "16126902",
   "metadata": {},
   "outputs": [],
   "source": [
    "torch_scalar = torch.tensor(3.14)\n",
    "torch_vector= torch.tensor([1, 2, 3, 4])\n",
    "torch_matrix = torch.tensor([[1, 2, 3, 4], [5, 6, 7, 8], [9, 10, 11, 12]])\n",
    "torch_tensor3d = torch.tensor([[ [ 1, 2, 3],  [ 4, 5, 6],],\n",
    "                               [ [ 7, 8, 9],  [10, 11, 12],],\n",
    "                               [ [13, 14, 15],[16, 17, 18],],\n",
    "                               [ [19, 20, 21],[22, 23, 24],] ])"
   ]
  },
  {
   "cell_type": "code",
   "execution_count": 9,
   "id": "6a5708b8",
   "metadata": {},
   "outputs": [
    {
     "name": "stdout",
     "output_type": "stream",
     "text": [
      "tensor(3.1400)\n",
      "tensor([1, 2, 3, 4])\n",
      "tensor([[ 1,  2,  3,  4],\n",
      "        [ 5,  6,  7,  8],\n",
      "        [ 9, 10, 11, 12]])\n",
      "tensor([[[ 1,  2,  3],\n",
      "         [ 4,  5,  6]],\n",
      "\n",
      "        [[ 7,  8,  9],\n",
      "         [10, 11, 12]],\n",
      "\n",
      "        [[13, 14, 15],\n",
      "         [16, 17, 18]],\n",
      "\n",
      "        [[19, 20, 21],\n",
      "         [22, 23, 24]]])\n"
     ]
    }
   ],
   "source": [
    "print(torch_scalar)\n",
    "print(torch_vector)\n",
    "print(torch_matrix)\n",
    "print(torch_tensor3d)"
   ]
  },
  {
   "cell_type": "code",
   "execution_count": 8,
   "id": "f1e78abb",
   "metadata": {},
   "outputs": [
    {
     "name": "stdout",
     "output_type": "stream",
     "text": [
      "torch.Size([])\n",
      "torch.Size([4])\n",
      "torch.Size([3, 4])\n",
      "torch.Size([4, 2, 3])\n"
     ]
    }
   ],
   "source": [
    "print(torch_scalar.shape)\n",
    "print(torch_vector.shape)\n",
    "print(torch_matrix.shape)\n",
    "print(torch_tensor3d.shape)"
   ]
  },
  {
   "cell_type": "code",
   "execution_count": 15,
   "id": "e7ae66ac",
   "metadata": {},
   "outputs": [
    {
     "data": {
      "text/plain": [
       "array([[0.36245885, 0.42311321, 0.15254803, 0.17324214],\n",
       "       [0.13327834, 0.5438301 , 0.06629452, 0.95492494],\n",
       "       [0.24984324, 0.41525938, 0.93958101, 0.86343883],\n",
       "       [0.92636708, 0.47154115, 0.75937401, 0.7291053 ]])"
      ]
     },
     "execution_count": 15,
     "metadata": {},
     "output_type": "execute_result"
    }
   ],
   "source": [
    "# np.random.random: generate samples from the uniform distribution on [0, 1). \n",
    "\n",
    "x_np = np.random.random(size= (4, 4))\n",
    "x_np"
   ]
  },
  {
   "cell_type": "code",
   "execution_count": 16,
   "id": "fe90b91f",
   "metadata": {},
   "outputs": [
    {
     "data": {
      "text/plain": [
       "tensor([[0.3625, 0.4231, 0.1525, 0.1732],\n",
       "        [0.1333, 0.5438, 0.0663, 0.9549],\n",
       "        [0.2498, 0.4153, 0.9396, 0.8634],\n",
       "        [0.9264, 0.4715, 0.7594, 0.7291]], dtype=torch.float64)"
      ]
     },
     "execution_count": 16,
     "metadata": {},
     "output_type": "execute_result"
    }
   ],
   "source": [
    "x_pt =  torch.tensor(x_np)\n",
    "x_pt"
   ]
  },
  {
   "cell_type": "code",
   "execution_count": 17,
   "id": "ff06e0f5",
   "metadata": {},
   "outputs": [
    {
     "name": "stdout",
     "output_type": "stream",
     "text": [
      "<class 'numpy.ndarray'>\n",
      "<class 'torch.Tensor'>\n"
     ]
    }
   ],
   "source": [
    "print(type(x_np))\n",
    "print(type(x_pt))"
   ]
  },
  {
   "cell_type": "code",
   "execution_count": 18,
   "id": "d248446c",
   "metadata": {},
   "outputs": [
    {
     "name": "stdout",
     "output_type": "stream",
     "text": [
      "float64\n",
      "torch.float64\n"
     ]
    }
   ],
   "source": [
    "print(x_np.dtype)\n",
    "print(x_pt.dtype)"
   ]
  },
  {
   "cell_type": "code",
   "execution_count": 19,
   "id": "b9421b75",
   "metadata": {},
   "outputs": [
    {
     "name": "stdout",
     "output_type": "stream",
     "text": [
      "float32\n",
      "torch.float32\n"
     ]
    }
   ],
   "source": [
    "x_np = np.asarray(x_np, dtype= np.float32)\n",
    "x_pt= torch.tensor(x_np, dtype= torch.float32)\n",
    "print(x_np.dtype)\n",
    "print(x_pt.dtype)"
   ]
  },
  {
   "cell_type": "markdown",
   "id": "2874b5a4",
   "metadata": {},
   "source": [
    "Note: The main exception to using 32-bit floats or 64-bit integers as the dtype is when we need to perform logic operations (like Boolean AND, OR, NOT), which we can use to quickly create binary masks.\n",
    "\n",
    "A mask is a tensor that tells us which portions of another tensor are valid to use. We\n",
    "use masks in some of our more complex neural networks. For example, let’s say we want\n",
    "to find every value greater than 0.5 in a tensor. Both PyTorch and NumPy let us use the\n",
    "standard logic operators to check for things like this:\n"
   ]
  },
  {
   "cell_type": "code",
   "execution_count": 20,
   "id": "d9b1f519",
   "metadata": {},
   "outputs": [
    {
     "data": {
      "text/plain": [
       "array([[False, False, False, False],\n",
       "       [False,  True, False,  True],\n",
       "       [False, False,  True,  True],\n",
       "       [ True, False,  True,  True]])"
      ]
     },
     "execution_count": 20,
     "metadata": {},
     "output_type": "execute_result"
    }
   ],
   "source": [
    "b_np = (x_np > 0.5)\n",
    "b_np"
   ]
  },
  {
   "cell_type": "code",
   "execution_count": 22,
   "id": "b4c717cc",
   "metadata": {},
   "outputs": [
    {
     "data": {
      "text/plain": [
       "tensor([[False, False, False, False],\n",
       "        [False,  True, False,  True],\n",
       "        [False, False,  True,  True],\n",
       "        [ True, False,  True,  True]])"
      ]
     },
     "execution_count": 22,
     "metadata": {},
     "output_type": "execute_result"
    }
   ],
   "source": [
    "b_pt = (x_pt > 0.5)\n",
    "b_pt"
   ]
  },
  {
   "cell_type": "code",
   "execution_count": 24,
   "id": "9664eba0",
   "metadata": {},
   "outputs": [
    {
     "name": "stdout",
     "output_type": "stream",
     "text": [
      "bool\n",
      "torch.bool\n"
     ]
    }
   ],
   "source": [
    "print(b_np.dtype)\n",
    "print(b_pt.dtype)"
   ]
  },
  {
   "cell_type": "code",
   "execution_count": 25,
   "id": "1bd5d8db",
   "metadata": {},
   "outputs": [
    {
     "name": "stdout",
     "output_type": "stream",
     "text": [
      "is CUDA available? False\n"
     ]
    }
   ],
   "source": [
    "print('is CUDA available?', torch.cuda.is_available())"
   ]
  },
  {
   "cell_type": "code",
   "execution_count": 29,
   "id": "dbb52000",
   "metadata": {},
   "outputs": [],
   "source": [
    "# device = torch.device('cuda')\n",
    "# b_pt = b_pt.to(device)"
   ]
  },
  {
   "cell_type": "code",
   "execution_count": 32,
   "id": "60177ab8",
   "metadata": {},
   "outputs": [
    {
     "data": {
      "text/plain": [
       "<AxesSubplot:>"
      ]
     },
     "execution_count": 32,
     "metadata": {},
     "output_type": "execute_result"
    },
    {
     "data": {
      "image/png": "[encoded data removed]",
      "text/plain": [
       "<Figure size 432x288 with 1 Axes>"
      ]
     },
     "metadata": {
      "needs_background": "light"
     },
     "output_type": "display_data"
    }
   ],
   "source": [
    "def f(x):\n",
    "    return torch.pow((x - 2.0), 2)\n",
    "\n",
    "x = np.linspace(-7, 9, 100)\n",
    "y = f(torch.tensor(x)).numpy()\n",
    "\n",
    "sns.lineplot(x= x, y= y, label = '$f(x) = (x-2)2$')"
   ]
  },
  {
   "cell_type": "markdown",
   "id": "f798199a",
   "metadata": {},
   "source": [
    "We can clearly see that the minimum of this function is at x = 2, where we get the value f(2) = 0. We denote the derivative of $f(x)$ as $f'(x)$, and we can get the answer (using calculus) that $f'(x) = 2x - 4$. The minimum of a function $(x^{*})$ exists at critical points, which are points where $f'(x) = 0$."
   ]
  },
  {
   "cell_type": "code",
   "execution_count": 34,
   "id": "b257f875",
   "metadata": {},
   "outputs": [
    {
     "data": {
      "text/plain": [
       "<AxesSubplot:>"
      ]
     },
     "execution_count": 34,
     "metadata": {},
     "output_type": "execute_result"
    },
    {
     "data": {
      "image/png": "[encoded data removed]",
      "text/plain": [
       "<Figure size 432x288 with 1 Axes>"
      ]
     },
     "metadata": {
      "needs_background": "light"
     },
     "output_type": "display_data"
    }
   ],
   "source": [
    "def fp(x):\n",
    "    return (2*x) - 4\n",
    "\n",
    "y_p= fp(torch.tensor(x)).numpy()\n",
    "sns.lineplot(x = x, y= [0.0]*len(x), label = '0', color= 'black')\n",
    "sns.lineplot(x= x, y = y, label= 'Function to Minimize $f(x) = (x-2)^2$')\n",
    "sns.lineplot(x= x, y= y_p, label = \"Gradient of the function $f'(x) = 2x-4 $\")"
   ]
  },
  {
   "cell_type": "markdown",
   "id": "7e536fef",
   "metadata": {},
   "source": [
    "## Calculating a derivative with automatic differentiation"
   ]
  },
  {
   "cell_type": "code",
   "execution_count": 39,
   "id": "16df9061",
   "metadata": {},
   "outputs": [
    {
     "name": "stdout",
     "output_type": "stream",
     "text": [
      "tensor([-3.5000], requires_grad=True)\n",
      "None\n"
     ]
    }
   ],
   "source": [
    "x = torch.tensor([-3.5], requires_grad= True)\n",
    "print(x)\n",
    "print(x.grad)    #  We see there is no current gradient"
   ]
  },
  {
   "cell_type": "code",
   "execution_count": 42,
   "id": "8615e811",
   "metadata": {},
   "outputs": [
    {
     "data": {
      "text/plain": [
       "tensor([30.2500], grad_fn=<PowBackward0>)"
      ]
     },
     "execution_count": 42,
     "metadata": {},
     "output_type": "execute_result"
    }
   ],
   "source": [
    "# let's try computing f(x)\n",
    "value = f(x)\n",
    "value"
   ]
  },
  {
   "cell_type": "markdown",
   "id": "fc11dafa",
   "metadata": {},
   "source": [
    "Once we tell PyTorch to start calculating\n",
    "gradients, it begins to keep track of every computation we do. It uses this information\n",
    "to go backward and calculate the gradients for everything that was used and had a\n",
    "requires_grad flag set to True.\n",
    "\n",
    "Once we have a single scalar value, we can tell PyTorch to go back and use this\n",
    "information to compute the gradients. This is done using the .backward() function,\n",
    "after which we see a gradient in our original object:"
   ]
  },
  {
   "cell_type": "code",
   "execution_count": 43,
   "id": "b4b5d55c",
   "metadata": {},
   "outputs": [
    {
     "name": "stdout",
     "output_type": "stream",
     "text": [
      "tensor([-11.])\n"
     ]
    }
   ],
   "source": [
    "value.backward()\n",
    "print(x.grad)"
   ]
  },
  {
   "cell_type": "markdown",
   "id": "0bc5483f",
   "metadata": {},
   "source": [
    "## Minimizing a function with derivatives"
   ]
  },
  {
   "cell_type": "code",
   "execution_count": 44,
   "id": "a1c5e16e",
   "metadata": {},
   "outputs": [
    {
     "data": {
      "text/plain": [
       "tensor([-3.5000], requires_grad=True)"
      ]
     },
     "execution_count": 44,
     "metadata": {},
     "output_type": "execute_result"
    }
   ],
   "source": [
    "x = torch.tensor([-3.5], requires_grad= True)\n",
    "x"
   ]
  },
  {
   "cell_type": "code",
   "execution_count": 46,
   "id": "8356debb",
   "metadata": {},
   "outputs": [
    {
     "data": {
      "text/plain": [
       "tensor([-3.5000], grad_fn=<CloneBackward0>)"
      ]
     },
     "execution_count": 46,
     "metadata": {},
     "output_type": "execute_result"
    }
   ],
   "source": [
    "x_cur = x.clone()\n",
    "x_cur"
   ]
  },
  {
   "cell_type": "code",
   "execution_count": 47,
   "id": "4994858a",
   "metadata": {},
   "outputs": [
    {
     "name": "stdout",
     "output_type": "stream",
     "text": [
      "tensor([2.0000])\n"
     ]
    }
   ],
   "source": [
    "x_prev = x_cur*100\n",
    "epsilon = 1e-5     # threshold for the current and previous value to be close enough that we stop\n",
    "eta = 0.1    # learning rate\n",
    "\n",
    "while torch.linalg.norm(x_cur - x_prev) > epsilon:\n",
    "    x_prev = x_cur.clone()    # Makes a clone so x_prev and x_cur don’t point to the same object\n",
    "    value = f(x)\n",
    "    value .backward()\n",
    "    x.data -= eta * x.grad\n",
    "    x.grad.zero_()\n",
    "    x_cur = x.data\n",
    "print(x_cur)"
   ]
  },
  {
   "cell_type": "markdown",
   "id": "376a407d",
   "metadata": {},
   "source": [
    "## Loading dataset objects"
   ]
  },
  {
   "cell_type": "code",
   "execution_count": 49,
   "id": "fbf793d6",
   "metadata": {},
   "outputs": [],
   "source": [
    "from torch.utils.data import Dataset\n",
    "from sklearn.datasets import fetch_openml   #mnist 784, https://www.openml.org/d/554"
   ]
  },
  {
   "cell_type": "code",
   "execution_count": 50,
   "id": "a1d9b1d2",
   "metadata": {},
   "outputs": [
    {
     "name": "stdout",
     "output_type": "stream",
     "text": [
      "(70000, 784)\n"
     ]
    }
   ],
   "source": [
    "X, y= fetch_openml('mnist_784', version= 1, return_X_y = True)\n",
    "print(X.shape)"
   ]
  },
  {
   "cell_type": "code",
   "execution_count": 51,
   "id": "9c1335d6",
   "metadata": {},
   "outputs": [],
   "source": [
    "class SimpleDataset(Dataset):\n",
    "    def __init__(self, X, y):\n",
    "        super(SimpleDataset, self).__init__()\n",
    "        self.X = X\n",
    "        self.y = y\n",
    "        \n",
    "    def __getitem__(self, index):\n",
    "        inputs = torch.tensor(self.X[index, :], dtype = torch.float32)\n",
    "        targets = torch.tensor(int(self.y[index]), dtype = torch.int64)\n",
    "        return inputs, targets\n",
    "    \n",
    "    def __len__(self):\n",
    "        return self.X.shape[0]"
   ]
  },
  {
   "cell_type": "code",
   "execution_count": 54,
   "id": "f41913a7",
   "metadata": {},
   "outputs": [
    {
     "name": "stdout",
     "output_type": "stream",
     "text": [
      "Length: 70000\n"
     ]
    }
   ],
   "source": [
    "dataset = SimpleDataset(X, y)    #  Makes a PyTorch dataset\n",
    "print('Length:', len(dataset))"
   ]
  },
  {
   "cell_type": "markdown",
   "id": "570c81a7",
   "metadata": {},
   "source": [
    "### Creating a training and testing split"
   ]
  },
  {
   "cell_type": "code",
   "execution_count": 57,
   "id": "7d24beb2",
   "metadata": {},
   "outputs": [
    {
     "name": "stdout",
     "output_type": "stream",
     "text": [
      "56000\n",
      "14000\n"
     ]
    }
   ],
   "source": [
    "train_size = int(len(dataset) * 0.8)\n",
    "test_size = len(dataset) - train_size\n",
    "\n",
    "print(train_size)\n",
    "print(test_size)"
   ]
  },
  {
   "cell_type": "code",
   "execution_count": 61,
   "id": "f4f2ee5b",
   "metadata": {},
   "outputs": [
    {
     "name": "stdout",
     "output_type": "stream",
     "text": [
      "56000 examples for training and 14000 for testing\n"
     ]
    }
   ],
   "source": [
    "train_dataset, test_dataset = torch.utils.data.random_split(dataset, (train_size, test_size))\n",
    "\n",
    "print(\"{} examples for training and {} for testing\".format(len(train_dataset), len(test_dataset)))"
   ]
  }
 ],
 "metadata": {
  "kernelspec": {
   "display_name": "Python 3 (ipykernel)",
   "language": "python",
   "name": "python3"
  },
  "language_info": {
   "codemirror_mode": {
    "name": "ipython",
    "version": 3
   },
   "file_extension": ".py",
   "mimetype": "text/x-python",
   "name": "python",
   "nbconvert_exporter": "python",
   "pygments_lexer": "ipython3",
   "version": "3.9.7"
  }
 },
 "nbformat": 4,
 "nbformat_minor": 5
}
