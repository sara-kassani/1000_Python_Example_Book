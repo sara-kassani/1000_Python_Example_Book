{
 "cells": [
  {
   "cell_type": "markdown",
   "metadata": {},
   "source": [
    "# Face Mask Classification (part 2)\n",
    "#### CHAPTER 13: _Adversarial Robustness_\n",
    "##### From **[Interpretable Machine Learning with Python](https://www.packtpub.com/product/interpretable-machine-learning-with-python/9781800203907)** by Serg Masís, published by Packt"
   ]
  },
  {
   "cell_type": "markdown",
   "metadata": {},
   "source": [
    "## The Preparations"
   ]
  },
  {
   "cell_type": "markdown",
   "metadata": {},
   "source": [
    "### Installing the Libraries"
   ]
  },
  {
   "cell_type": "markdown",
   "metadata": {},
   "source": [
    "These are all already installed on Google Colab by default so install only if running elsewhere (and ***not already installed***):"
   ]
  },
  {
   "cell_type": "code",
   "execution_count": null,
   "metadata": {},
   "outputs": [],
   "source": [
    "!pip install --upgrade numpy scikit-learn tensorflow matplotlib seaborn tqdm"
   ]
  },
  {
   "cell_type": "markdown",
   "metadata": {},
   "source": [
    "Install these if running on Google Colab or ***not already installed***:"
   ]
  },
  {
   "cell_type": "code",
   "execution_count": null,
   "metadata": {},
   "outputs": [],
   "source": [
    "!pip install --upgrade machine-learning-datasets\n",
    "!pip install --upgrade adversarial-robustness-toolbox"
   ]
  },
  {
   "cell_type": "markdown",
   "metadata": {},
   "source": [
    "### Loading the Libraries"
   ]
  },
  {
   "cell_type": "code",
   "execution_count": 1,
   "metadata": {},
   "outputs": [],
   "source": [
    "import math\n",
    "import os\n",
    "os.environ['TF_CPP_MIN_LOG_LEVEL'] = '3'\n",
    "import warnings\n",
    "warnings.filterwarnings('ignore')\n",
    "import machine_learning_datasets as mldatasets\n",
    "import numpy as np\n",
    "from sklearn import preprocessing\n",
    "import tensorflow as tf\n",
    "tf.keras.backend.set_floatx('float32')\n",
    "from tensorflow.keras.utils import get_file\n",
    "from tensorflow.keras.models import load_model\n",
    "from tensorflow.keras.models import Sequential\n",
    "from tensorflow.keras.layers import Dense, Flatten, Conv2D, MaxPooling2D, Dropout\n",
    "import matplotlib.pyplot as plt\n",
    "import seaborn as sns\n",
    "from art.estimators.classification import TensorFlowV2Classifier\n",
    "from art.estimators.certification.randomized_smoothing import TensorFlowV2RandomizedSmoothing\n",
    "from art.utils import compute_accuracy"
   ]
  },
  {
   "cell_type": "markdown",
   "metadata": {},
   "source": [
    "### Understanding and Preparing the Data"
   ]
  },
  {
   "cell_type": "code",
   "execution_count": 2,
   "metadata": {},
   "outputs": [
    {
     "name": "stdout",
     "output_type": "stream",
     "text": [
      "https://github.com/PacktPublishing/Interpretable-Machine-Learning-with-Python/raw/master/datasets/maskedface-net_thumbs_sampled.zip downloaded to /Users/smasis/Documents/OTHER/InterpretableMLBook/programming/Chapter13/data/maskedface-net_thumbs_sampled.zip\n",
      "/Users/smasis/Documents/OTHER/InterpretableMLBook/programming/Chapter13/data/maskedface-net_thumbs_sampled.zip uncompressed to /Users/smasis/Documents/OTHER/InterpretableMLBook/programming/Chapter13/data/maskedface-net_thumbs_sampled\n",
      "21000 dataset files found in /Users/smasis/Documents/OTHER/InterpretableMLBook/programming/Chapter13/data/maskedface-net_thumbs_sampled folder\n"
     ]
    }
   ],
   "source": [
    "X_train, X_test, y_train, y_test =\\\n",
    "                                    mldatasets.load(\"maskedface-net_thumbs_sampled\", prepare=True)\n",
    "X_train, X_test = X_train / 255.0, X_test / 255.0\n",
    "min_ = X_train.min()\n",
    "max_ = X_train.max()"
   ]
  },
  {
   "cell_type": "code",
   "execution_count": 68,
   "metadata": {},
   "outputs": [
    {
     "name": "stdout",
     "output_type": "stream",
     "text": [
      "X_train dim:\t(16800, 128, 128, 3)\n",
      "X_test dim:\t(4200, 128, 128, 3)\n",
      "y_train dim:\t(16800, 1)\n",
      "y_test dim:\t(4200, 1)\n",
      "X_train min:\t0.0\n",
      "X_train max:\t1.0\n",
      "y_train labels:\t['Correct' 'Incorrect' 'None']\n"
     ]
    }
   ],
   "source": [
    "print('X_train dim:\\t%s' % (X_train.shape,))\n",
    "print('X_test dim:\\t%s' % (X_test.shape,))\n",
    "print('y_train dim:\\t%s' % (y_train.shape,))\n",
    "print('y_test dim:\\t%s' % (y_test.shape,))\n",
    "print('X_train min:\\t%s' % (min_))\n",
    "print('X_train max:\\t%s' % (max_))\n",
    "print('y_train labels:\\t%s' % (np.unique(y_train)))"
   ]
  },
  {
   "cell_type": "code",
   "execution_count": 5,
   "metadata": {},
   "outputs": [
    {
     "name": "stdout",
     "output_type": "stream",
     "text": [
      "['Correct', 'Incorrect', 'None']\n"
     ]
    }
   ],
   "source": [
    "ohe = preprocessing.OneHotEncoder(sparse=False)\n",
    "ohe.fit(y_train)\n",
    "labels_l = ohe.categories_[0].tolist()\n",
    "print(labels_l)"
   ]
  },
  {
   "cell_type": "code",
   "execution_count": 3,
   "metadata": {},
   "outputs": [],
   "source": [
    "rand = 9\n",
    "os.environ['PYTHONHASHSEED'] = str(rand)\n",
    "tf.random.set_seed(rand)\n",
    "np.random.seed(rand)"
   ]
  },
  {
   "cell_type": "code",
   "execution_count": 4,
   "metadata": {},
   "outputs": [],
   "source": [
    "sampl_md_idxs = np.random.choice(X_test.shape[0], 200, replace=False)\n",
    "X_test_mdsample = X_test[sampl_md_idxs].astype(np.float32)\n",
    "y_test_mdsample = y_test[sampl_md_idxs]"
   ]
  },
  {
   "cell_type": "markdown",
   "metadata": {},
   "source": [
    "## Evaluating and Certifying Adversarial Robustness"
   ]
  },
  {
   "cell_type": "markdown",
   "metadata": {},
   "source": [
    "### Certifying Robustness with Randomized Smoothing"
   ]
  },
  {
   "cell_type": "code",
   "execution_count": 129,
   "metadata": {},
   "outputs": [],
   "source": [
    "nb_epochs = 10\n",
    "batch_size = 128\n",
    "optimizer = tf.keras.optimizers.Adam(lr=0.001)\n",
    "loss_object = tf.keras.losses.CategoricalCrossentropy()\n",
    "nb_classes = len(np.unique(y_train))\n",
    "sample_size = 100\n",
    "\n",
    "X_train, X_test_mdsample = X_train.astype(np.float32), X_test_mdsample.astype(np.float32)\n",
    "y_train_ohe = ohe.transform(y_train).astype(np.float32)\n",
    "y_test_mdsample_ohe = ohe.transform(y_test_mdsample).astype(np.float32)"
   ]
  },
  {
   "cell_type": "code",
   "execution_count": 204,
   "metadata": {},
   "outputs": [],
   "source": [
    "def get_model(input_shape, min_, max_):\n",
    "    test_model = Sequential([\n",
    "        Conv2D(16, (3, 3), activation='relu', input_shape=input_shape),\n",
    "        MaxPooling2D(pool_size=(2, 2)),\n",
    "        Conv2D(32, (3, 3), activation='relu'),\n",
    "        MaxPooling2D(pool_size=(2, 2)),\n",
    "        Conv2D(64, (3, 3), activation='relu'),\n",
    "        MaxPooling2D(pool_size=(2, 2)),\n",
    "        Conv2D(128, (3, 3), activation='relu'),\n",
    "        MaxPooling2D(pool_size=(2, 2)),\n",
    "        Flatten(),\n",
    "        Dense(768, activation='relu'),\n",
    "        Dropout(0.35),\n",
    "        Dense(3, activation='softmax')\n",
    "    ])\n",
    "    \n",
    "    return test_model"
   ]
  },
  {
   "cell_type": "code",
   "execution_count": 133,
   "metadata": {},
   "outputs": [],
   "source": [
    "def train_step(model, images, labels):        \n",
    "    with tf.GradientTape() as tape:\n",
    "        predictions = model(images, training=True)\n",
    "        loss = loss_object(labels, predictions)\n",
    "    gradients = tape.gradient(loss, model.trainable_variables)\n",
    "    optimizer.apply_gradients(zip(gradients, model.trainable_variables))"
   ]
  },
  {
   "cell_type": "code",
   "execution_count": 134,
   "metadata": {},
   "outputs": [],
   "source": [
    "def train_rs_classifier(X_train, y_train, nb_epochs, batch_size, min_, max_,\\\n",
    "                        nb_classes, sample_size, loss_object, train_step, sigma=0, sigma_cert=0.5,\\\n",
    "                        alpha=0.001):\n",
    "    \n",
    "    input_shape = X_train.shape[1:]\n",
    "    if sigma > 0:\n",
    "        rs_classifier = TensorFlowV2RandomizedSmoothing(model=get_model(input_shape, min_, max_),\\\n",
    "                                                        input_shape=input_shape,\\\n",
    "                                                        clip_values=(min_, max_),\\\n",
    "                                                        nb_classes=nb_classes,\\\n",
    "                                                        sample_size=sample_size,\\\n",
    "                                                        loss_object=loss_object,\\\n",
    "                                                        train_step=train_step,\\\n",
    "                                                        scale=sigma, alpha=alpha,\\\n",
    "                                                        channels_first=False)\n",
    "        \n",
    "        rs_classifier.fit(X_train, y_train, nb_epochs=nb_epochs, batch_size=batch_size)\n",
    "        \n",
    "        return rs_classifier\n",
    "    else:\n",
    "        classifier = TensorFlowV2Classifier(model=get_model(input_shape, min_, max_),\\\n",
    "                                                input_shape=input_shape,\\\n",
    "                                                clip_values=(min_, max_),\\\n",
    "                                                nb_classes=nb_classes,\\\n",
    "                                                loss_object=loss_object,\\\n",
    "                                                train_step=train_step,\\\n",
    "                                                channels_first=False)\n",
    "        \n",
    "        classifier.fit(X_train, y_train, nb_epochs=nb_epochs, batch_size=batch_size)\n",
    "        \n",
    "        rs_classifier = TensorFlowV2RandomizedSmoothing(model=classifier.model,\\\n",
    "                                                        input_shape=input_shape,\\\n",
    "                                                        clip_values=(min_, max_),\\\n",
    "                                                        nb_classes=nb_classes,\\\n",
    "                                                        sample_size=sample_size,\\\n",
    "                                                        loss_object=loss_object,\\\n",
    "                                                        train_step=train_step,\\\n",
    "                                                        scale=sigma_cert, alpha=alpha,\\\n",
    "                                                        channels_first=False)\n",
    "        return classifier, rs_classifier"
   ]
  },
  {
   "cell_type": "code",
   "execution_count": 149,
   "metadata": {},
   "outputs": [
    {
     "name": "stdout",
     "output_type": "stream",
     "text": [
      "CPU times: user 1h 36min 30s, sys: 4min 26s, total: 1h 40min 57s\n",
      "Wall time: 12min 33s\n"
     ]
    }
   ],
   "source": [
    "sigma_0 = 0\n",
    "classifier_0, rs_classifier_0 = train_rs_classifier(X_train, y_train_ohe, nb_epochs,\\\n",
    "                                                    batch_size, min_, max_, nb_classes,\\\n",
    "                                                    sample_size, loss_object, train_step,\\\n",
    "                                                    sigma_0) \n",
    "\n",
    "sigma_1 = 0.25\n",
    "rs_classifier_1 = train_rs_classifier(X_train, y_train_ohe, nb_epochs, batch_size,\\\n",
    "                                      min_, max_, nb_classes, sample_size, loss_object,\\\n",
    "                                      train_step, sigma_1)\n",
    "\n",
    "sigma_2 = 0.5\n",
    "rs_classifier_2 = train_rs_classifier(X_train, y_train_ohe, nb_epochs, batch_size,\\\n",
    "                                      min_, max_, nb_classes, sample_size, loss_object,\\\n",
    "                                      train_step, sigma_2)"
   ]
  },
  {
   "cell_type": "code",
   "execution_count": 150,
   "metadata": {},
   "outputs": [
    {
     "name": "stderr",
     "output_type": "stream",
     "text": [
      "Randomized smoothing: 100%|██████████| 200/200 [01:03<00:00,  3.15it/s]\n",
      "Randomized smoothing: 100%|██████████| 200/200 [01:03<00:00,  3.13it/s]\n"
     ]
    }
   ],
   "source": [
    "y_preds_0 = classifier_0.predict(X_test_mdsample)\n",
    "y_preds_rs_1 = rs_classifier_1.predict(X_test_mdsample)\n",
    "y_preds_rs_2 = rs_classifier_2.predict(X_test_mdsample)"
   ]
  },
  {
   "cell_type": "code",
   "execution_count": 198,
   "metadata": {},
   "outputs": [
    {
     "name": "stdout",
     "output_type": "stream",
     "text": [
      "Original Classifier\n",
      "\tAccuracy: 99.50%\tCoverage: 100.00%\n",
      "\n",
      "Smoothed Classifier (σ=0.25)\n",
      "\tAccuracy: 100.00%\tCoverage: 99.50%\n",
      "\n",
      "Smoothed Classifier (σ=0.50)\n",
      "\tAccuracy: 98.99%\tCoverage: 99.50%\n"
     ]
    }
   ],
   "source": [
    "acc_0, cov_0 = compute_accuracy(y_preds_0, y_test_mdsample_ohe)\n",
    "acc_rs_1, cov_rs_1 = compute_accuracy(y_preds_rs_1, y_test_mdsample_ohe)\n",
    "acc_rs_2, cov_rs_2 = compute_accuracy(y_preds_rs_2, y_test_mdsample_ohe)\n",
    "\n",
    "print(\"Original Classifier\")\n",
    "print(\"\\tAccuracy: %.2f%%\\tCoverage: %.2f%%\" % (acc_0*100, cov_0*100))\n",
    "\n",
    "print(\"\\nSmoothed Classifier (σ=%.2f)\" % (sigma_1))\n",
    "print(\"\\tAccuracy: %.2f%%\\tCoverage: %.2f%%\" % (acc_rs_1*100, cov_rs_1*100))\n",
    "\n",
    "print(\"\\nSmoothed Classifier (σ=%.2f)\" % (sigma_2))\n",
    "print(\"\\tAccuracy: %.2f%%\\tCoverage: %.2f%%\" % (acc_rs_2*100, cov_rs_2*100))"
   ]
  },
  {
   "cell_type": "code",
   "execution_count": 168,
   "metadata": {},
   "outputs": [
    {
     "name": "stdout",
     "output_type": "stream",
     "text": [
      "CPU times: user 1h 16min 3s, sys: 8min 31s, total: 1h 24min 35s\n",
      "Wall time: 20min 52s\n"
     ]
    }
   ],
   "source": [
    "%%time\n",
    "predictions_0, radiuses_0 = rs_classifier_0.certify(X_test_mdsample, n=500)\n",
    "predictions_1, radiuses_1 = rs_classifier_1.certify(X_test_mdsample, n=500)\n",
    "predictions_2, radiuses_2 = rs_classifier_2.certify(X_test_mdsample, n=500)"
   ]
  },
  {
   "cell_type": "code",
   "execution_count": 178,
   "metadata": {},
   "outputs": [],
   "source": [
    "def calc_cert_accuracy(radius_list, predictions, radiuses, y_test):\n",
    "    \n",
    "    cert_accuracy = []\n",
    "    nb_certs = len(radiuses)\n",
    "    \n",
    "    for r in radius_list:\n",
    "        r_idx = np.where(radiuses >= r)[0]\n",
    "        y_test_subset = y_test[r_idx]\n",
    "        cert_accuracy_r = np.sum(predictions[r_idx] == np.argmax(y_test_subset, axis=1)) / nb_certs\n",
    "        cert_accuracy.append(cert_accuracy_r)\n",
    "        \n",
    "    return cert_accuracy"
   ]
  },
  {
   "cell_type": "code",
   "execution_count": 186,
   "metadata": {},
   "outputs": [],
   "source": [
    "radius_list = np.linspace(0, 1.5, 151)\n",
    "cert_accuracy_0 = calc_cert_accuracy(radius_list, predictions_0,\\\n",
    "                                     radiuses_0, y_test_mdsample_ohe)\n",
    "cert_accuracy_1 = calc_cert_accuracy(radius_list, predictions_1,\\\n",
    "                                     radiuses_1, y_test_mdsample_ohe)\n",
    "cert_accuracy_2 = calc_cert_accuracy(radius_list, predictions_2,\\\n",
    "                                     radiuses_2, y_test_mdsample_ohe)"
   ]
  },
  {
   "cell_type": "code",
   "execution_count": 203,
   "metadata": {},
   "outputs": [
    {
     "data": {
      "image/png": "[encoded data removed]",
      "text/plain": [
       "<Figure size 1008x648 with 1 Axes>"
      ]
     },
     "metadata": {},
     "output_type": "display_data"
    }
   ],
   "source": [
    "plt.figure(figsize=(14,9))\n",
    "plt.plot(radius_list, cert_accuracy_0, 'r-', label='original')\n",
    "plt.plot(radius_list, cert_accuracy_1,\\\n",
    "         '-', color='green', label='smoothed, $\\sigma$=' + str(sigma_1))\n",
    "plt.plot(radius_list, cert_accuracy_2,\\\n",
    "         '-', color='blue', label='smoothed, $\\sigma$=' + str(sigma_2))\n",
    "plt.xlabel('Radius', fontsize=14)\n",
    "plt.ylabel('Certified Accuracy', fontsize=14)\n",
    "plt.legend()\n",
    "plt.show()"
   ]
  }
 ],
 "metadata": {
  "kernelspec": {
   "display_name": "Python 3",
   "language": "python",
   "name": "python3"
  },
  "language_info": {
   "codemirror_mode": {
    "name": "ipython",
    "version": 3
   },
   "file_extension": ".py",
   "mimetype": "text/x-python",
   "name": "python",
   "nbconvert_exporter": "python",
   "pygments_lexer": "ipython3",
   "version": "3.8.5"
  }
 },
 "nbformat": 4,
 "nbformat_minor": 4
}
