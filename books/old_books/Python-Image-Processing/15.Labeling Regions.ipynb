{
 "cells": [
  {
   "cell_type": "code",
   "execution_count": 2,
   "metadata": {},
   "outputs": [
    {
     "name": "stdout",
     "output_type": "stream",
     "text": [
      "155.58017994747945 112.6574109948771\n",
      "375.59904577847567 108.5029592946008\n",
      "563.5524017467249 217.9868995633188\n",
      "148.0 337.0\n",
      "440.91484667990295 370.1058901389808\n"
     ]
    },
    {
     "data": {
      "image/png": "[encoded data removed]",
      "text/plain": [
       "<matplotlib.figure.Figure at 0x7fc913912dd8>"
      ]
     },
     "metadata": {},
     "output_type": "display_data"
    }
   ],
   "source": [
    "import numpy, math\n",
    "import scipy.misc\n",
    "import matplotlib.pyplot as plt\n",
    "import matplotlib.patches as mpatches\n",
    "from skimage.measure  import label\n",
    "from scipy.misc.pilutil import Image\n",
    "from skimage.measure import regionprops\n",
    "from skimage.filters.thresholding import threshold_otsu\n",
    "\n",
    "# opening the image and converting it to grayscale \n",
    "a = Image.open('objects.png').convert('L') \n",
    "# a is converted to an ndarray\n",
    "a = scipy.misc.fromimage(a)\n",
    "# threshold value is determined by \n",
    "# using Otsu's method\n",
    "\n",
    "thresh = threshold_otsu(a)\n",
    "# the pixels with intensity greater than \n",
    "# theshold are kept\n",
    "b = a > thresh\n",
    "# labelling is performed on b\n",
    "c = label(b)\n",
    "# c is converted from an ndarray to an image \n",
    "c1 = scipy.misc.toimage(c)\n",
    "# c1 is saved as label_output.png\n",
    "c1.save('label_output.png')\n",
    "# on the labelled image c, regionprops is performed\n",
    "\n",
    "d = regionprops(c)\n",
    "\n",
    "# the following command creates an empty plot of \n",
    "# dimension 6 inch by 6 inch\n",
    "fig, ax = plt.subplots(ncols=1,nrows=1,figsize=(6, 6))\n",
    "# plots the label image on the \n",
    "# previous plot using colormap  \n",
    "ax.imshow(c, cmap='YlOrRd')\n",
    "  \n",
    "for i in d:\n",
    "    # printing the x and y values of the\n",
    "    # centroid where centroid[1] is the x value \n",
    "    # and centroid[0] is the y value\n",
    "    print (i['Centroid'][1],i['Centroid'][0])\n",
    "    # plot a red circle at the centroid, ro stands\n",
    "    # for red\n",
    "    plt.plot(i['Centroid'][1],i['Centroid'][0],'ro')\n",
    "    # In the bounding box, (lr,lc) are the \n",
    "    # co-ordinates of the lower left corner and \n",
    "    # (ur,uc) are the co-ordinates \n",
    "    # of the top right corner \n",
    "    lr, lc, ur, uc = i['BoundingBox']\n",
    "    # the width and the height of the bounding box\n",
    "    # is computed\n",
    "    rec_width = uc - lc\n",
    "    rec_height = ur - lr\n",
    "    \n",
    "    # Rectangular boxes with \n",
    "\t# origin at (lr,lc) are drawn \n",
    "    rect = mpatches.Rectangle((lc, lr),rec_width,\n",
    "           rec_height,fill=False,edgecolor='black',\n",
    "           linewidth=2)\n",
    "    # this adds the rectangular boxes to the plot\n",
    "    ax.add_patch(rect)\n",
    "\t\n",
    "# displays the plot\n",
    "plt.show()\n"
   ]
  }
 ],
 "metadata": {
  "kernelspec": {
   "display_name": "Python 3",
   "language": "python",
   "name": "python3"
  },
  "language_info": {
   "codemirror_mode": {
    "name": "ipython",
    "version": 3
   },
   "file_extension": ".py",
   "mimetype": "text/x-python",
   "name": "python",
   "nbconvert_exporter": "python",
   "pygments_lexer": "ipython3",
   "version": "3.6.3"
  }
 },
 "nbformat": 4,
 "nbformat_minor": 2
}
