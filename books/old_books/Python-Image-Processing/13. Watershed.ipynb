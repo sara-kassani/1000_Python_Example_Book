{
 "cells": [
  {
   "cell_type": "code",
   "execution_count": 2,
   "metadata": {
    "collapsed": true
   },
   "outputs": [],
   "source": [
    "import cv2\n",
    "from scipy.ndimage import label\n",
    "import scipy.misc\n",
    "from PIL import Image\n",
    "import numpy \n",
    "# from skimage.morphology import label \n",
    "\n",
    "# opening the image and converting it to grayscale\n",
    "a = cv2.imread('cellimage.png')\n",
    "# covnerting image from color to grayscale\n",
    "a1 = cv2.cvtColor(a, cv2.COLOR_BGR2GRAY)\n",
    "# thresholding the image to obtain cell pixels\n",
    "thresh,b1 = cv2.threshold(a1, 0, 255,\n",
    "            cv2.THRESH_BINARY_INV+cv2.THRESH_OTSU)\n",
    "# since Otsu's method has over segmented the image\n",
    "# erosion operation is performed \n",
    "b2 = cv2.erode(b1, None,iterations = 2)\n",
    "# distance transform is performed\n",
    "dist_trans = cv2.distanceTransform(b2, 2, 3)\n",
    "# thresholding the distance transform image to obtain \n",
    "# pixels that are foreground\n",
    "thresh, dt = cv2.threshold(dist_trans, 1, \n",
    "             255, cv2.THRESH_BINARY)\t\n",
    "# performing labeling \n",
    "#labelled = label(b, background = 0)\n",
    "labelled, ncc = label(dt)\n",
    "# labelled is converted to 32-bit integer\n",
    "labelled = labelled.astype(numpy.int32)\n",
    "# performing watershed \n",
    "cv2.watershed(a, labelled)\n",
    "# converting the ndarray to image\n",
    "dt1 = scipy.misc.toimage(labelled)  \n",
    "# saving the image as watershed_output.png\n",
    "#dt1.save('../Figures/watershed_output.png')"
   ]
  },
  {
   "cell_type": "code",
   "execution_count": 12,
   "metadata": {},
   "outputs": [],
   "source": [
    "labelled =  scipy.misc.toimage(dt)  "
   ]
  },
  {
   "cell_type": "code",
   "execution_count": 14,
   "metadata": {},
   "outputs": [
    {
     "data": {
      "image/png": "[encoded data removed]",
      "text/plain": [
       "<PIL.Image.Image image mode=L size=293x199 at 0x7F42CC1014E0>"
      ]
     },
     "execution_count": 14,
     "metadata": {},
     "output_type": "execute_result"
    }
   ],
   "source": [
    "labelled"
   ]
  },
  {
   "cell_type": "code",
   "execution_count": 17,
   "metadata": {},
   "outputs": [
    {
     "data": {
      "image/png": "[encoded data removed]",
      "text/plain": [
       "<PIL.Image.Image image mode=L size=293x199 at 0x7F42A048F6D8>"
      ]
     },
     "execution_count": 17,
     "metadata": {},
     "output_type": "execute_result"
    }
   ],
   "source": [
    "dt1"
   ]
  }
 ],
 "metadata": {
  "kernelspec": {
   "display_name": "Python 3",
   "language": "python",
   "name": "python3"
  },
  "language_info": {
   "codemirror_mode": {
    "name": "ipython",
    "version": 3
   },
   "file_extension": ".py",
   "mimetype": "text/x-python",
   "name": "python",
   "nbconvert_exporter": "python",
   "pygments_lexer": "ipython3",
   "version": "3.6.3"
  }
 },
 "nbformat": 4,
 "nbformat_minor": 2
}
