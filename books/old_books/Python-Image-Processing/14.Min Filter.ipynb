{
 "cells": [
  {
   "cell_type": "code",
   "execution_count": 7,
   "metadata": {},
   "outputs": [
    {
     "data": {
      "image/png": "[encoded data removed]",
      "text/plain": [
       "<PIL.Image.Image image mode=L size=256x246 at 0x7FE827136D30>"
      ]
     },
     "execution_count": 7,
     "metadata": {},
     "output_type": "execute_result"
    }
   ],
   "source": [
    "import scipy.misc\n",
    "import scipy.ndimage\n",
    "from scipy.misc.pilutil import Image\n",
    "\n",
    "# opening the image and converting it to grayscale \n",
    "a = Image.open('wave.png').convert('L')\n",
    "a"
   ]
  },
  {
   "cell_type": "code",
   "execution_count": 8,
   "metadata": {},
   "outputs": [
    {
     "data": {
      "image/png": "[encoded data removed]",
      "text/plain": [
       "<PIL.Image.Image image mode=L size=256x246 at 0x7FE827136908>"
      ]
     },
     "execution_count": 8,
     "metadata": {},
     "output_type": "execute_result"
    }
   ],
   "source": [
    "# performing minimum filter\n",
    "b = scipy.ndimage.filters.minimum_filter(a,size=5,\n",
    "    footprint=None,output=None,mode='reflect',\n",
    "    cval=0.0,origin=0)\n",
    "# b is converted from an ndarray to an image \n",
    "b = scipy.misc.toimage(b)\n",
    "# saving b as mino.png\n",
    "#b.save('../Figures/mino.png')\n",
    "b"
   ]
  },
  {
   "cell_type": "code",
   "execution_count": null,
   "metadata": {
    "collapsed": true
   },
   "outputs": [],
   "source": []
  }
 ],
 "metadata": {
  "kernelspec": {
   "display_name": "Python 3",
   "language": "python",
   "name": "python3"
  },
  "language_info": {
   "codemirror_mode": {
    "name": "ipython",
    "version": 3
   },
   "file_extension": ".py",
   "mimetype": "text/x-python",
   "name": "python",
   "nbconvert_exporter": "python",
   "pygments_lexer": "ipython3",
   "version": "3.6.3"
  }
 },
 "nbformat": 4,
 "nbformat_minor": 2
}
