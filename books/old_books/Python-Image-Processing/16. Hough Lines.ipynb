{
 "cells": [
  {
   "cell_type": "code",
   "execution_count": 13,
   "metadata": {},
   "outputs": [
    {
     "name": "stdout",
     "output_type": "stream",
     "text": [
      "[[[250.          1.3000001]]]\n"
     ]
    }
   ],
   "source": [
    "import numpy as np\n",
    "import scipy.misc, cv2\n",
    "\n",
    "# opening the image \n",
    "im = cv2.imread('hlines.png')\n",
    "# converting the image to grayscale\n",
    "a1 = cv2.cvtColor(im,cv2.COLOR_BGR2GRAY)\n",
    "# thresholding the image to obtain \n",
    "# only foreground pixels\n",
    "thresh,b1 = cv2.threshold(a1, 0, 255,\n",
    "            cv2.THRESH_BINARY_INV+cv2.THRESH_OTSU)\n",
    "# converting the thresholded ndarray to an image\n",
    "b2 = scipy.misc.toimage(b1)\n",
    "b2.save('hlines_thresh.png')\n",
    "# performing the Hough lines transform\n",
    "lines = cv2.HoughLines(b1,5,0.1,200)\n",
    "# printing the lines: distance and angle in radians\n",
    "print (lines)"
   ]
  },
  {
   "cell_type": "code",
   "execution_count": 16,
   "metadata": {},
   "outputs": [
    {
     "data": {
      "image/png": "[encoded data removed]",
      "text/plain": [
       "<PIL.Image.Image image mode=L size=588x348 at 0x7F21F8A07748>"
      ]
     },
     "execution_count": 16,
     "metadata": {},
     "output_type": "execute_result"
    }
   ],
   "source": [
    "b2"
   ]
  }
 ],
 "metadata": {
  "kernelspec": {
   "display_name": "Python 3",
   "language": "python",
   "name": "python3"
  },
  "language_info": {
   "codemirror_mode": {
    "name": "ipython",
    "version": 3
   },
   "file_extension": ".py",
   "mimetype": "text/x-python",
   "name": "python",
   "nbconvert_exporter": "python",
   "pygments_lexer": "ipython3",
   "version": "3.6.3"
  }
 },
 "nbformat": 4,
 "nbformat_minor": 2
}
