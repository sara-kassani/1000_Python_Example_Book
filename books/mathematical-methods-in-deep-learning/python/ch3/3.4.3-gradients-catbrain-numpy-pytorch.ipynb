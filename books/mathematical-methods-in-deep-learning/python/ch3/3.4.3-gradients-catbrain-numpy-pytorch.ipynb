{
 "cells": [
  {
   "cell_type": "code",
   "execution_count": 1,
   "metadata": {},
   "outputs": [
    {
     "name": "stdout",
     "output_type": "stream",
     "text": [
      "1.15.4\n",
      "1.1.0\n"
     ]
    }
   ],
   "source": [
    "import numpy as np\n",
    "print(np.__version__)\n",
    "import torch\n",
    "print(torch.__version__)\n",
    "import matplotlib.pyplot as plt"
   ]
  },
  {
   "cell_type": "code",
   "execution_count": 2,
   "metadata": {},
   "outputs": [
    {
     "name": "stdout",
     "output_type": "stream",
     "text": [
      "Solution via pseudo inverse: [ 1.07661761  0.89761672 -0.95816936]\n",
      "Loss at step 0: 19.5310081288\n",
      "Loss at step 100: 0.221647365442\n",
      "Loss at step 200: 0.217261482822\n",
      "Loss at step 300: 0.21723657621\n",
      "Loss at step 400: 0.217236135456\n",
      "Loss at step 500: 0.21723612699\n",
      "Loss at step 600: 0.217236126827\n",
      "Loss at step 700: 0.217236126824\n",
      "Loss at step 800: 0.217236126824\n",
      "Loss at step 900: 0.217236126824\n",
      "The solution via gradient descent is [ 1.07661761  0.89761672 -0.95816936]\n"
     ]
    }
   ],
   "source": [
    "X = np.array([[0.11, 0.09], [0.01, 0.02], [0.98, 0.91],\n",
    "              [0.12, 0.21], [0.98, 0.99], [0.85, 0.87],\n",
    "              [0.03, 0.14], [0.55, 0.45], [0.49, 0.51], \n",
    "              [0.99, 0.01], [0.02, 0.89], [0.31, 0.47],\n",
    "              [0.55, 0.29], [0.87, 0.76], [0.63, 0.24]])\n",
    "X = np.column_stack((X, np.ones(15))) \n",
    "y = np.array([-0.8, -0.97, 0.89, -0.67, 0.97, 0.72,\n",
    "              -0.83, 0.00, 0.00, 0.00, -0.09, -0.22, \n",
    "              -0.16, 0.63, 0.37])\n",
    "\n",
    "# Let us compute solution using pseudo inverse\n",
    "solution_pseudo = np.matmul(np.matmul(\n",
    "    np.linalg.inv(np.matmul(X.T, X)), X.T) , y)\n",
    "print(\"Solution via pseudo inverse: {}\".format(solution_pseudo)) \n",
    "\n",
    "\n",
    "y = y.reshape((-1, 1))\n",
    "X = torch.from_numpy(X)\n",
    "y = torch.from_numpy(y)\n",
    "\n",
    "# Let us define the torch module\n",
    "class LinearModel(torch.nn.Module):\n",
    "    def __init__(self, num_features):\n",
    "        super(LinearModel, self).__init__()\n",
    "        self.w = torch.nn.Parameter(\n",
    "            torch.rand(num_features, 1).type('torch.DoubleTensor'))\n",
    "    \n",
    "    def forward(self, X):\n",
    "        \"\"\"\n",
    "        In the forward function we accept a Tensor of input data \n",
    "        and we must return a Tensor of output data. \n",
    "        We can use Modules defined in the constructor as\n",
    "        well as arbitrary operators on Tensors.\n",
    "        \"\"\"\n",
    "        y_pred  = torch.mm(X, self.w) # Computes Xw\n",
    "        return y_pred\n",
    "\n",
    "num_unknowns = 3\n",
    "model =  LinearModel(num_features=num_unknowns)\n",
    "# Let us use  Pytorch MSE loss function\n",
    "loss_fn = torch.nn.MSELoss(reduction='sum')\n",
    "optimizer = torch.optim.SGD(model.parameters(), lr=1e-2)\n",
    "\n",
    "# Train model iteratively\n",
    "num_steps = 1000\n",
    "for step in range(num_steps):\n",
    "    y_pred = model(X)\n",
    "    loss = loss_fn(y_pred, y)\n",
    "    if step % 100 == 0:\n",
    "        print(\"Loss at step {}: {}\".format(step, loss))\n",
    "    \n",
    "    # Zero the gradients before running the backward pass.\n",
    "    optimizer.zero_grad()\n",
    "    # Compute the gradients for this step\n",
    "    loss.backward()\n",
    "    # Gradient descent\n",
    "    optimizer.step()\n",
    "\n",
    "solution_gd = np.squeeze(model.w.data.numpy())\n",
    "print(\"The solution via gradient descent is {}\".format(solution_gd))\n",
    "\n",
    "assert np.allclose(solution_pseudo, solution_gd)\n"
   ]
  }
 ],
 "metadata": {
  "kernelspec": {
   "display_name": "Python 2",
   "language": "python",
   "name": "python2"
  },
  "language_info": {
   "codemirror_mode": {
    "name": "ipython",
    "version": 2
   },
   "file_extension": ".py",
   "mimetype": "text/x-python",
   "name": "python",
   "nbconvert_exporter": "python",
   "pygments_lexer": "ipython2",
   "version": "2.7.10"
  }
 },
 "nbformat": 4,
 "nbformat_minor": 2
}
