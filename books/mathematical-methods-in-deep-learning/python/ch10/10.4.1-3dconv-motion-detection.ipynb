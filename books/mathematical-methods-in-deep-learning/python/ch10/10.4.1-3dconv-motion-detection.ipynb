{
 "cells": [
  {
   "cell_type": "markdown",
   "id": "c15b8400",
   "metadata": {},
   "source": [
    "# Motion detection via 3D convolution\n",
    "\n",
    "In section 10.4.1, we discussed how to detect motion in a sequence of consecutive images via 3D convolution. This notebook contains the fully functional code for the same."
   ]
  },
  {
   "cell_type": "code",
   "execution_count": 1,
   "id": "477568f3",
   "metadata": {},
   "outputs": [],
   "source": [
    "import cv2\n",
    "import numpy as np\n",
    "import torch\n",
    "import torch.nn as nn\n",
    "import torch.nn.functional as F\n",
    "import matplotlib.pyplot as plt\n",
    "import matplotlib.image as mpimg\n",
    "%matplotlib inline"
   ]
  },
  {
   "cell_type": "code",
   "execution_count": 2,
   "id": "eb910c40",
   "metadata": {},
   "outputs": [],
   "source": [
    "width = 320\n",
    "height = 320\n",
    "num_frames = 3"
   ]
  },
  {
   "cell_type": "code",
   "execution_count": 3,
   "id": "37cb5813",
   "metadata": {},
   "outputs": [],
   "source": [
    "def generate_img(centre_x, centre_y, radius):\n",
    "    \"\"\"\n",
    "    A helper function to help generate our artificial generated image\n",
    "    \"\"\"\n",
    "    img = np.ones([width, height], dtype=np.uint8) * 255\n",
    "    cv2.circle(img, (centre_x, centre_x), radius, (0, 0, 0), -1)\n",
    "    return img\n",
    "\n",
    "def tensor_to_img(x):\n",
    "    \"\"\"\n",
    "    Takes a tensor, does min-max normalization to scale the tensor to a value between 0 and 255\n",
    "    and returns the resulting numpy array\n",
    "    \"\"\"\n",
    "    x_norm = ((x - x.min()) / (x.max() - x.min())) * 255\n",
    "    return x_norm.to(torch.uint8).numpy()"
   ]
  },
  {
   "cell_type": "markdown",
   "id": "6c952be6",
   "metadata": {},
   "source": [
    "For the purpose of demonstration, let us artificially generate a sequence of images that simulates the motion of a ball. "
   ]
  },
  {
   "cell_type": "code",
   "execution_count": 4,
   "id": "1b4a8d4b",
   "metadata": {},
   "outputs": [],
   "source": [
    "center_x, center_y = 150, 150\n",
    "motion_x, motion_y = 30, 30\n",
    "radius = 40\n",
    "imgs = []\n",
    "\n",
    "for i in range(5):\n",
    "    circle_img = generate_img(center_x + i * motion_x, center_y + i * motion_y, radius)\n",
    "    imgs.append(circle_img)"
   ]
  },
  {
   "cell_type": "code",
   "execution_count": 21,
   "id": "ee1ad13e",
   "metadata": {},
   "outputs": [
    {
     "data": {
      "image/png": "[encoded data removed]",
      "text/plain": [
       "<Figure size 432x288 with 1 Axes>"
      ]
     },
     "metadata": {},
     "output_type": "display_data"
    },
    {
     "data": {
      "image/png": "[encoded data removed]",
      "text/plain": [
       "<Figure size 432x288 with 1 Axes>"
      ]
     },
     "metadata": {},
     "output_type": "display_data"
    },
    {
     "data": {
      "image/png": "[encoded data removed]",
      "text/plain": [
       "<Figure size 432x288 with 1 Axes>"
      ]
     },
     "metadata": {},
     "output_type": "display_data"
    },
    {
     "data": {
      "image/png": "[encoded data removed]",
      "text/plain": [
       "<Figure size 432x288 with 1 Axes>"
      ]
     },
     "metadata": {},
     "output_type": "display_data"
    },
    {
     "data": {
      "image/png": "[encoded data removed]",
      "text/plain": [
       "<Figure size 432x288 with 1 Axes>"
      ]
     },
     "metadata": {},
     "output_type": "display_data"
    }
   ],
   "source": [
    "# Let us take a look at the images\n",
    "for i, img in enumerate(imgs):\n",
    "    fig = plt.figure() \n",
    "    fig.suptitle(f\"Input T={i}\")\n",
    "    plt.imshow(img.astype(np.float32) / 255.0, cmap=\"gray\")\n",
    "    plt.xticks([])\n",
    "    plt.yticks([])"
   ]
  },
  {
   "cell_type": "markdown",
   "id": "09bcb135",
   "metadata": {},
   "source": [
    "Let us convert the list of images to a tensor of shape B x C x T x H x W, where B is batch size, C is number of channels, T is number of time steps (a.k.a length of image sequence), H is height and W is width. In our case, B = 1 and C = 1 because we are dealing a single sequence of grayscale images. T = 5 since we are looking at 5 consecutive images. H and W are both 320."
   ]
  },
  {
   "cell_type": "code",
   "execution_count": 6,
   "id": "6edcab8e",
   "metadata": {},
   "outputs": [],
   "source": [
    "img = torch.tensor([imgs], dtype=torch.float32) # [C, T, H, W] tensor where num channels (C) = 1\n",
    "img_batch = img.unsqueeze(0) # [B, C, T, H, W] tensor where batch size (B) = 1"
   ]
  },
  {
   "cell_type": "markdown",
   "id": "d4ef4ab7",
   "metadata": {},
   "source": [
    "Now, let us define the motion detection kernel. It is essentially two 2D smoothing kernels (with inverted weights) stacked along the T dimension, i.e.\n",
    "\n",
    "$$\n",
    "\\begin{bmatrix}\n",
    "\\begin{bmatrix}\n",
    "\\frac{-1}{9} & \\frac{-1}{9} & \\frac{-1}{9}\\\\\n",
    "\\frac{-1}{9} & \\frac{-1}{9} & \\frac{-1}{9}\\\\\n",
    "\\frac{-1}{9} & \\frac{-1}{9} & \\frac{-1}{9}\\\\\n",
    "\\end{bmatrix}\n",
    "\\begin{bmatrix}\n",
    "\\frac{1}{9} & \\frac{1}{9} & \\frac{1}{9}\\\\\n",
    "\\frac{1}{9} & \\frac{1}{9} & \\frac{1}{9}\\\\\n",
    "\\frac{1}{9} & \\frac{1}{9} & \\frac{1}{9}\\\\\n",
    "\\end{bmatrix}\n",
    "\\end{bmatrix}\n",
    "$$\n",
    "\n",
    "When there is motion, we expect pixels in the same spatial location in subsequent frames to have different values. Hence multiplying with the above kernel would result in high values (positive or negative depending on direction of motion) whenever there is motion in the input image."
   ]
  },
  {
   "cell_type": "code",
   "execution_count": 7,
   "id": "9b8bfb01",
   "metadata": {},
   "outputs": [
    {
     "name": "stdout",
     "output_type": "stream",
     "text": [
      "Kernel shape torch.Size([1, 1, 2, 3, 3])\n",
      "Kernel: tensor([[[[[-1., -1., -1.],\n",
      "           [-1., -1., -1.],\n",
      "           [-1., -1., -1.]],\n",
      "\n",
      "          [[ 1.,  1.,  1.],\n",
      "           [ 1.,  1.,  1.],\n",
      "           [ 1.,  1.,  1.]]]]])\n"
     ]
    }
   ],
   "source": [
    "# Let us define the motion detection kernel\n",
    "smoothing_2d_kernel = torch.tensor([[1, 1, 1], [1, 1, 1], [1, 1, 1]], dtype=torch.float32).unsqueeze(0)\n",
    "kernel = torch.cat([-smoothing_2d_kernel, smoothing_2d_kernel])\n",
    "# Conv 2D kernels need to be of shape (out_channel, in_channel, k_t, k_x, k_y). Since we are defining a single kernel\n",
    "# out_channel = in_channel = 1. So we unsqueeze to add those extra dimensions\n",
    "kernel = kernel.unsqueeze(0).unsqueeze(0) \n",
    "weight = nn.Parameter(data=kernel, requires_grad=False)\n",
    "print(f\"Kernel shape {kernel.shape}\\nKernel: {kernel}\")  # 1x1x3x3\n",
    "weight = nn.Parameter(data=kernel, requires_grad=False)"
   ]
  },
  {
   "cell_type": "code",
   "execution_count": 8,
   "id": "db2867cb",
   "metadata": {},
   "outputs": [],
   "source": [
    "# Let us convolve the motion detection kernel over the input image. \n",
    "# This can be done in 2 ways. \n",
    "# Using conv3d function\n",
    "out_tensor_1 = F.conv3d(img_batch, weight, padding=0)\n",
    "\n",
    "# Using conv3d layer\n",
    "# Conv3D layer\n",
    "conv3d = nn.Conv3d(1, 1, kernel_size=[2, 3, 3], stride=1, padding=0, bias=False)\n",
    "conv3d.weight = weight\n",
    "with torch.no_grad():\n",
    "    out_tensor_2 = conv3d(img_batch)"
   ]
  },
  {
   "cell_type": "code",
   "execution_count": 9,
   "id": "9e0e7d8b",
   "metadata": {},
   "outputs": [],
   "source": [
    "assert torch.allclose(out_tensor_1, out_tensor_2)"
   ]
  },
  {
   "cell_type": "markdown",
   "id": "815e5a11",
   "metadata": {},
   "source": [
    "In the images displayed below, gray represents regions of no motion. Black and white represent regions of motion"
   ]
  },
  {
   "cell_type": "code",
   "execution_count": 22,
   "id": "96ec19ad",
   "metadata": {},
   "outputs": [
    {
     "data": {
      "image/png": "[encoded data removed]",
      "text/plain": [
       "<Figure size 432x288 with 1 Axes>"
      ]
     },
     "metadata": {},
     "output_type": "display_data"
    },
    {
     "data": {
      "image/png": "[encoded data removed]",
      "text/plain": [
       "<Figure size 432x288 with 1 Axes>"
      ]
     },
     "metadata": {},
     "output_type": "display_data"
    },
    {
     "data": {
      "image/png": "[encoded data removed]",
      "text/plain": [
       "<Figure size 432x288 with 1 Axes>"
      ]
     },
     "metadata": {},
     "output_type": "display_data"
    },
    {
     "data": {
      "image/png": "[encoded data removed]",
      "text/plain": [
       "<Figure size 432x288 with 1 Axes>"
      ]
     },
     "metadata": {},
     "output_type": "display_data"
    }
   ],
   "source": [
    "for i, img_tensor in enumerate(out_tensor_1[0][0]):\n",
    "    img = tensor_to_img(img_tensor)\n",
    "    fig = plt.figure() \n",
    "    fig.suptitle(f\"Output: T={i}\")\n",
    "    plt.imshow(img.astype(np.float32) / 255.0, cmap=\"gray\")\n",
    "    plt.xticks([])\n",
    "    plt.yticks([])"
   ]
  }
 ],
 "metadata": {
  "kernelspec": {
   "display_name": "Python 3 (ipykernel)",
   "language": "python",
   "name": "python3"
  },
  "language_info": {
   "codemirror_mode": {
    "name": "ipython",
    "version": 3
   },
   "file_extension": ".py",
   "mimetype": "text/x-python",
   "name": "python",
   "nbconvert_exporter": "python",
   "pygments_lexer": "ipython3",
   "version": "3.8.0"
  }
 },
 "nbformat": 4,
 "nbformat_minor": 5
}
