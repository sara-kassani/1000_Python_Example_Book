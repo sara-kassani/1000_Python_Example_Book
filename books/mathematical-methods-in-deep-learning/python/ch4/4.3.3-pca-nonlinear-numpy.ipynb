{
 "cells": [
  {
   "cell_type": "code",
   "execution_count": 1,
   "metadata": {},
   "outputs": [
    {
     "name": "stdout",
     "output_type": "stream",
     "text": [
      "1.16.5\n"
     ]
    }
   ],
   "source": [
    "import numpy as np\n",
    "print(np.__version__)\n",
    "import matplotlib.pyplot as plt"
   ]
  },
  {
   "cell_type": "code",
   "execution_count": 2,
   "metadata": {},
   "outputs": [],
   "source": [
    "%run 4.3.2-common.ipynb"
   ]
  },
  {
   "cell_type": "code",
   "execution_count": 3,
   "metadata": {},
   "outputs": [
    {
     "name": "stdout",
     "output_type": "stream",
     "text": [
      "Principal values are [7.69700991e+03 3.56573502e+08]\n"
     ]
    },
    {
     "data": {
      "image/png": "[encoded data removed]",
      "text/plain": [
       "<Figure size 432x288 with 1 Axes>"
      ]
     },
     "metadata": {
      "needs_background": "light"
     },
     "output_type": "display_data"
    },
    {
     "data": {
      "image/png": "[encoded data removed]",
      "text/plain": [
       "<Figure size 432x288 with 1 Axes>"
      ]
     },
     "metadata": {
      "needs_background": "light"
     },
     "output_type": "display_data"
    },
    {
     "name": "stdout",
     "output_type": "stream",
     "text": [
      "Mean loss in information: 61.7361420404\n",
      " - high\n"
     ]
    }
   ],
   "source": [
    "N = 100\n",
    "# Create a random data vector\n",
    "x_0 = np.random.normal(0, 100, N)\n",
    "\n",
    "# Create a highly correlated non linear vector\n",
    "# x1 = 2x^2. Then, add random noise to it.\n",
    "x_1 = 2 * (x_0 ** 2) + np.random.normal(0, 5, N)\n",
    "\n",
    "# Create data matrix with x_0, x_1 as columns.\n",
    "X = np.column_stack((x_0, x_1))\n",
    "\n",
    "# Perform PCA\n",
    "principal_values, principal_components = pca(X)\n",
    "print(\"Principal values are {}\".format(principal_values))\n",
    "\n",
    "# Plot the pair of values as X and Y axes.\n",
    "# Because of the correlation, the points will\n",
    "# *not* be spread uniformly over the X-Y plane.\n",
    "# They will form a cluster around the curve\n",
    "# y = 2x^2.\n",
    "# The principal axis will not capture underlying\n",
    "# pattern of the non-linear data.\n",
    "plt.figure()\n",
    "plt.scatter(X[:, 0], X[: , 1], color=\"green\")\n",
    "plt.title('Non linear dataset')\n",
    "plt.xlabel('x0')\n",
    "plt.ylabel('x1')\n",
    "\n",
    "major_index = np.argmax(principal_values)\n",
    "minor_index = np.argmin(principal_values)\n",
    "\n",
    "draw_line(principal_components[:, major_index],\n",
    "          min_x=-1000, max_x=1000)\n",
    "draw_line(principal_components[:, minor_index],\n",
    "          min_x=-100, max_x=100, color=\"red\")\n",
    "plt.show()\n",
    "\n",
    "draw_line(principal_components[:, major_index],\n",
    "          min_x=-1000, max_x=1000)\n",
    "draw_line(principal_components[:, minor_index],\n",
    "          min_x=-500, max_x=500, color=\"red\")\n",
    "plt.show()\n",
    "\n",
    "\n",
    "# If we perform dimensionality reduction in this case,\n",
    "# there will be lots of loss in information.\n",
    "first_princpal_vec = principal_components[:,\n",
    "                                         major_index]\n",
    "first_princpal_vec = first_princpal_vec.reshape((-1,\n",
    "                                                 1))\n",
    "X_proj = np.dot(X, first_princpal_vec)\n",
    "X_back_proj = np.dot(X_proj,\n",
    "                     np.linalg.pinv(first_princpal_vec)) \n",
    "info_loss = np.sqrt(np.mean((X_back_proj - X)**2))\n",
    "print(\"Mean loss in information: {}\\n - high\".\\\n",
    "      format(info_loss))"
   ]
  }
 ],
 "metadata": {
  "kernelspec": {
   "display_name": "Python 2",
   "language": "python",
   "name": "python2"
  },
  "language_info": {
   "codemirror_mode": {
    "name": "ipython",
    "version": 2
   },
   "file_extension": ".py",
   "mimetype": "text/x-python",
   "name": "python",
   "nbconvert_exporter": "python",
   "pygments_lexer": "ipython2",
   "version": "2.7.10"
  }
 },
 "nbformat": 4,
 "nbformat_minor": 2
}
