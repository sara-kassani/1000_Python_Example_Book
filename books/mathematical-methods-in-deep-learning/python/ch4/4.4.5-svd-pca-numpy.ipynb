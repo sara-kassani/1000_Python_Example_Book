{
 "cells": [
  {
   "cell_type": "code",
   "execution_count": 1,
   "metadata": {},
   "outputs": [
    {
     "name": "stdout",
     "output_type": "stream",
     "text": [
      "1.16.5\n"
     ]
    }
   ],
   "source": [
    "\"\"\"\n",
    "PCA computation via SVD.\n",
    "Compares the PCA computed via SVD with\n",
    "direct computation using eigens of covariance\n",
    "matrix. Demonstrates that they are equal.\n",
    "\"\"\"\n",
    "import numpy as np\n",
    "print(np.__version__)"
   ]
  },
  {
   "cell_type": "code",
   "execution_count": 2,
   "metadata": {},
   "outputs": [],
   "source": [
    "%run 4.3.2-common.ipynb"
   ]
  },
  {
   "cell_type": "code",
   "execution_count": 3,
   "metadata": {},
   "outputs": [
    {
     "name": "stdout",
     "output_type": "stream",
     "text": [
      "Principal components obtained via PCA:\n",
      "[[-0.44419    -0.89593261]\n",
      " [-0.89593261  0.44419   ]]\n",
      "Principal components obtained via SVD:\n",
      "[[-0.44419    -0.89593261]\n",
      " [-0.89593261  0.44419   ]]\n"
     ]
    }
   ],
   "source": [
    "N = 100\n",
    "\n",
    "# We create a random feature vector\n",
    "x_0 = np.random.normal(0, 100, N)\n",
    "\n",
    "# Then we create another feature vector which is\n",
    "# highly correlated with the previous feature:\n",
    "# x1 = 2 * x0.\n",
    "# We add random noise to this second feature.\n",
    "x_1 = 2 * x_0 + np.random.normal(0, 20, N)\n",
    "\n",
    "# Create the data matrix with x0, x1 as columns\n",
    "X = np.column_stack((x_0, x_1))\n",
    "\n",
    "# Perform PCA (directly as eigen of covariance\n",
    "# matrix)\n",
    "principal_values, principal_components = pca(X)\n",
    "sorted_indices = np.argsort(-principal_values)\n",
    "print(\"Principal components obtained via PCA:\\n{}\"\\\n",
    "      .format(principal_components[:,\n",
    "                                   sorted_indices]))\n",
    "\n",
    "# Perform PCA via SVD following Mean subtraction\n",
    "X_mean = X - np.mean(X, axis=0)\n",
    "U, S, V_t = np.linalg.svd(X_mean)\n",
    "V = V_t.T\n",
    "\n",
    "# Columns of V are the principal components\n",
    "print(\"Principal components obtained via SVD:\\n{}\".\\\n",
    "      format(V))\n",
    "\n",
    "\n",
    "# Assert that principal components are the same\n",
    "for i in range(V.shape[1]):\n",
    "    # -V[:, i] is used as they can be in opposite\n",
    "    # direction\n",
    "    assert np.allclose(\n",
    "               V[:, i],\n",
    "               principal_components[:, sorted_indices[i]])\\\n",
    "           or np.allclose(\n",
    "               -V[:, i],\n",
    "               principal_components[:, sorted_indices[i]]) "
   ]
  }
 ],
 "metadata": {
  "kernelspec": {
   "display_name": "Python 2",
   "language": "python",
   "name": "python2"
  },
  "language_info": {
   "codemirror_mode": {
    "name": "ipython",
    "version": 2
   },
   "file_extension": ".py",
   "mimetype": "text/x-python",
   "name": "python",
   "nbconvert_exporter": "python",
   "pygments_lexer": "ipython2",
   "version": "2.7.10"
  }
 },
 "nbformat": 4,
 "nbformat_minor": 2
}
