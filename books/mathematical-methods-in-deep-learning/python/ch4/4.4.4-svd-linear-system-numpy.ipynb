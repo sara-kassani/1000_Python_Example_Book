{
 "cells": [
  {
   "cell_type": "code",
   "execution_count": 1,
   "metadata": {},
   "outputs": [
    {
     "name": "stdout",
     "output_type": "stream",
     "text": [
      "1.16.5\n"
     ]
    }
   ],
   "source": [
    "\"\"\"\n",
    "Solving small linear systems via SVD.\n",
    "case 0. Invertible matrix (demonstrates that SVD\n",
    "        is equivalento matrix inversion in the\n",
    "        simplest case)\n",
    "case 1. Non square matrix (over or under determined \n",
    "        system). Here matrix inversion does not work.\n",
    "        SVD finds the best approximation.\n",
    "\"\"\"\n",
    "import numpy as np\n",
    "print(np.__version__)"
   ]
  },
  {
   "cell_type": "code",
   "execution_count": 2,
   "metadata": {},
   "outputs": [],
   "source": [
    "%run 4.3.2-common.ipynb"
   ]
  },
  {
   "cell_type": "code",
   "execution_count": 3,
   "metadata": {},
   "outputs": [
    {
     "name": "stdout",
     "output_type": "stream",
     "text": [
      "Solution via inverse: [1. 2. 3.]\n",
      "Solution via SVD: [1. 2. 3.]\n"
     ]
    }
   ],
   "source": [
    "# Case 0: Invertible square matrix\n",
    "A = np.array([[1, 2, 1], [2, 2, 3], [1, 3, 3]])\n",
    "b = np.array([8, 15, 16])\n",
    "\n",
    "# Solve this via matrix inversion\n",
    "# i.e x = inv(A) *  b\n",
    "x_0 = np.matmul(np.linalg.inv(A), b)\n",
    "print(\"Solution via inverse: {}\".format(x_0))\n",
    "\n",
    "# Computation of inverse can be unstable. \n",
    "# Now solve this via SVD instead.\n",
    "U, S, V_t = np.linalg.svd(A)\n",
    "\n",
    "# A*x = b ==> U*S*V_t*x = b\n",
    "#         ==> S * V_t*x = U_t*b \n",
    "# (inv(U) is U_t, U being orthogonal)\n",
    "S_V_t_x = np.matmul(U.T, b)\n",
    "\n",
    "# V_t*x = inv(S) * U_t * b  \n",
    "# Inv(S) is easily computable as S is diagonal\n",
    "S_inv = np.diag(1 / S) \n",
    "V_t_x = np.matmul(S_inv, S_V_t_x)\n",
    "\n",
    "# x= V * inv(S) * U_t * b \n",
    "x_1 = np.matmul(V_t.T, V_t_x)\n",
    "print(\"Solution via SVD: {}\".format(x_1))\n",
    "\n",
    "# assert that the two solutions are more\n",
    "# or less identical\n",
    "assert np.allclose(x_0, x_1)"
   ]
  },
  {
   "cell_type": "code",
   "execution_count": 4,
   "metadata": {},
   "outputs": [
    {
     "name": "stdout",
     "output_type": "stream",
     "text": [
      "Solution via pseudo-inverse:\n",
      "[ 1.07661761  0.89761672 -0.95816936]\n",
      "Solution via SVD:\n",
      "[ 1.07661761  0.89761672 -0.95816936]\n"
     ]
    }
   ],
   "source": [
    "# Case 1: Non square matrices\n",
    "# Let us revisit our cat brain dataset \n",
    "\n",
    "A = np.array([[0.11, 0.09], [0.01, 0.02],\n",
    "              [0.98, 0.91], [0.12, 0.21],\n",
    "              [0.98, 0.99], [0.85, 0.87],\n",
    "              [0.03, 0.14], [0.55, 0.45],\n",
    "              [0.49, 0.51], [0.99, 0.01],\n",
    "              [0.02, 0.89], [0.31, 0.47],\n",
    "              [0.55, 0.29], [0.87, 0.76],\n",
    "              [0.63, 0.24]])\n",
    "A = np.column_stack((A, np.ones(15))) \n",
    "b = np.array([-0.8, -0.97, 0.89, -0.67,\n",
    "              0.97, 0.72, -0.83, 0.00,\n",
    "              0.00, 0.00, -0.09, -0.22,\n",
    "              -0.16, 0.63, 0.37])\n",
    "\n",
    "# One way to solve for this is via pseudo-inverse\n",
    "# i.e x = pseudo_inv(A) *  b\n",
    "x_0 = np.matmul(np.linalg.pinv(A), b)\n",
    "print(\"Solution via pseudo-inverse:\\n{}\".\\\n",
    "      format(x_0))\n",
    "\n",
    "# Computation of inverse can be unstable. \n",
    "# So let us try solving this via SVD instead\n",
    "\n",
    "# Now solve this via SVD instead.\n",
    "U, S, V_t = np.linalg.svd(A,\n",
    "                          full_matrices=False)\n",
    "# A*x = b ==> U*S*V_t*x = b\n",
    "#         ==> S * V_t*x = U_t*b \n",
    "# As inv(U) is U_t\n",
    "S_V_t_x = np.matmul(U.T, b)\n",
    "\n",
    "# V_t*x = inv(S) * U_t * b  \n",
    "# Inv(S) is easily computable as it is diagonal\n",
    "S_inv = np.diag(1 / S) \n",
    "V_t_x = np.matmul(S_inv, S_V_t_x)\n",
    "\n",
    "# x= V * inv(S) * U_t * b \n",
    "x_1 = np.matmul(V_t.T, V_t_x)\n",
    "print(\"Solution via SVD:\\n{}\".format(x_1))\n",
    "\n",
    "assert np.allclose(x_0, x_1)"
   ]
  }
 ],
 "metadata": {
  "kernelspec": {
   "display_name": "Python 2",
   "language": "python",
   "name": "python2"
  },
  "language_info": {
   "codemirror_mode": {
    "name": "ipython",
    "version": 2
   },
   "file_extension": ".py",
   "mimetype": "text/x-python",
   "name": "python",
   "nbconvert_exporter": "python",
   "pygments_lexer": "ipython2",
   "version": "2.7.10"
  }
 },
 "nbformat": 4,
 "nbformat_minor": 2
}
