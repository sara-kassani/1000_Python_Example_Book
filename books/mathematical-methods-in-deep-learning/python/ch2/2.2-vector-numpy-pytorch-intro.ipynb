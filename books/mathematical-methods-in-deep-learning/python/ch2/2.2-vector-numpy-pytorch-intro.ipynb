{
 "cells": [
  {
   "cell_type": "markdown",
   "metadata": {},
   "source": [
    "## Intro to Vectors with python numpy and pytorch"
   ]
  },
  {
   "cell_type": "code",
   "execution_count": 1,
   "metadata": {},
   "outputs": [
    {
     "name": "stdout",
     "output_type": "stream",
     "text": [
      "python version = 2.7.10 (default, Feb  6 2017, 23:53:20) \n",
      "[GCC 4.2.1 Compatible Apple LLVM 8.0.0 (clang-800.0.34)]\n",
      "numpy version = 1.16.5\n"
     ]
    }
   ],
   "source": [
    "# Reader may need to install numpy to make the\n",
    "# import statement work.\n",
    "import numpy as np\n",
    "import sys\n",
    "print(\"python version = {}\\nnumpy version = {}\".format(sys.version,\n",
    "                                                       np.__version__))"
   ]
  },
  {
   "cell_type": "code",
   "execution_count": 2,
   "metadata": {},
   "outputs": [
    {
     "name": "stdout",
     "output_type": "stream",
     "text": [
      "first element = 0.11 third_element = 0.98\n",
      "last_element = 0.63 second_last_element = 0.87\n",
      "second_to_fifth_elements: [0.01 0.98 0.12]\n",
      "first_to_third_elements: [0.11 0.01]  Last two elements: [0.87 0.63]\n",
      "Number of elements in v: 15\n"
     ]
    }
   ],
   "source": [
    "# A vector is an 1-dimensional array of numbers.\n",
    "# E.g., input hardness vector of our cat brain model\n",
    "v = np.array([0.11, 0.01, 0.98, 0.12, 0.98, 0.85, 0.03,\n",
    "              0.55, 0.49, 0.99, 0.02, 0.31, 0.55, 0.87,\n",
    "              0.63])\n",
    "\n",
    "# Individual elements of the vector can be accessed through\n",
    "# the square bracket operator with indices of the desired\n",
    "# element  within thosesquare brackets.\n",
    "# Index starts from zero, not one.\n",
    "first_element = v[0]\n",
    "third_element = v[2]\n",
    "print(\"first element = {} third_element = {}\".\\\n",
    "      format(first_element, third_element))\n",
    "\n",
    "# Negative indices are to be counted from the end of array.\n",
    "# E.g., -1 refers to the last array element.\n",
    "#       -2 refers to the second from last element.\n",
    "last_element = v[-1]\n",
    "second_last_element = v[-2]\n",
    "print(\"last_element = {} second_last_element = {}\".\\\n",
    "      format(last_element, second_last_element))\n",
    "\n",
    "# A range of elements can be sliced off a vector using the\n",
    "# colon operator\n",
    "second_to_fifth_elements = v[1:4]\n",
    "print(\"second_to_fifth_elements: {}\".format(second_to_fifth_elements))\n",
    "\n",
    "# If nothing is specified on the left of the arrow, it implies beginning\n",
    "# of array.\n",
    "# If nothing is specified after the  colon it implies end of array.\n",
    "first_to_third_elements = v[:2]\n",
    "last_two_elements = v[-2:]\n",
    "print(\"first_to_third_elements: {}  Last two elements: {}\".\\\n",
    "      format(first_to_third_elements, last_two_elements))\n",
    "\n",
    "# Size of the vector\n",
    "num_elements_in_v = len(v)\n",
    "print(\"Number of elements in v: {}\".format(num_elements_in_v))"
   ]
  },
  {
   "cell_type": "code",
   "execution_count": 3,
   "metadata": {},
   "outputs": [
    {
     "name": "stdout",
     "output_type": "stream",
     "text": [
      "PyTorch version = 1.2.0\n"
     ]
    }
   ],
   "source": [
    "# Now we will do the same things with a different package (PyTorch).\n",
    "# Reader may need to install pyTorch to make this import work\n",
    "from __future__ import print_function\n",
    "import torch\n",
    "\n",
    "print(\"PyTorch version = {}\".format(torch.__version__))"
   ]
  },
  {
   "cell_type": "code",
   "execution_count": 4,
   "metadata": {},
   "outputs": [
    {
     "name": "stdout",
     "output_type": "stream",
     "text": [
      "tensor([0.1100, 0.0100, 0.9800, 0.1200, 0.9800, 0.8500, 0.0300, 0.5500, 0.4900,\n",
      "        0.9900, 0.0200, 0.3100, 0.5500, 0.8700, 0.6300], dtype=torch.float64)\n",
      "tensor([0.1100, 0.0100, 0.9800, 0.1200, 0.9800, 0.8500, 0.0300, 0.5500, 0.4900,\n",
      "        0.9900, 0.0200, 0.3100, 0.5500, 0.8700, 0.6300], dtype=torch.float64)\n",
      "tensor([0., 0., 0., 0., 0., 0., 0., 0., 0., 0., 0., 0., 0., 0., 0.],\n",
      "       dtype=torch.float64)\n",
      "[0. 0. 0. 0. 0. 0. 0. 0. 0. 0. 0. 0. 0. 0. 0.]\n"
     ]
    }
   ],
   "source": [
    "# A torch tensor represents a multi-dimensional array (element type\n",
    "# will be float by default, here we are forcing float64, aka double).\n",
    "# A vector is a special case (1D array). It can be initialized\n",
    "# directly by specifying the values.\n",
    "u = torch.tensor([0.11, 0.01, 0.98, 0.12, 0.98, 0.85, 0.03,\n",
    "                  0.55, 0.49, 0.99, 0.02, 0.31, 0.55, 0.87,\n",
    "                  0.63], dtype=torch.float64)\n",
    "\n",
    "# A torch tensor can also be initialized from a numpy array.\n",
    "# Here we will initialize a tensor v1 from the numpy array v \n",
    "# defined above.\n",
    "v1 = torch.from_numpy(v)\n",
    "\n",
    "# One can add subtract tensors. Here we do diff = v1 - u.\n",
    "# Since v1 and u contain the same values, their difference\n",
    "# is all zeros.\n",
    "diff = v1.sub(u)\n",
    "print(u)\n",
    "print(v1)\n",
    "print(diff)\n",
    "\n",
    "# torch tensors can be converted to numpy arrays too.\n",
    "u1 = u.numpy()\n",
    "print(u1 - v)"
   ]
  }
 ],
 "metadata": {
  "kernelspec": {
   "display_name": "Python 2",
   "language": "python",
   "name": "python2"
  },
  "language_info": {
   "codemirror_mode": {
    "name": "ipython",
    "version": 2
   },
   "file_extension": ".py",
   "mimetype": "text/x-python",
   "name": "python",
   "nbconvert_exporter": "python",
   "pygments_lexer": "ipython2",
   "version": "2.7.10"
  }
 },
 "nbformat": 4,
 "nbformat_minor": 2
}
