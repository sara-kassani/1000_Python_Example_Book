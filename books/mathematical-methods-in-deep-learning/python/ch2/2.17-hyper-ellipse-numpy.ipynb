{
 "cells": [
  {
   "cell_type": "markdown",
   "metadata": {},
   "source": [
    "#### Finding the axes of a hyper-ellipse\n",
    "\n",
    "Let us try finding the axes of the hyper ellipse described by the\n",
    "<br>equation $5x^2+6xy+5y^2=20$.\n",
    "<br>Note: The actual ellipse we use as example is 2D (to facilitate \n",
    "<br>visualization), but the code we develop will be general\n",
    "<br>and extensible to multi-dimensions.\n",
    "\n",
    "The ellipse equation can be written using matrices and vectors as\n",
    "<br>$\\vec{x}^{T}A\\vec{x} = 1$ where\n",
    "$A=\n",
    "\\begin{bmatrix} \n",
    "        5 & 3 \\\\\n",
    "        3 & 5 \\\\\n",
    "\\end{bmatrix} \n",
    "\\space \\space \\space\n",
    "\\vec{x} = \n",
    "\\begin{bmatrix} \n",
    "        x \\\\\n",
    "        y \\\\\n",
    "\\end{bmatrix}$.\n",
    "\n",
    "To find the axes of the hyper ellipse, we need to transform the\n",
    "<br>coordinate system so that the matrix in the middle becomes diagonal.\n",
    "<br>Here is how this can be done:\n",
    "<br>If we diagonalise $A$ into $S\\Sigma S^{-1}$, then the ellipse equation\n",
    "<br>becomes $\\vec{x}^{T}S \\Sigma S^{-1}\\vec{x} = 1$ where $\\Sigma$ is a\n",
    "<br>diagonal matrix.\n",
    "<br>Since $A$ is symmetric, its eigenvectors are orthogonal.\n",
    "<br>Hence, the matrix containing these eigenvectors as columns is orthogonal,\n",
    "<br> i.e., $S^{-1} = S^{T}$. In other words, $S$ is a rotation matrix.\n",
    "<br>\n",
    "<br>So the ellipse equation becomes $\\vec{x}^{T}S \\Sigma S^{T}\\vec{x} = 1$\n",
    "<br>or $\\left(\\vec{x}^{T}S\\right) \\Sigma \\left(S^{T}\\vec{x}\\right) = 1$\n",
    "<br>or $\\vec{y}^{T} \\Sigma \\vec{y} = 1$ where $\\vec{y} = S^{T}\\vec{x}$.\n",
    "<br>This is of the desired form since $\\Sigma$ is a diagonal matrix.\n",
    "<br>Remember, $S$ is a rotation matrix. Thus, rotating the coordinate system\n",
    "<br>by $S$ aligns the coordinate axes with the ellipse axes.\n"
   ]
  },
  {
   "cell_type": "code",
   "execution_count": 1,
   "metadata": {},
   "outputs": [
    {
     "data": {
      "text/latex": [
       "$\\displaystyle 5 x^{2} + 6 x y + 5 y^{2} = 20$"
      ],
      "text/plain": [
       "Eq(5*x**2 + 6*x*y + 5*y**2, 20)"
      ]
     },
     "execution_count": 1,
     "metadata": {},
     "output_type": "execute_result"
    }
   ],
   "source": [
    "import numpy as np\n",
    "from sympy import Symbol\n",
    "import sympy as sy\n",
    "\n",
    "x = Symbol('x')\n",
    "y = Symbol('y')\n",
    "a = Symbol('a')\n",
    "b = Symbol('b')\n",
    "ellipse_eq = sy.Eq(5*x**2 + 5*y**2 + 6*x*y, 20)\n",
    "ellipse_eq"
   ]
  },
  {
   "cell_type": "code",
   "execution_count": 2,
   "metadata": {},
   "outputs": [
    {
     "data": {
      "image/png": "[encoded data removed]",
      "text/plain": [
       "<Figure size 432x288 with 1 Axes>"
      ]
     },
     "metadata": {
      "needs_background": "light"
     },
     "output_type": "display_data"
    },
    {
     "name": "stdout",
     "output_type": "stream",
     "text": [
      "Note that the ellipse major axis is forming an\n",
      "angle of 45 degrees with X axis.\n",
      "Rotating coordinate system by this angle\n",
      "will align ellipse axes with coordinate axes.\n"
     ]
    }
   ],
   "source": [
    "# Let us plot this ellipse\n",
    "%matplotlib inline\n",
    "import matplotlib.pyplot as plt\n",
    "import sympy as sy\n",
    "\n",
    "def sym_eq_plot(eq):\n",
    "    plot = sy.plot_implicit(eq)\n",
    "    return plot \n",
    "plot = sym_eq_plot(ellipse_eq)\n",
    "\n",
    "print(\"Note that the ellipse major axis is forming an\\n\"\n",
    "      \"angle of 45 degrees with X axis.\\n\"\n",
    "      \"Rotating coordinate system by this angle\\n\"\n",
    "      \"will align ellipse axes with coordinate axes.\")"
   ]
  },
  {
   "cell_type": "code",
   "execution_count": 3,
   "metadata": {},
   "outputs": [
    {
     "name": "stdout",
     "output_type": "stream",
     "text": [
      "Eigen values are:  [8. 2.]\n",
      "\n",
      "Eigen vectors are columns of S matrix\n",
      "[[ 0.70710678 -0.70710678]\n",
      " [ 0.70710678  0.70710678]]\n",
      "\n",
      "Rotation angle theta = 45.00 degrees\n"
     ]
    }
   ],
   "source": [
    "A = np.array([[5, 3], [3, 5]])\n",
    "\n",
    "# Obtain eigen values and vectors of the ellipse\n",
    "# coeeficients matrix\n",
    "l, S = np.linalg.eig(np.array(A).astype(np.float64))\n",
    "\n",
    "print(\"Eigen values are:  {}\\n\".format(l))\n",
    "print(\"Eigen vectors are columns of S matrix\\n{}\".format(S))\n",
    "\n",
    "# Assert that eigen vectors are orthogonal\n",
    "assert np.dot(S[:, 0], S[:, 1]) == 0.0\n",
    "\n",
    "# Find the angle between the principal axis and the X-axis.\n",
    "import math\n",
    "\n",
    "# Vector corresponding to X-axis\n",
    "x_axis_vec = np.zeros((A.shape[0]))\n",
    "x_axis_vec[0] = 1\n",
    "\n",
    "# First principal eigen vector\n",
    "first_eigen_vec = S[:, 0]\n",
    "\n",
    "# Dot product between the two vectors (equals cosine\n",
    "# of the angle between the directions of the two vectors)\n",
    "dot_prod = np.dot(x_axis_vec, first_eigen_vec)\n",
    "\n",
    "# The angle between the two vectors is the cosine inverse\n",
    "# of the dot-product, in radians\n",
    "theta = math.acos(dot_prod)\n",
    "\n",
    "# Convert to degrees from radian\n",
    "theta = math.degrees(theta)\n",
    "print(\"\\nRotation angle theta = {:.2f} degrees\".format(theta))"
   ]
  },
  {
   "cell_type": "code",
   "execution_count": 4,
   "metadata": {},
   "outputs": [
    {
     "data": {
      "image/png": "[encoded data removed]",
      "text/plain": [
       "<Figure size 432x288 with 1 Axes>"
      ]
     },
     "metadata": {
      "needs_background": "light"
     },
     "output_type": "display_data"
    }
   ],
   "source": [
    "# Plot the eigen vectors\n",
    "plt.quiver([0], [0], S[:,0], S[:,1],\n",
    "           color=['r','b','g'], scale=5)\n",
    "plt.show()"
   ]
  },
  {
   "cell_type": "code",
   "execution_count": 5,
   "metadata": {},
   "outputs": [
    {
     "data": {
      "image/png": "[encoded data removed]",
      "text/plain": [
       "<Figure size 432x288 with 1 Axes>"
      ]
     },
     "metadata": {
      "needs_background": "light"
     },
     "output_type": "display_data"
    }
   ],
   "source": [
    "# Let us plot the ellipse along with the axes.\n",
    "# From our calculations, we know that the angle \n",
    "# of rotation is 45 degrees, and that the eigen vectors\n",
    "# are the columns of S\n",
    "\n",
    "import matplotlib\n",
    "fig = plt.figure(0)\n",
    "ax = fig.add_subplot(111, aspect='equal')\n",
    "\n",
    "e = matplotlib.patches.Ellipse((0, 0), 1, 3,\n",
    "                               theta, fc='None',\n",
    "                               edgecolor='g')\n",
    "# The ellipse is centered at (0, 0)\n",
    "# We are using random width and height. \n",
    "# Note that the direction of the axes is independent of\n",
    "# width and height\n",
    "ax.add_artist(e)\n",
    "ax.set_xlim(-2, 2)\n",
    "ax.set_ylim(-2, 2)\n",
    "ax.quiver([0], [0], S[:,0], S[:,1], color=['r','b','g'],\n",
    "          scale=5)\n",
    "\n",
    "plt.show()\n"
   ]
  }
 ],
 "metadata": {
  "kernelspec": {
   "display_name": "Python 3",
   "language": "python",
   "name": "python3"
  },
  "language_info": {
   "codemirror_mode": {
    "name": "ipython",
    "version": 3
   },
   "file_extension": ".py",
   "mimetype": "text/x-python",
   "name": "python",
   "nbconvert_exporter": "python",
   "pygments_lexer": "ipython3",
   "version": "3.7.5"
  }
 },
 "nbformat": 4,
 "nbformat_minor": 2
}
