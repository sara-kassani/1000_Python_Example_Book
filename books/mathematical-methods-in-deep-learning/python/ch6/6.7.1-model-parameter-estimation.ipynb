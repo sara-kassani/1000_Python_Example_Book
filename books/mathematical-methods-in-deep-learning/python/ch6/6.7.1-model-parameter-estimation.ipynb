{
 "cells": [
  {
   "cell_type": "code",
   "execution_count": 1,
   "metadata": {},
   "outputs": [],
   "source": [
    "\"\"\"\n",
    "Python code for Maximum likelihood esimation and Maximum A Posteriori (MAP) Parameter Estimation\n",
    "\"\"\"\n",
    "import matplotlib.patches as mpatches\n",
    "import matplotlib.pyplot as plt\n",
    "import numpy as np\n",
    "import torch\n",
    "from torch.distributions import Normal"
   ]
  },
  {
   "cell_type": "markdown",
   "metadata": {},
   "source": [
    "Let us suppose that we know that the height of an adult resident in Statsville lies between 160 cm and 170 cm.\n",
    "We want to predict if this resident is female. For this purpose, we have collected a set of height samples from adult female residents in Statsville. This becomes our training data. From physical considerations, we can assume that the distribution of heights is Gaussian. Our goal is to estimate the parameters ($\\mu$, $\\sigma$) of this Gaussian. In this notebook, we will study two ways of doing this (1) Maximum Likelihood Estimation and (2) Maximum A Posteriori Estimation."
   ]
  },
  {
   "cell_type": "markdown",
   "metadata": {},
   "source": [
    "Let us first create the dataset $X$ by sampling 10000 points from a Gaussian distribution with $\\mu$=152 and $\\sigma$=8. In real life scenarios, we do not know the mean and standard deviation of the true distribution. But for the sake of this example, let's assume that the mean height is 152cm and standard deviation is 50cm."
   ]
  },
  {
   "cell_type": "code",
   "execution_count": 2,
   "metadata": {},
   "outputs": [
    {
     "name": "stdout",
     "output_type": "stream",
     "text": [
      "Dataset shape: torch.Size([10000, 1])\n"
     ]
    }
   ],
   "source": [
    "torch.random.manual_seed(42)\n",
    "num_samples = 10000\n",
    "mu = 152\n",
    "sigma = 8\n",
    "X = torch.normal(mu, sigma, size=(num_samples, 1))\n",
    "print('Dataset shape: {}'.format(X.shape))"
   ]
  },
  {
   "cell_type": "markdown",
   "metadata": {},
   "source": [
    "## Maximum Likelihood Estimate (MLE)\n",
    "\n",
    "In MLE, we try to find the parameters that \"best explain\" our data. In other words, we try to find the parameters that maximize the joint likelihood of our training data instances. \n",
    "\n",
    "Let's say our model is parameterised by $\\theta$. The likelihood function $p(X|\\theta)$ shows how likely the sample distribution $X$ is for different values of $\\theta$. With MLE, our goal is to find the parameters $\\theta$ that maximise $p(X|\\theta)$. \n",
    "\n",
    "We can assume that our model parameterises a Gaussian distribution $N(\\mu, \\sigma)$\n",
    "The likelihood function can be written as \n",
    "    $$ p(X|\\theta) = N(X|\\mu,\\sigma) = \\prod_{i=1}^{n}N(x_i|\\mu,\\sigma) = \n",
    "    \\Bigl(\\frac{1}{2\\pi\\sigma^2}\\Bigl)^\\frac{N}{2}exp\\Bigl(\\frac{-1}{2\\sigma^2}\\sum_{i=1}^N(x_i - \\mu)^2\\Bigl) $$\n",
    "Maximising the likelihood function yields \n",
    "$$\\mu_{MLE} = \\frac{1}{N}\\sum_{i=1}^nx_i$$\n",
    "$$\\sigma_{MLE} = \\frac{1}{N}\\sum_{i=1}^n(x_i - \\mu)^2$$\n",
    "\n",
    "In practice, we maximise the logarithm of the likelihood because it makes for much easier calculations when dealing with exponential functions. Refer to the section 6.8 in the book for a detailed derivation\n",
    "\n",
    "Thus by computing the sample mean and the sample standard deviation, we can find the parameters of the best fit Gaussian for the dataset. Once we estimate the parameters, we can find out the probability that a sample lies in the range using the following formula\n",
    "$$ p(a < X <= b) = \\int_{a}^b p(X) dX $$"
   ]
  },
  {
   "cell_type": "code",
   "execution_count": 3,
   "metadata": {},
   "outputs": [
    {
     "name": "stdout",
     "output_type": "stream",
     "text": [
      "Sample mean: 152.05154418945312\n",
      "Sample standard deviation: 8.035674095153809\n",
      "Prob: tensor([0.1485])\n"
     ]
    }
   ],
   "source": [
    "# Let us compute the mean and standard deviation of the sampled points.\n",
    "sample_mean = X.mean()\n",
    "sample_std = X.std()\n",
    "\n",
    "print('Sample mean: {}'.format(sample_mean))\n",
    "print('Sample standard deviation: {}'.format(sample_std))\n",
    "\n",
    "# As expected, the sample mean and sample standard deviation are close to the corresponding values \n",
    "# of the Normal distribution that the points were sampled from\n",
    "\n",
    "gaussian_mle = Normal(sample_mean, sample_std)\n",
    "\n",
    "# We want to find out the probability that a height between 160 and 170 belongs to an adult female resident\n",
    "a, b = torch.Tensor([160]), torch.Tensor([170])\n",
    "\n",
    "prob = gaussian_mle.cdf(b) - gaussian_mle.cdf(a)\n",
    "print('Prob: {}'.format(prob))"
   ]
  },
  {
   "cell_type": "code",
   "execution_count": 4,
   "metadata": {},
   "outputs": [],
   "source": [
    "a, b = torch.Tensor([160]), torch.Tensor([170])\n",
    "prob = gaussian_mle.cdf(b) - gaussian_mle.cdf(a)"
   ]
  },
  {
   "cell_type": "markdown",
   "metadata": {},
   "source": [
    "### Maximum Likelihood Estimate using Gradient Descent\n",
    "Above, we were able to estimate the parameters using the closed form solution. Now, let us try to arrive at these parameters iteratively using gradient descent. In real-life scenarios, we don't use gradient descent because the closed form solution is available. But we discuss the gradient descent based approach to highlight some of the challenges.\n",
    "\n",
    "Our objective is to find the parameters $\\theta$ that maximise the likelihood function $p(X|\\theta)$. We choose to maximise the log of the likelihood function since it is more mathematically convenient. This can alternatively viewed as minimising the negative log-likelihood function.\n",
    "\n",
    "$$ -\\log p(X|\\theta) = \\frac{N}{2}\\log(2\\pi\\sigma^2) + \\frac{1}{2\\sigma^2}\\sum_{i=1}^n(x_i - \\mu)^2$$\n",
    "\n",
    "The optimisation process is as follows:\n",
    " 1. Initialise the model parameters, $\\mu$ and $\\sigma$ with random values\n",
    " 2. Compute the loss value (negative log-likelihood)\n",
    " 3. Find the gradients of the loss w.r.t the model parameters\n",
    " 4. Update the model parameters in the opposite direction of the gradient values\n",
    " 5. Repeat steps 1-4 until loss diminishes to a small value"
   ]
  },
  {
   "cell_type": "code",
   "execution_count": 5,
   "metadata": {},
   "outputs": [],
   "source": [
    "import torch\n",
    "from torch.autograd import Variable\n",
    "\n",
    "dtype = torch.FloatTensor\n",
    "\n",
    "# Negative log likelihood function defined above\n",
    "def neg_log_likelihood(X, mu, sigma):\n",
    "    N = X.shape[0]\n",
    "    X_minus_mu = torch.sub(X, mu)\n",
    "    return torch.mul(0.5 * N, torch.log(2 * np.pi * torch.pow(sigma, 2))) + \\\n",
    "           torch.div(torch.matmul(X_minus_mu.T, X_minus_mu), 2 * torch.pow(sigma, 2))\n",
    "\n",
    "# Gradient descent to estimate the parameters\n",
    "def optimise(X, mu, sigma, loss_fn, num_iters=100, lr = 0.001):\n",
    "    X = torch.Tensor(X) # Convert the data to a torch tensor\n",
    "\n",
    "    iters, losses, mus, sigmas = [], [], [], []\n",
    "    \n",
    "    for i in range(num_iters):\n",
    "        loss = loss_fn(X, mu, sigma)\n",
    " \n",
    "        if i % (num_iters / 10) == 0:\n",
    "            print('iter: {}, loss: {}, mu: {}, sigma: {}'.format(i, loss[0][0] / num_samples, \n",
    "                                                                 mu.data[0], sigma.data[0]))        \n",
    "            iters.append(i)\n",
    "            losses.append(loss[0][0] / num_samples)\n",
    "            mus.append(float(mu.data))\n",
    "            sigmas.append(float(sigma.data))\n",
    "            \n",
    "        # We don't explicitly compute the gradients ourselves. We rely on torch to automatically\n",
    "        # compute the gradients. The gradients are stored in <param>.grad. \n",
    "        loss.backward()\n",
    "\n",
    "        # We scale the gradients by the learning rate before update\n",
    "        mu.data -= lr * mu.grad\n",
    "        sigma.data -= lr * sigma.grad\n",
    "\n",
    "        # We zero out the gradients before every update. Otherwise gradients from previous iterations get accumulated\n",
    "        mu.grad.data.zero_()\n",
    "        sigma.grad.data.zero_()\n",
    "    return iters, losses, mus, sigmas"
   ]
  },
  {
   "cell_type": "code",
   "execution_count": 6,
   "metadata": {},
   "outputs": [],
   "source": [
    "def plot_mle_fit(iters, mus, sigmas, expected_mu=152, expected_sigma=8, \n",
    "                 mu_text_y=160, sigma_text_y=100):\n",
    "    plt.figure(figsize=(4, 4))\n",
    "\n",
    "    ax1 = plt.subplot(2, 1, 1)\n",
    "    ax1.plot(iters, mus)\n",
    "    ax1.plot([iters[0], iters[-1]], [expected_mu, expected_mu], color='green')\n",
    "    ax1.text(iters[int(len(iters) / 2)], mu_text_y, r'Expected $\\mu={}$'.format(expected_mu))\n",
    "    ax1.set_xlabel('Iteration')\n",
    "    ax1.set_ylabel('Mean (cm)')\n",
    "    ax1.grid(True)\n",
    "    \n",
    "    ax2 = plt.subplot(2, 1, 2)\n",
    "    ax2.plot(iters, sigmas)\n",
    "    ax2.plot([iters[0], iters[-1]], [expected_sigma, expected_sigma], color='green')\n",
    "    ax2.text(iters[int(len(iters) / 2)], sigma_text_y, r'Expected $\\sigma={}$'.format(expected_sigma))\n",
    "    ax2.set_xlabel('Iteration')\n",
    "    ax2.set_ylabel('Sigma (cm)')\n",
    "    ax2.grid(True)\n",
    "\n",
    "    plt.show()"
   ]
  },
  {
   "cell_type": "code",
   "execution_count": 7,
   "metadata": {},
   "outputs": [
    {
     "name": "stdout",
     "output_type": "stream",
     "text": [
      "iter: 0, loss: 11441.4794921875, mu: 1.0, sigma: 1.0\n",
      "iter: 100, loss: 13.25956916809082, mu: 1511.5155029296875, sigma: 228802.203125\n",
      "iter: 200, loss: 13.25956916809082, mu: 1511.5155029296875, sigma: 228802.203125\n",
      "iter: 300, loss: 13.25956916809082, mu: 1511.5155029296875, sigma: 228802.203125\n",
      "iter: 400, loss: 13.25956916809082, mu: 1511.5155029296875, sigma: 228802.203125\n",
      "iter: 500, loss: 13.25956916809082, mu: 1511.5155029296875, sigma: 228802.203125\n",
      "iter: 600, loss: 13.25956916809082, mu: 1511.5155029296875, sigma: 228802.203125\n",
      "iter: 700, loss: 13.25956916809082, mu: 1511.5155029296875, sigma: 228802.203125\n",
      "iter: 800, loss: 13.25956916809082, mu: 1511.5155029296875, sigma: 228802.203125\n",
      "iter: 900, loss: 13.25956916809082, mu: 1511.5155029296875, sigma: 228802.203125\n"
     ]
    }
   ],
   "source": [
    "# We define our model params mu and sigma as torch Variables.\n",
    "# Note that requires_grad has been set to true - this tells PyTorch that gradients are \n",
    "# required to be computed for these variables. We randomly initialise both mu and sigma.\n",
    "\n",
    "mu = Variable(torch.Tensor([1]).type(dtype), requires_grad=True)\n",
    "sigma = Variable(torch.Tensor([1]).type(dtype), requires_grad=True)\n",
    "\n",
    "iters, losses, mus, sigmas = optimise(X, mu, sigma, neg_log_likelihood, num_iters=1000, lr=0.001)"
   ]
  },
  {
   "cell_type": "code",
   "execution_count": 8,
   "metadata": {},
   "outputs": [
    {
     "data": {
      "image/png": "[encoded data removed]",
      "text/plain": [
       "<Figure size 288x288 with 2 Axes>"
      ]
     },
     "metadata": {
      "needs_background": "light"
     },
     "output_type": "display_data"
    }
   ],
   "source": [
    "plot_mle_fit(iters, mus, sigmas, mu_text_y=200, sigma_text_y=10000)"
   ]
  },
  {
   "cell_type": "markdown",
   "metadata": {},
   "source": [
    "What just happened? The estimated mean and standard deviation are nowhere close to our expected values of 152 and 50, but are instead very large numbers.\n",
    "\n",
    "Let's try to tweak things a bit. We had randomly initialised mu and sigma with a value of 5. Now, let us initialise them somewhere in the neighborhood of our expected values. Let's say mu = 100 and sigma is 10."
   ]
  },
  {
   "cell_type": "code",
   "execution_count": 9,
   "metadata": {},
   "outputs": [
    {
     "name": "stdout",
     "output_type": "stream",
     "text": [
      "iter: 0, loss: 17.09115219116211, mu: 100.0, sigma: 10.0\n",
      "iter: 50, loss: 4.972278594970703, mu: 118.44664001464844, sigma: 38.49307632446289\n",
      "iter: 100, loss: 4.69744873046875, mu: 129.0364227294922, sigma: 33.65632247924805\n",
      "iter: 150, loss: 4.295865058898926, mu: 139.37002563476562, sigma: 24.12705421447754\n",
      "iter: 200, loss: 3.511776924133301, mu: 151.1002960205078, sigma: 8.47098159790039\n",
      "iter: 250, loss: 3.502779722213745, mu: 152.05128479003906, sigma: 8.035272598266602\n",
      "iter: 300, loss: 3.502779722213745, mu: 152.0514678955078, sigma: 8.035273551940918\n",
      "iter: 350, loss: 3.502779722213745, mu: 152.0514678955078, sigma: 8.035273551940918\n",
      "iter: 400, loss: 3.502779722213745, mu: 152.0514678955078, sigma: 8.035273551940918\n",
      "iter: 450, loss: 3.502779722213745, mu: 152.0514678955078, sigma: 8.035273551940918\n"
     ]
    }
   ],
   "source": [
    "# Let us initialise mu to 100 and sigma to 10\n",
    "mu = Variable(torch.Tensor([100]).type(dtype), requires_grad=True)\n",
    "sigma = Variable(torch.Tensor([10]).type(dtype), requires_grad=True)\n",
    "iters, losses, mus, sigmas = optimise(X, mu, sigma, neg_log_likelihood, num_iters=500)"
   ]
  },
  {
   "cell_type": "markdown",
   "metadata": {},
   "source": [
    "Our model has converged! The loss has decreased and the estimated $\\mu$ and $\\sigma$ are close to 152 and 50 respectively. The initial values of $\\mu$ and $\\sigma$ played a crucial role in helping the model converge. We were lucky this time because we knew what to expect for $\\mu$ and $\\sigma$. However, this is typically not the case in real world scenarios. Is there a better way to solve this problem? This is where Maximum A Posterior (MAP) estimation comes into play."
   ]
  },
  {
   "cell_type": "code",
   "execution_count": 10,
   "metadata": {},
   "outputs": [
    {
     "data": {
      "image/png": "[encoded data removed]",
      "text/plain": [
       "<Figure size 288x288 with 2 Axes>"
      ]
     },
     "metadata": {
      "needs_background": "light"
     },
     "output_type": "display_data"
    }
   ],
   "source": [
    "plot_mle_fit(iters, mus, sigmas, mu_text_y=145, sigma_text_y=10)"
   ]
  },
  {
   "cell_type": "markdown",
   "metadata": {},
   "source": [
    "## Maximum A Posteriori (MAP) Estimation\n",
    "\n",
    "Instead of maximizing $p(X|\\theta)$, we can directly maximize $p(\\theta|X)$ -> the probability of the parameters given the data instances.\n",
    "\n",
    "Using bayes theorem, $$p(\\theta|X) = \\frac{p(X|\\theta)p(\\theta)}{p(X)}$$\n",
    "\n",
    "Maximizing $p(\\theta|X)$ is equivalent to maximizing the numerator of the above expression because the denominator is independent of $\\theta$. $p(X|\\theta)$ is what we maximized in MLE. We need to estimate $p(\\theta)$, which is also called the prior probability. A popular approach is to say that we want the parameters to be as small as possible. Hence, we assume that $p(\\theta)$ is proportional to $e^{-\\theta^2}$. Refer to the chapter in the book for details. \n",
    "\n",
    "Maximizing $p(\\theta|X)$ is equivalent to minimizing $-\\log p(\\theta|X)$\n",
    "\n",
    "$$ -\\log p(\\theta|X) = -\\log p(X|\\theta) - \\log p(\\theta) = \\frac{N}{2}\\log(2\\pi\\sigma^2) + \\frac{1}{2\\sigma^2}\\sum_{i=1}^n(x_i - \\mu)^2 + \\mu^2 + \\sigma ^ 2 $$\n",
    "\n",
    "This is the same function as the negative log-likelihood discussed in MLE with two additional terms, $\\mu^2$ and $\\sigma^2$. They act as regularizers and prevent the parameters from exploding by penalizing large values of $\\mu$ and $\\sigma$."
   ]
  },
  {
   "cell_type": "code",
   "execution_count": 11,
   "metadata": {},
   "outputs": [],
   "source": [
    "# Here we add two additional parameters to the loss function namely mu^2 and sigma^2\n",
    "# These parameter terms act as regularizers that penalise large values of mu and sigma.\n",
    "def neg_log_likelihood_regularized(X, mu, sigma, k=0.2):\n",
    "    \"\"\"\n",
    "    k is the regularization factor that controls the weight of the regularization loss\n",
    "    \"\"\"\n",
    "    N = X.shape[0]\n",
    "    X_minus_mu = torch.sub(X, mu)\n",
    "    loss_likelihood = torch.mul(0.5 * N, torch.log(2 * np.pi * torch.pow(sigma, 2))) + \\\n",
    "           torch.div(torch.matmul(X_minus_mu.T, X_minus_mu), 2 * torch.pow(sigma, 2))\n",
    "    loss_reg = k * (torch.pow(mu, 2) + torch.pow(sigma, 2))\n",
    "    return loss_likelihood + loss_reg "
   ]
  },
  {
   "cell_type": "code",
   "execution_count": 12,
   "metadata": {},
   "outputs": [
    {
     "name": "stdout",
     "output_type": "stream",
     "text": [
      "iter: 0, loss: 11441.4794921875, mu: 1.0, sigma: 1.0\n",
      "iter: 3000, loss: 95028.9765625, mu: 455.33184814453125, sigma: 68924.875\n",
      "iter: 6000, loss: 8626.001953125, mu: 137.10964965820312, sigma: 20754.236328125\n",
      "iter: 9000, loss: 790.3759765625, mu: 41.306217193603516, sigma: 6247.73046875\n",
      "iter: 12000, loss: 78.79613494873047, mu: 12.747103691101074, sigma: 1875.29541015625\n",
      "iter: 15000, loss: 13.196127891540527, mu: 7.662848949432373, sigma: 544.9798583984375\n",
      "iter: 18000, loss: 6.360317230224609, mu: 55.84259796142578, sigma: 117.35151672363281\n",
      "iter: 21000, loss: 3.9652726650238037, mu: 151.65988159179688, sigma: 8.034442901611328\n",
      "iter: 24000, loss: 3.9652726650238037, mu: 151.65988159179688, sigma: 8.034442901611328\n",
      "iter: 27000, loss: 3.9652726650238037, mu: 151.65988159179688, sigma: 8.034442901611328\n"
     ]
    }
   ],
   "source": [
    "# Let us run the optimiser with the regularise log likelihood function\n",
    "mu = Variable(torch.Tensor([1]).type(dtype), requires_grad=True)\n",
    "sigma = Variable(torch.Tensor([1]).type(dtype), requires_grad=True)\n",
    "iters, losses, mus, sigmas = optimise(X, mu, sigma, loss_fn=neg_log_likelihood_regularized, num_iters=30000, lr=0.001)"
   ]
  },
  {
   "cell_type": "code",
   "execution_count": 13,
   "metadata": {},
   "outputs": [
    {
     "data": {
      "image/png": "[encoded data removed]",
      "text/plain": [
       "<Figure size 288x288 with 2 Axes>"
      ]
     },
     "metadata": {
      "needs_background": "light"
     },
     "output_type": "display_data"
    }
   ],
   "source": [
    "plot_mle_fit(iters, mus, sigmas, mu_text_y=180, sigma_text_y=3000)"
   ]
  },
  {
   "cell_type": "markdown",
   "metadata": {},
   "source": [
    "As we can see, the model has converged and the estimated parameters are close to what we expected them to be."
   ]
  }
 ],
 "metadata": {
  "kernelspec": {
   "display_name": "Python 3",
   "language": "python",
   "name": "python3"
  },
  "language_info": {
   "codemirror_mode": {
    "name": "ipython",
    "version": 3
   },
   "file_extension": ".py",
   "mimetype": "text/x-python",
   "name": "python",
   "nbconvert_exporter": "python",
   "pygments_lexer": "ipython3",
   "version": "3.7.4"
  }
 },
 "nbformat": 4,
 "nbformat_minor": 4
}
