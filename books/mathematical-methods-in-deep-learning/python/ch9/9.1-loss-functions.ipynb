{
 "cells": [
  {
   "cell_type": "markdown",
   "id": "cc7d6f0f",
   "metadata": {},
   "source": [
    "In this notebook, we show how to implement various loss functions using PyTorch. Refer to section 9.1 for more details around the theory."
   ]
  },
  {
   "cell_type": "code",
   "execution_count": 1,
   "id": "46649acc",
   "metadata": {},
   "outputs": [],
   "source": [
    "import torch"
   ]
  },
  {
   "cell_type": "markdown",
   "id": "e6ce38bc",
   "metadata": {},
   "source": [
    "# Regression Loss"
   ]
  },
  {
   "cell_type": "code",
   "execution_count": 2,
   "id": "852354ef",
   "metadata": {},
   "outputs": [
    {
     "name": "stdout",
     "output_type": "stream",
     "text": [
      "Loss = 11.844199180603027\n"
     ]
    }
   ],
   "source": [
    "from torch.nn.functional import mse_loss\n",
    "\n",
    "y = torch.tensor([-0.10, -0.24,  1.43, -0.14, -0.59])\n",
    "y_gt = torch.tensor([0.59, -1.92, -1.27, -0.40,  0.50])\n",
    "\n",
    "loss = mse_loss(y, y_gt, reduction='sum')\n",
    "print('Loss = {}'.format(loss))"
   ]
  },
  {
   "cell_type": "markdown",
   "id": "393d8798",
   "metadata": {},
   "source": [
    "## Cross Entropy Loss"
   ]
  },
  {
   "cell_type": "code",
   "execution_count": 3,
   "id": "23f289cf",
   "metadata": {},
   "outputs": [
    {
     "name": "stdout",
     "output_type": "stream",
     "text": [
      "Loss = 0.2231435328722\n"
     ]
    }
   ],
   "source": [
    "import torch\n",
    "\n",
    "y = torch.tensor([0.8, 0.15, 0.04, 0.01])\n",
    "y_gt = torch.tensor([1., 0., 0., 0.])\n",
    "\n",
    "loss = -1 * torch.dot(y_gt, torch.log(y))\n",
    "\n",
    "print(\"Loss = {}\".format(loss))"
   ]
  },
  {
   "cell_type": "markdown",
   "id": "4a4d486e",
   "metadata": {},
   "source": [
    "## Binary Cross Entropy Loss"
   ]
  },
  {
   "cell_type": "code",
   "execution_count": 4,
   "id": "bba823b5",
   "metadata": {},
   "outputs": [
    {
     "name": "stdout",
     "output_type": "stream",
     "text": [
      "Loss = 0.2231435328722\n"
     ]
    }
   ],
   "source": [
    "from torch.nn.functional import binary_cross_entropy\n",
    "# It is sufficient to just take y0 because y1 = 1 - y0 in the 2 class example\n",
    "y = torch.tensor([0.8])\n",
    "y_gt = torch.tensor([1.])\n",
    "loss = binary_cross_entropy(y, y_gt)\n",
    "print(\"Loss = {}\".format(loss))"
   ]
  },
  {
   "cell_type": "markdown",
   "id": "e1e7939e",
   "metadata": {},
   "source": [
    "## Softmax"
   ]
  },
  {
   "cell_type": "code",
   "execution_count": 5,
   "id": "c992a639",
   "metadata": {},
   "outputs": [
    {
     "name": "stdout",
     "output_type": "stream",
     "text": [
      "Softmax output = tensor([4.9749e-01, 5.0249e-01, 2.3042e-05, 1.0357e-09])\n"
     ]
    }
   ],
   "source": [
    "from torch.nn.functional import softmax\n",
    "logits = torch.tensor([9.99, 10, 0.01, -10])\n",
    "output = softmax(logits, dim=0)\n",
    "\n",
    "print(\"Softmax output = {}\".format(output))"
   ]
  },
  {
   "cell_type": "markdown",
   "id": "8195f3c5",
   "metadata": {},
   "source": [
    "## Softmax Cross Entropy"
   ]
  },
  {
   "cell_type": "code",
   "execution_count": 6,
   "id": "b062ae25",
   "metadata": {},
   "outputs": [
    {
     "name": "stdout",
     "output_type": "stream",
     "text": [
      "Loss = 0.6881826519966125\n"
     ]
    }
   ],
   "source": [
    "from torch.nn.functional import cross_entropy\n",
    "logits = torch.tensor([[9.99, 10, 0.01, -10]])\n",
    "y_gt = torch.tensor([1])\n",
    "loss = cross_entropy(logits, y_gt)\n",
    "\n",
    "print(\"Loss = {}\".format(loss))"
   ]
  },
  {
   "cell_type": "markdown",
   "id": "d448e895",
   "metadata": {},
   "source": [
    "##  Focal Loss"
   ]
  },
  {
   "cell_type": "code",
   "execution_count": 7,
   "id": "dcda376b",
   "metadata": {},
   "outputs": [
    {
     "name": "stdout",
     "output_type": "stream",
     "text": [
      "gamma=0, loss = tensor([0.2231])\n",
      "gamma=1, loss = tensor([0.0446])\n",
      "gamma=1, loss = tensor([0.0089])\n"
     ]
    }
   ],
   "source": [
    "def focal_loss(y, y_gt, gamma):\n",
    "    y_t = (y_gt * y) + ((1 - y_gt) * (1 - y))\n",
    "    loss = -1 * torch.pow((1 - y_t), gamma) * torch.log(y_t)\n",
    "    return loss\n",
    "    \n",
    "y = torch.tensor([0.8])\n",
    "y_gt = torch.tensor([1.])\n",
    "loss_0 = focal_loss(y, y_gt, 0)\n",
    "loss_1 = focal_loss(y, y_gt, 1)\n",
    "loss_2 = focal_loss(y, y_gt, 2)\n",
    "print(\"gamma=0, loss = {}\".format(loss_0))\n",
    "print(\"gamma=1, loss = {}\".format(loss_1))\n",
    "print(\"gamma=1, loss = {}\".format(loss_2))"
   ]
  },
  {
   "cell_type": "markdown",
   "id": "947363c7",
   "metadata": {},
   "source": [
    "## Plot Focal Loss"
   ]
  },
  {
   "cell_type": "code",
   "execution_count": 9,
   "id": "a784924c",
   "metadata": {},
   "outputs": [
    {
     "data": {
      "image/png": "[encoded data removed]",
      "text/plain": [
       "<Figure size 576x432 with 1 Axes>"
      ]
     },
     "metadata": {
      "needs_background": "light"
     },
     "output_type": "display_data"
    }
   ],
   "source": [
    "import matplotlib\n",
    "%matplotlib inline\n",
    "import matplotlib.pyplot as plt\n",
    "\n",
    "def plot_focal_loss():\n",
    "    fig = plt.figure(figsize=(8, 6))\n",
    "    ax = fig.gca()\n",
    "    x = torch.linspace(start=0, end=1, steps=100)\n",
    "    y_0 = [focal_loss(torch.tensor([x_el]), torch.tensor([1]), gamma=0) for x_el in x] \n",
    "    y_1 = [focal_loss(torch.tensor([x_el]), torch.tensor([1]), gamma=1) for x_el in x] \n",
    "    y_2 = [focal_loss(torch.tensor([x_el]), torch.tensor([1]), gamma=2) for x_el in x] \n",
    "    ax.plot(x.squeeze(), y_0, label=r\"$\\gamma$=0\")\n",
    "    ax.plot(x.squeeze(), y_1, label=r\"$\\gamma$=1\")\n",
    "    ax.plot(x.squeeze(), y_2, label=r\"$\\gamma$=2\")\n",
    "    ax.set_xlim(0, 1)\n",
    "    ax.set_xticks(torch.arange(0, 10) / 10.)\n",
    "    ax.set_ylim(0, 5)\n",
    "    ax.set_xlabel(\"Probability of ground truth class\", fontsize=14)\n",
    "    ax.set_ylabel(\"Loss\", fontsize=14)\n",
    "    plt.title(r\"Focal loss for various values of $\\gamma$\", fontsize=16)\n",
    "    ax.legend()\n",
    "    plt.show()\n",
    "    fig.show()\n",
    "\n",
    "plot_focal_loss()"
   ]
  }
 ],
 "metadata": {
  "kernelspec": {
   "display_name": "Python 3 (ipykernel)",
   "language": "python",
   "name": "python3"
  },
  "language_info": {
   "codemirror_mode": {
    "name": "ipython",
    "version": 3
   },
   "file_extension": ".py",
   "mimetype": "text/x-python",
   "name": "python",
   "nbconvert_exporter": "python",
   "pygments_lexer": "ipython3",
   "version": "3.7.8"
  }
 },
 "nbformat": 4,
 "nbformat_minor": 5
}
