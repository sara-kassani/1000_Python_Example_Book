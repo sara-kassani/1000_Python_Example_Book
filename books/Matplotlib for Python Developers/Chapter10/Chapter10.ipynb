{
 "cells": [
  {
   "cell_type": "markdown",
   "metadata": {},
   "source": [
    "# Visualizing sample images from the dataset\n",
    "## Importing the UCI ML hand-written digits dataset"
   ]
  },
  {
   "cell_type": "code",
   "execution_count": 1,
   "metadata": {
    "collapsed": true
   },
   "outputs": [],
   "source": [
    "from sklearn.datasets import load_digits"
   ]
  },
  {
   "cell_type": "code",
   "execution_count": 2,
   "metadata": {
    "collapsed": true
   },
   "outputs": [],
   "source": [
    "digits = load_digits()"
   ]
  },
  {
   "cell_type": "code",
   "execution_count": 3,
   "metadata": {
    "scrolled": true
   },
   "outputs": [
    {
     "name": "stdout",
     "output_type": "stream",
     "text": [
      "<class 'sklearn.utils.Bunch'>\n"
     ]
    }
   ],
   "source": [
    "print(type(digits))"
   ]
  },
  {
   "cell_type": "code",
   "execution_count": 4,
   "metadata": {
    "scrolled": true
   },
   "outputs": [
    {
     "name": "stdout",
     "output_type": "stream",
     "text": [
      "{'data': array([[  0.,   0.,   5., ...,   0.,   0.,   0.],\n",
      "       [  0.,   0.,   0., ...,  10.,   0.,   0.],\n",
      "       [  0.,   0.,   0., ...,  16.,   9.,   0.],\n",
      "       ..., \n",
      "       [  0.,   0.,   1., ...,   6.,   0.,   0.],\n",
      "       [  0.,   0.,   2., ...,  12.,   0.,   0.],\n",
      "       [  0.,   0.,  10., ...,  12.,   1.,   0.]]), 'target': array([0, 1, 2, ..., 8, 9, 8]), 'target_names': array([0, 1, 2, 3, 4, 5, 6, 7, 8, 9]), 'images': array([[[  0.,   0.,   5., ...,   1.,   0.,   0.],\n",
      "        [  0.,   0.,  13., ...,  15.,   5.,   0.],\n",
      "        [  0.,   3.,  15., ...,  11.,   8.,   0.],\n",
      "        ..., \n",
      "        [  0.,   4.,  11., ...,  12.,   7.,   0.],\n",
      "        [  0.,   2.,  14., ...,  12.,   0.,   0.],\n",
      "        [  0.,   0.,   6., ...,   0.,   0.,   0.]],\n",
      "\n",
      "       [[  0.,   0.,   0., ...,   5.,   0.,   0.],\n",
      "        [  0.,   0.,   0., ...,   9.,   0.,   0.],\n",
      "        [  0.,   0.,   3., ...,   6.,   0.,   0.],\n",
      "        ..., \n",
      "        [  0.,   0.,   1., ...,   6.,   0.,   0.],\n",
      "        [  0.,   0.,   1., ...,   6.,   0.,   0.],\n",
      "        [  0.,   0.,   0., ...,  10.,   0.,   0.]],\n",
      "\n",
      "       [[  0.,   0.,   0., ...,  12.,   0.,   0.],\n",
      "        [  0.,   0.,   3., ...,  14.,   0.,   0.],\n",
      "        [  0.,   0.,   8., ...,  16.,   0.,   0.],\n",
      "        ..., \n",
      "        [  0.,   9.,  16., ...,   0.,   0.,   0.],\n",
      "        [  0.,   3.,  13., ...,  11.,   5.,   0.],\n",
      "        [  0.,   0.,   0., ...,  16.,   9.,   0.]],\n",
      "\n",
      "       ..., \n",
      "       [[  0.,   0.,   1., ...,   1.,   0.,   0.],\n",
      "        [  0.,   0.,  13., ...,   2.,   1.,   0.],\n",
      "        [  0.,   0.,  16., ...,  16.,   5.,   0.],\n",
      "        ..., \n",
      "        [  0.,   0.,  16., ...,  15.,   0.,   0.],\n",
      "        [  0.,   0.,  15., ...,  16.,   0.,   0.],\n",
      "        [  0.,   0.,   2., ...,   6.,   0.,   0.]],\n",
      "\n",
      "       [[  0.,   0.,   2., ...,   0.,   0.,   0.],\n",
      "        [  0.,   0.,  14., ...,  15.,   1.,   0.],\n",
      "        [  0.,   4.,  16., ...,  16.,   7.,   0.],\n",
      "        ..., \n",
      "        [  0.,   0.,   0., ...,  16.,   2.,   0.],\n",
      "        [  0.,   0.,   4., ...,  16.,   2.,   0.],\n",
      "        [  0.,   0.,   5., ...,  12.,   0.,   0.]],\n",
      "\n",
      "       [[  0.,   0.,  10., ...,   1.,   0.,   0.],\n",
      "        [  0.,   2.,  16., ...,   1.,   0.,   0.],\n",
      "        [  0.,   0.,  15., ...,  15.,   0.,   0.],\n",
      "        ..., \n",
      "        [  0.,   4.,  16., ...,  16.,   6.,   0.],\n",
      "        [  0.,   8.,  16., ...,  16.,   8.,   0.],\n",
      "        [  0.,   1.,   8., ...,  12.,   1.,   0.]]]), 'DESCR': \"Optical Recognition of Handwritten Digits Data Set\\n===================================================\\n\\nNotes\\n-----\\nData Set Characteristics:\\n    :Number of Instances: 5620\\n    :Number of Attributes: 64\\n    :Attribute Information: 8x8 image of integer pixels in the range 0..16.\\n    :Missing Attribute Values: None\\n    :Creator: E. Alpaydin (alpaydin '@' boun.edu.tr)\\n    :Date: July; 1998\\n\\nThis is a copy of the test set of the UCI ML hand-written digits datasets\\nhttp://archive.ics.uci.edu/ml/datasets/Optical+Recognition+of+Handwritten+Digits\\n\\nThe data set contains images of hand-written digits: 10 classes where\\neach class refers to a digit.\\n\\nPreprocessing programs made available by NIST were used to extract\\nnormalized bitmaps of handwritten digits from a preprinted form. From a\\ntotal of 43 people, 30 contributed to the training set and different 13\\nto the test set. 32x32 bitmaps are divided into nonoverlapping blocks of\\n4x4 and the number of on pixels are counted in each block. This generates\\nan input matrix of 8x8 where each element is an integer in the range\\n0..16. This reduces dimensionality and gives invariance to small\\ndistortions.\\n\\nFor info on NIST preprocessing routines, see M. D. Garris, J. L. Blue, G.\\nT. Candela, D. L. Dimmick, J. Geist, P. J. Grother, S. A. Janet, and C.\\nL. Wilson, NIST Form-Based Handprint Recognition System, NISTIR 5469,\\n1994.\\n\\nReferences\\n----------\\n  - C. Kaynak (1995) Methods of Combining Multiple Classifiers and Their\\n    Applications to Handwritten Digit Recognition, MSc Thesis, Institute of\\n    Graduate Studies in Science and Engineering, Bogazici University.\\n  - E. Alpaydin, C. Kaynak (1998) Cascading Classifiers, Kybernetika.\\n  - Ken Tang and Ponnuthurai N. Suganthan and Xi Yao and A. Kai Qin.\\n    Linear dimensionalityreduction using relevance weighted LDA. School of\\n    Electrical and Electronic Engineering Nanyang Technological University.\\n    2005.\\n  - Claudio Gentile. A New Approximate Maximal Margin Classification\\n    Algorithm. NIPS. 2000.\\n\"}\n"
     ]
    }
   ],
   "source": [
    "print(digits)"
   ]
  },
  {
   "cell_type": "code",
   "execution_count": 5,
   "metadata": {},
   "outputs": [
    {
     "name": "stdout",
     "output_type": "stream",
     "text": [
      "(1797, 8, 8)\n"
     ]
    }
   ],
   "source": [
    "print(digits.images.shape)"
   ]
  },
  {
   "cell_type": "code",
   "execution_count": 6,
   "metadata": {},
   "outputs": [
    {
     "name": "stdout",
     "output_type": "stream",
     "text": [
      "[0, 1, 2, 3, 4, 5, 6, 7, 8, 9]\n"
     ]
    }
   ],
   "source": [
    "indices = []\n",
    "for i in range(10):\n",
    "    for j in digits.target:\n",
    "        if i==j:\n",
    "            indices.append(j)\n",
    "            break\n",
    "print(indices)"
   ]
  },
  {
   "cell_type": "code",
   "execution_count": 7,
   "metadata": {},
   "outputs": [
    {
     "data": {
      "image/png": "[encoded data removed]",
      "text/plain": [
       "<matplotlib.figure.Figure at 0x9297e80>"
      ]
     },
     "metadata": {},
     "output_type": "display_data"
    }
   ],
   "source": [
    "%matplotlib inline\n",
    "import matplotlib.pyplot as plt\n",
    "plt.scatter(list(range(200)),digits.target[:200])\n",
    "plt.show()"
   ]
  },
  {
   "cell_type": "code",
   "execution_count": 8,
   "metadata": {},
   "outputs": [
    {
     "data": {
      "image/png": "[encoded data removed]",
      "text/plain": [
       "<matplotlib.figure.Figure at 0x8adc240>"
      ]
     },
     "metadata": {},
     "output_type": "display_data"
    }
   ],
   "source": [
    "import matplotlib.pyplot as plt\n",
    "\n",
    "nrows, ncols = 2, 5\n",
    "plt.figure(figsize=(6,3))\n",
    "\n",
    "for i in range(ncols * nrows):\n",
    "    ax = plt.subplot(nrows, ncols, i + 1)\n",
    "    ax.imshow(digits.images[i],cmap='gray_r')\n",
    "    plt.xticks([])\n",
    "    plt.yticks([])\n",
    "    plt.title(digits.target[i])"
   ]
  },
  {
   "cell_type": "markdown",
   "metadata": {},
   "source": [
    "---\n",
    "# Exploring the data nature by t-SNE method"
   ]
  },
  {
   "cell_type": "code",
   "execution_count": 9,
   "metadata": {
    "collapsed": true
   },
   "outputs": [],
   "source": [
    "from sklearn.manifold import TSNE"
   ]
  },
  {
   "cell_type": "markdown",
   "metadata": {},
   "source": [
    "---\n",
    "# Creating a Convolutional Neural Network to recognize digits "
   ]
  },
  {
   "cell_type": "code",
   "execution_count": 10,
   "metadata": {
    "collapsed": true
   },
   "outputs": [],
   "source": [
    "import numpy as np\n",
    "X = np.vstack([digits.data[digits.target==i]for i in range(10)])\n",
    "y = np.hstack([digits.target[digits.target==i] for i in range(10)])"
   ]
  },
  {
   "cell_type": "code",
   "execution_count": 11,
   "metadata": {},
   "outputs": [
    {
     "name": "stdout",
     "output_type": "stream",
     "text": [
      "53.9 s ± 4.13 s per loop (mean ± std. dev. of 7 runs, 1 loop each)\n"
     ]
    }
   ],
   "source": [
    "%%timeit\n",
    "#Here we run tSNE with 250 iteractions and time it\n",
    "tsne_iter_250 = TSNE(init='pca',method='exact',n_components=2,n_iter=250).fit_transform(X)"
   ]
  },
  {
   "cell_type": "code",
   "execution_count": 12,
   "metadata": {},
   "outputs": [],
   "source": [
    "tsne_iter_250 = TSNE(init='pca',method='exact',n_components=2,n_iter=250).fit_transform(X)"
   ]
  },
  {
   "cell_type": "code",
   "execution_count": 13,
   "metadata": {},
   "outputs": [
    {
     "data": {
      "image/png": "[encoded data removed]",
      "text/plain": [
       "<matplotlib.figure.Figure at 0xc5e23c8>"
      ]
     },
     "metadata": {},
     "output_type": "display_data"
    }
   ],
   "source": [
    "#We import the pandas and matplotlib libraries\n",
    "import pandas as pd\n",
    "import matplotlib\n",
    "matplotlib.style.use('seaborn')\n",
    "#Here we plot the tSNE results in a reduced two-dimensional space\n",
    "df = pd.DataFrame(tsne_iter_250)\n",
    "plt.scatter(df[0],df[1],c=y,cmap=matplotlib.cm.get_cmap('tab10'))\n",
    "plt.show()"
   ]
  },
  {
   "cell_type": "code",
   "execution_count": 14,
   "metadata": {},
   "outputs": [
    {
     "data": {
      "image/png": "[encoded data removed]",
      "text/plain": [
       "<matplotlib.figure.Figure at 0xc830ac8>"
      ]
     },
     "metadata": {},
     "output_type": "display_data"
    }
   ],
   "source": [
    "#Here we run tSNE for 2000 iteractions\n",
    "tsne_iter_2000 = TSNE(init='pca',method='exact',n_components=2,n_iter=2000).fit_transform(X)\n",
    "#Here we plot the figure\n",
    "df2 = pd.DataFrame(tsne_iter_2000)\n",
    "plt.scatter(df2[0],df2[1],c=y,cmap=matplotlib.cm.get_cmap('tab10'))\n",
    "plt.show()"
   ]
  },
  {
   "cell_type": "markdown",
   "metadata": {},
   "source": [
    "---\n",
    "# Creating a Convolutional Neural Network to recognize digits"
   ]
  },
  {
   "cell_type": "code",
   "execution_count": 15,
   "metadata": {
    "collapsed": true
   },
   "outputs": [],
   "source": [
    "from sklearn.model_selection import train_test_split \n",
    "from sklearn.preprocessing import LabelBinarizer\n",
    "lb = LabelBinarizer()\n",
    "X = np.expand_dims(digits.images.T, axis=0).T\n",
    "y = lb.fit_transform(digits.target)\n",
    "X_train, X_test, y_train, y_test = train_test_split(X, y, test_size=0.2, random_state=100)"
   ]
  },
  {
   "cell_type": "code",
   "execution_count": 16,
   "metadata": {},
   "outputs": [
    {
     "name": "stderr",
     "output_type": "stream",
     "text": [
      "Using TensorFlow backend.\n"
     ]
    },
    {
     "name": "stdout",
     "output_type": "stream",
     "text": [
      "Epoch 1/100\n",
      "1437/1437 [==============================] - 0s - loss: 8.1692 - acc: 0.0682     \n",
      "Epoch 2/100\n",
      "1437/1437 [==============================] - 0s - loss: 6.1486 - acc: 0.0891     \n",
      "Epoch 3/100\n",
      "1437/1437 [==============================] - 0s - loss: 4.9665 - acc: 0.0953     \n",
      "Epoch 4/100\n",
      "1437/1437 [==============================] - 0s - loss: 4.3481 - acc: 0.1113     \n",
      "Epoch 5/100\n",
      "1437/1437 [==============================] - 0s - loss: 3.6783 - acc: 0.1580     \n",
      "Epoch 6/100\n",
      "1437/1437 [==============================] - 0s - loss: 3.1635 - acc: 0.2164     \n",
      "Epoch 7/100\n",
      "1437/1437 [==============================] - 0s - loss: 2.7373 - acc: 0.2568     \n",
      "Epoch 8/100\n",
      "1437/1437 [==============================] - 0s - loss: 2.4488 - acc: 0.3173     \n",
      "Epoch 9/100\n",
      "1437/1437 [==============================] - 0s - loss: 2.2028 - acc: 0.3633     \n",
      "Epoch 10/100\n",
      "1437/1437 [==============================] - 0s - loss: 1.8948 - acc: 0.4196     \n",
      "Epoch 11/100\n",
      "1437/1437 [==============================] - 0s - loss: 1.6945 - acc: 0.4739     \n",
      "Epoch 12/100\n",
      "1437/1437 [==============================] - 0s - loss: 1.5266 - acc: 0.4969     \n",
      "Epoch 13/100\n",
      "1437/1437 [==============================] - 0s - loss: 1.3605 - acc: 0.5602     \n",
      "Epoch 14/100\n",
      "1437/1437 [==============================] - 0s - loss: 1.2421 - acc: 0.6103     \n",
      "Epoch 15/100\n",
      "1437/1437 [==============================] - 0s - loss: 1.1508 - acc: 0.6395     \n",
      "Epoch 16/100\n",
      "1437/1437 [==============================] - 0s - loss: 1.0630 - acc: 0.6451     \n",
      "Epoch 17/100\n",
      "1437/1437 [==============================] - 0s - loss: 0.9845 - acc: 0.6646     \n",
      "Epoch 18/100\n",
      "1437/1437 [==============================] - 0s - loss: 0.9346 - acc: 0.7001     \n",
      "Epoch 19/100\n",
      "1437/1437 [==============================] - 0s - loss: 0.8719 - acc: 0.7112     \n",
      "Epoch 20/100\n",
      "1437/1437 [==============================] - 0s - loss: 0.8102 - acc: 0.7258     \n",
      "Epoch 21/100\n",
      "1437/1437 [==============================] - 0s - loss: 0.7771 - acc: 0.7411     \n",
      "Epoch 22/100\n",
      "1437/1437 [==============================] - 0s - loss: 0.7472 - acc: 0.7446     \n",
      "Epoch 23/100\n",
      "1437/1437 [==============================] - 0s - loss: 0.6992 - acc: 0.7662     \n",
      "Epoch 24/100\n",
      "1437/1437 [==============================] - 0s - loss: 0.6888 - acc: 0.7655     \n",
      "Epoch 25/100\n",
      "1437/1437 [==============================] - 0s - loss: 0.6513 - acc: 0.7912     \n",
      "Epoch 26/100\n",
      "1437/1437 [==============================] - 0s - loss: 0.6306 - acc: 0.7829     \n",
      "Epoch 27/100\n",
      "1437/1437 [==============================] - 0s - loss: 0.5693 - acc: 0.8177     \n",
      "Epoch 28/100\n",
      "1437/1437 [==============================] - 0s - loss: 0.5322 - acc: 0.8170     \n",
      "Epoch 29/100\n",
      "1437/1437 [==============================] - 0s - loss: 0.5639 - acc: 0.8058     \n",
      "Epoch 30/100\n",
      "1437/1437 [==============================] - 0s - loss: 0.5697 - acc: 0.8191     \n",
      "Epoch 31/100\n",
      "1437/1437 [==============================] - 0s - loss: 0.5057 - acc: 0.8274     \n",
      "Epoch 32/100\n",
      "1437/1437 [==============================] - 0s - loss: 0.4682 - acc: 0.8372     \n",
      "Epoch 33/100\n",
      "1437/1437 [==============================] - 0s - loss: 0.4394 - acc: 0.8455     \n",
      "Epoch 34/100\n",
      "1437/1437 [==============================] - 0s - loss: 0.4450 - acc: 0.8553     \n",
      "Epoch 35/100\n",
      "1437/1437 [==============================] - 0s - loss: 0.4404 - acc: 0.8580     \n",
      "Epoch 36/100\n",
      "1437/1437 [==============================] - 0s - loss: 0.4405 - acc: 0.8448     \n",
      "Epoch 37/100\n",
      "1437/1437 [==============================] - 0s - loss: 0.4057 - acc: 0.8643     \n",
      "Epoch 38/100\n",
      "1437/1437 [==============================] - 0s - loss: 0.4228 - acc: 0.8559     \n",
      "Epoch 39/100\n",
      "1437/1437 [==============================] - 0s - loss: 0.4119 - acc: 0.8587     \n",
      "Epoch 40/100\n",
      "1437/1437 [==============================] - 0s - loss: 0.3782 - acc: 0.8664     \n",
      "Epoch 41/100\n",
      "1437/1437 [==============================] - 0s - loss: 0.3687 - acc: 0.8775     \n",
      "Epoch 42/100\n",
      "1437/1437 [==============================] - 0s - loss: 0.3877 - acc: 0.8664     \n",
      "Epoch 43/100\n",
      "1437/1437 [==============================] - 0s - loss: 0.3585 - acc: 0.8789     \n",
      "Epoch 44/100\n",
      "1437/1437 [==============================] - 0s - loss: 0.3610 - acc: 0.8761     \n",
      "Epoch 45/100\n",
      "1437/1437 [==============================] - 0s - loss: 0.3506 - acc: 0.8824     \n",
      "Epoch 46/100\n",
      "1437/1437 [==============================] - 0s - loss: 0.3342 - acc: 0.8887     \n",
      "Epoch 47/100\n",
      "1437/1437 [==============================] - 0s - loss: 0.3104 - acc: 0.8873     \n",
      "Epoch 48/100\n",
      "1437/1437 [==============================] - 0s - loss: 0.3141 - acc: 0.8977     \n",
      "Epoch 49/100\n",
      "1437/1437 [==============================] - 0s - loss: 0.3227 - acc: 0.8928     \n",
      "Epoch 50/100\n",
      "1437/1437 [==============================] - 0s - loss: 0.3152 - acc: 0.8907     \n",
      "Epoch 51/100\n",
      "1437/1437 [==============================] - 0s - loss: 0.3211 - acc: 0.8907     \n",
      "Epoch 52/100\n",
      "1437/1437 [==============================] - 0s - loss: 0.3015 - acc: 0.8991     \n",
      "Epoch 53/100\n",
      "1437/1437 [==============================] - 0s - loss: 0.3039 - acc: 0.9047     \n",
      "Epoch 54/100\n",
      "1437/1437 [==============================] - 0s - loss: 0.3027 - acc: 0.8991     \n",
      "Epoch 55/100\n",
      "1437/1437 [==============================] - 0s - loss: 0.3003 - acc: 0.8984     \n",
      "Epoch 56/100\n",
      "1437/1437 [==============================] - 0s - loss: 0.2743 - acc: 0.9102     \n",
      "Epoch 57/100\n",
      "1437/1437 [==============================] - 0s - loss: 0.2943 - acc: 0.9068     \n",
      "Epoch 58/100\n",
      "1437/1437 [==============================] - 0s - loss: 0.2549 - acc: 0.9165     \n",
      "Epoch 59/100\n",
      "1437/1437 [==============================] - 0s - loss: 0.2763 - acc: 0.9068     \n",
      "Epoch 60/100\n",
      "1437/1437 [==============================] - 0s - loss: 0.2691 - acc: 0.9054     \n",
      "Epoch 61/100\n",
      "1437/1437 [==============================] - 0s - loss: 0.2656 - acc: 0.9109     \n",
      "Epoch 62/100\n",
      "1437/1437 [==============================] - 0s - loss: 0.2628 - acc: 0.9172     \n",
      "Epoch 63/100\n",
      "1437/1437 [==============================] - 0s - loss: 0.2658 - acc: 0.9012     \n",
      "Epoch 64/100\n",
      "1437/1437 [==============================] - 0s - loss: 0.2972 - acc: 0.8963     \n",
      "Epoch 65/100\n",
      "1437/1437 [==============================] - 0s - loss: 0.2474 - acc: 0.9255     \n",
      "Epoch 66/100\n",
      "1437/1437 [==============================] - 0s - loss: 0.2530 - acc: 0.9207     \n",
      "Epoch 67/100\n",
      "1437/1437 [==============================] - 0s - loss: 0.2718 - acc: 0.9081     \n",
      "Epoch 68/100\n",
      "1437/1437 [==============================] - 0s - loss: 0.2345 - acc: 0.9276     \n",
      "Epoch 69/100\n",
      "1437/1437 [==============================] - 0s - loss: 0.2356 - acc: 0.9241     \n",
      "Epoch 70/100\n",
      "1437/1437 [==============================] - 0s - loss: 0.2325 - acc: 0.9193     \n",
      "Epoch 71/100\n",
      "1437/1437 [==============================] - 0s - loss: 0.2383 - acc: 0.9248     \n",
      "Epoch 72/100\n",
      "1437/1437 [==============================] - 0s - loss: 0.2162 - acc: 0.9214     \n",
      "Epoch 73/100\n",
      "1437/1437 [==============================] - 0s - loss: 0.2195 - acc: 0.9311     \n",
      "Epoch 74/100\n",
      "1437/1437 [==============================] - 0s - loss: 0.2170 - acc: 0.9325     \n",
      "Epoch 75/100\n",
      "1437/1437 [==============================] - 0s - loss: 0.2335 - acc: 0.9200     \n",
      "Epoch 76/100\n",
      "1437/1437 [==============================] - 0s - loss: 0.2138 - acc: 0.9339     \n",
      "Epoch 77/100\n",
      "1437/1437 [==============================] - 0s - loss: 0.2173 - acc: 0.9228     \n",
      "Epoch 78/100\n",
      "1437/1437 [==============================] - 0s - loss: 0.2003 - acc: 0.9304     \n",
      "Epoch 79/100\n",
      "1437/1437 [==============================] - 0s - loss: 0.2071 - acc: 0.9290     \n",
      "Epoch 80/100\n",
      "1437/1437 [==============================] - 0s - loss: 0.1944 - acc: 0.9402     \n",
      "Epoch 81/100\n",
      "1437/1437 [==============================] - 0s - loss: 0.2126 - acc: 0.9255     \n",
      "Epoch 82/100\n",
      "1437/1437 [==============================] - 0s - loss: 0.1863 - acc: 0.9457     \n",
      "Epoch 83/100\n",
      "1437/1437 [==============================] - 0s - loss: 0.1908 - acc: 0.9408     \n",
      "Epoch 84/100\n",
      "1437/1437 [==============================] - 0s - loss: 0.2044 - acc: 0.9360     \n",
      "Epoch 85/100\n",
      "1437/1437 [==============================] - 0s - loss: 0.2146 - acc: 0.9248     \n",
      "Epoch 86/100\n",
      "1437/1437 [==============================] - 0s - loss: 0.2030 - acc: 0.9332     \n",
      "Epoch 87/100\n"
     ]
    },
    {
     "name": "stdout",
     "output_type": "stream",
     "text": [
      "1437/1437 [==============================] - 0s - loss: 0.1942 - acc: 0.9346     \n",
      "Epoch 88/100\n",
      "1437/1437 [==============================] - 0s - loss: 0.1982 - acc: 0.9318     \n",
      "Epoch 89/100\n",
      "1437/1437 [==============================] - 0s - loss: 0.1878 - acc: 0.9422     \n",
      "Epoch 90/100\n",
      "1437/1437 [==============================] - 0s - loss: 0.1916 - acc: 0.9290     \n",
      "Epoch 91/100\n",
      "1437/1437 [==============================] - 0s - loss: 0.2054 - acc: 0.9325     \n",
      "Epoch 92/100\n",
      "1437/1437 [==============================] - 0s - loss: 0.1831 - acc: 0.9408     \n",
      "Epoch 93/100\n",
      "1437/1437 [==============================] - 0s - loss: 0.1776 - acc: 0.9457     \n",
      "Epoch 94/100\n",
      "1437/1437 [==============================] - 0s - loss: 0.1832 - acc: 0.9346     \n",
      "Epoch 95/100\n",
      "1437/1437 [==============================] - 0s - loss: 0.1727 - acc: 0.9402     \n",
      "Epoch 96/100\n",
      "1437/1437 [==============================] - 0s - loss: 0.1785 - acc: 0.9478     \n",
      "Epoch 97/100\n",
      "1437/1437 [==============================] - 0s - loss: 0.1624 - acc: 0.9471     \n",
      "Epoch 98/100\n",
      "1437/1437 [==============================] - 0s - loss: 0.1664 - acc: 0.9450     \n",
      "Epoch 99/100\n",
      "1437/1437 [==============================] - 0s - loss: 0.1863 - acc: 0.9381     \n",
      "Epoch 100/100\n",
      "1437/1437 [==============================] - 0s - loss: 0.1679 - acc: 0.9415     \n"
     ]
    },
    {
     "data": {
      "text/plain": [
       "<keras.callbacks.History at 0x142434a8>"
      ]
     },
     "execution_count": 16,
     "metadata": {},
     "output_type": "execute_result"
    }
   ],
   "source": [
    "# Import sklearn models for preprocessing input data\n",
    "from sklearn.model_selection import train_test_split \n",
    "from sklearn.preprocessing import LabelBinarizer\n",
    "\n",
    "# Import the necessary Keras libraries\n",
    "from keras.models import Sequential\n",
    "from keras.layers import Dense, Dropout, Flatten\n",
    "from keras.layers.convolutional import Convolution2D, MaxPooling2D\n",
    "from keras import backend as K\n",
    "from keras.callbacks import History \n",
    "\n",
    "# Randomize and split data into training dataset with right format to feed to Keras\n",
    "lb = LabelBinarizer()\n",
    "X = np.expand_dims(digits.images.T, axis=0).T\n",
    "y = lb.fit_transform(digits.target)\n",
    "X_train, X_test, y_train, y_test = train_test_split(X, y, test_size=0.2, random_state=100)\n",
    "\n",
    "# Start a Keras sequential model\n",
    "model = Sequential()\n",
    "\n",
    "# Set input format shape as (batch, height, width, channels)\n",
    "K.set_image_data_format('channels_last') \n",
    "\n",
    "model.add(Convolution2D(filters=4,kernel_size=(3,3),padding='same',input_shape=(8,8,1),activation='relu'))\n",
    "model.add(MaxPooling2D(pool_size=(2,2)))\n",
    "\n",
    "# Drop out 5% of training data in each batch\n",
    "model.add(Flatten())\n",
    "model.add(Dropout(0.05))\n",
    "model.add(Dense(10, activation= 'softmax'))\n",
    "\n",
    "# Set variable 'history' to store callbacks to track the validation loss\n",
    "history = History()\n",
    "\n",
    "# Compile the model\n",
    "model.compile(loss='categorical_crossentropy', optimizer='adam', metrics=['accuracy'])\n",
    "\n",
    "# Fit the model and save the callbacks of validation loss and accuracy to 'history'\n",
    "model.fit(X_train,y_train, epochs=100, batch_size= 128, callbacks=[history])"
   ]
  },
  {
   "cell_type": "markdown",
   "metadata": {},
   "source": [
    "# Evaluating prediction results with visualizations"
   ]
  },
  {
   "cell_type": "code",
   "execution_count": 17,
   "metadata": {},
   "outputs": [
    {
     "name": "stdout",
     "output_type": "stream",
     "text": [
      "dict_keys(['loss', 'acc'])\n"
     ]
    }
   ],
   "source": [
    "print(history.history.keys())"
   ]
  },
  {
   "cell_type": "code",
   "execution_count": 18,
   "metadata": {},
   "outputs": [
    {
     "data": {
      "image/png": "[encoded data removed]",
      "text/plain": [
       "<matplotlib.figure.Figure at 0x14830550>"
      ]
     },
     "metadata": {},
     "output_type": "display_data"
    },
    {
     "data": {
      "image/png": "[encoded data removed]",
      "text/plain": [
       "<matplotlib.figure.Figure at 0x1495c860>"
      ]
     },
     "metadata": {},
     "output_type": "display_data"
    }
   ],
   "source": [
    "import pandas as pd\n",
    "import matplotlib\n",
    "matplotlib.style.use('seaborn')\n",
    "\n",
    "# Here plots the loss function graph along Epochs\n",
    "pd.DataFrame(history.history['loss']).plot()\n",
    "plt.legend([])\n",
    "plt.xlabel('Epoch')\n",
    "plt.ylabel('Loss')\n",
    "plt.title('Validation loss across 100 epochs',fontsize=20,fontweight='bold')\n",
    "plt.show()\n",
    "\n",
    "# Here plots the percentage of accuracy along Epochs\n",
    "pd.DataFrame(history.history['acc']).plot()\n",
    "plt.legend([])\n",
    "plt.xlabel('Epoch')\n",
    "plt.ylabel('Accuracy')\n",
    "plt.title('Accuracy loss across 100 epochs',fontsize=20,fontweight='bold')\n",
    "plt.show()"
   ]
  },
  {
   "cell_type": "markdown",
   "metadata": {},
   "source": [
    "---\n",
    "## Examining the prediction performance for each digit "
   ]
  },
  {
   "cell_type": "code",
   "execution_count": 19,
   "metadata": {
    "collapsed": true
   },
   "outputs": [],
   "source": [
    "y_test1 = model.predict(X_test)\n",
    "y_test1 = lb.fit_transform(np.round(y_test1))\n",
    "y_test1 = np.argmax(y_test1, axis=1)\n",
    "y_test = np.argmax(y_test, axis=1)"
   ]
  },
  {
   "cell_type": "code",
   "execution_count": 20,
   "metadata": {},
   "outputs": [
    {
     "name": "stdout",
     "output_type": "stream",
     "text": [
      "[  0  56  80 117 134 135 146 189 192 198 202 237 291 294 323 335]\n",
      "[9 8 1 4 8 2 8 8 4 8 9 3 7 6 8 8]\n",
      "[8 5 0 9 0 0 0 0 9 1 0 7 9 8 9 3]\n"
     ]
    }
   ],
   "source": [
    "import numpy as np\n",
    "mislabeled_indices = np.arange(len(y_test))[y_test!=y_test1]\n",
    "true_labels = np.asarray([y_test[i] for i in mislabeled_indices])\n",
    "predicted_labels = np.asarray([y_test1[i] for i in mislabeled_indices])\n",
    "print(mislabeled_indices)\n",
    "print(true_labels)\n",
    "print(predicted_labels)"
   ]
  },
  {
   "cell_type": "code",
   "execution_count": 21,
   "metadata": {},
   "outputs": [
    {
     "data": {
      "text/plain": [
       "[0, 1, 1, 1, 2, 0, 1, 1, 7, 2]"
      ]
     },
     "execution_count": 21,
     "metadata": {},
     "output_type": "execute_result"
    }
   ],
   "source": [
    "mislabeled_digit_counts = [len(true_labels[true_labels==i]) for i in range(10)]\n",
    "mislabeled_digit_counts "
   ]
  },
  {
   "cell_type": "code",
   "execution_count": 22,
   "metadata": {},
   "outputs": [
    {
     "data": {
      "text/plain": [
       "[42, 32, 41, 32, 36, 35, 40, 39, 27, 36]"
      ]
     },
     "execution_count": 22,
     "metadata": {},
     "output_type": "execute_result"
    }
   ],
   "source": [
    "total_digit_counts = [len(y_test[y_test==i]) for i in range(10)]\n",
    "total_digit_counts"
   ]
  },
  {
   "cell_type": "code",
   "execution_count": 23,
   "metadata": {},
   "outputs": [
    {
     "data": {
      "text/plain": [
       "[0.0,\n",
       " 0.03125,\n",
       " 0.024390243902439025,\n",
       " 0.03125,\n",
       " 0.05555555555555555,\n",
       " 0.0,\n",
       " 0.025,\n",
       " 0.02564102564102564,\n",
       " 0.25925925925925924,\n",
       " 0.05555555555555555]"
      ]
     },
     "execution_count": 23,
     "metadata": {},
     "output_type": "execute_result"
    }
   ],
   "source": [
    "mislabeled_ratio = [mislabeled_digit_counts[i]/total_digit_counts[i] for i in range(10)]\n",
    "mislabeled_ratio"
   ]
  },
  {
   "cell_type": "code",
   "execution_count": 24,
   "metadata": {
    "scrolled": true
   },
   "outputs": [
    {
     "data": {
      "image/png": "[encoded data removed]",
      "text/plain": [
       "<matplotlib.figure.Figure at 0x14805c50>"
      ]
     },
     "metadata": {},
     "output_type": "display_data"
    }
   ],
   "source": [
    "pd.DataFrame(mislabeled_ratio).plot(kind='bar')\n",
    "plt.xticks(rotation=0)\n",
    "plt.xlabel('Digit')\n",
    "plt.ylabel('Mislabeled ratio')\n",
    "plt.legend([])\n",
    "plt.show()"
   ]
  },
  {
   "cell_type": "markdown",
   "metadata": {},
   "source": [
    "---\n",
    "## Extracting the falsely predicted images"
   ]
  },
  {
   "cell_type": "code",
   "execution_count": 25,
   "metadata": {},
   "outputs": [
    {
     "data": {
      "image/png": "[encoded data removed]",
      "text/plain": [
       "<matplotlib.figure.Figure at 0x148403c8>"
      ]
     },
     "metadata": {},
     "output_type": "display_data"
    }
   ],
   "source": [
    "import matplotlib.pyplot as plt\n",
    "nrows, ncols = 2, 5\n",
    "plt.figure(figsize=(6,3))\n",
    "for i in range(ncols * nrows):\n",
    "    j = mislabeled_indices[i]\n",
    "    ax = plt.subplot(nrows, ncols, i + 1)\n",
    "    ax.imshow(X_test[j].reshape(8,8),cmap='gray_r')\n",
    "    plt.xticks([])\n",
    "    plt.yticks([])\n",
    "    plt.title(y_test1[j],color='red')\n",
    "    plt.xlabel(y_test[j],color='green')\n",
    "plt.show()"
   ]
  },
  {
   "cell_type": "code",
   "execution_count": null,
   "metadata": {
    "collapsed": true
   },
   "outputs": [],
   "source": []
  }
 ],
 "metadata": {
  "kernelspec": {
   "display_name": "Python 3",
   "language": "python",
   "name": "python3"
  },
  "language_info": {
   "codemirror_mode": {
    "name": "ipython",
    "version": 3
   },
   "file_extension": ".py",
   "mimetype": "text/x-python",
   "name": "python",
   "nbconvert_exporter": "python",
   "pygments_lexer": "ipython3",
   "version": "3.6.3"
  }
 },
 "nbformat": 4,
 "nbformat_minor": 2
}
