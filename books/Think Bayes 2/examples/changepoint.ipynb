{
 "cells": [
  {
   "cell_type": "markdown",
   "metadata": {},
   "source": [
    "# Changepoint Detection"
   ]
  },
  {
   "cell_type": "markdown",
   "metadata": {},
   "source": [
    "Think Bayes, Second Edition\n",
    "\n",
    "Copyright 2020 Allen B. Downey\n",
    "\n",
    "License: [Attribution-NonCommercial-ShareAlike 4.0 International (CC BY-NC-SA 4.0)](https://creativecommons.org/licenses/by-nc-sa/4.0/)"
   ]
  },
  {
   "cell_type": "code",
   "execution_count": 11,
   "metadata": {},
   "outputs": [],
   "source": [
    "# If we're running on Colab, install empiricaldist\n",
    "# https://pypi.org/project/empiricaldist/\n",
    "\n",
    "import sys\n",
    "IN_COLAB = 'google.colab' in sys.modules\n",
    "\n",
    "if IN_COLAB:\n",
    "    !pip install empiricaldist"
   ]
  },
  {
   "cell_type": "code",
   "execution_count": 12,
   "metadata": {},
   "outputs": [],
   "source": [
    "# Get utils.py\n",
    "\n",
    "from os.path import basename, exists\n",
    "\n",
    "def download(url):\n",
    "    filename = basename(url)\n",
    "    if not exists(filename):\n",
    "        from urllib.request import urlretrieve\n",
    "        local, _ = urlretrieve(url, filename)\n",
    "        print('Downloaded ' + local)\n",
    "    \n",
    "download('https://github.com/AllenDowney/ThinkBayes2/raw/master/soln/utils.py')"
   ]
  },
  {
   "cell_type": "code",
   "execution_count": 2,
   "metadata": {},
   "outputs": [],
   "source": [
    "\n",
    "\n",
    "import numpy as np\n",
    "import pandas as pd\n",
    "\n",
    "\n",
    "\n"
   ]
  },
  {
   "cell_type": "code",
   "execution_count": 3,
   "metadata": {},
   "outputs": [],
   "source": [
    "n = 60\n",
    "t1 = 30\n",
    "t2 = n-t1\n",
    "lam1 = 4\n",
    "lam2 = 2"
   ]
  },
  {
   "cell_type": "code",
   "execution_count": 5,
   "metadata": {},
   "outputs": [
    {
     "data": {
      "text/plain": [
       "array([3, 2, 1, 7, 7, 5, 3, 3, 3, 3, 1, 5, 0, 3, 5, 3, 2, 6, 2, 4, 4, 3,\n",
       "       3, 4, 5, 5, 4, 9, 3, 4])"
      ]
     },
     "execution_count": 5,
     "metadata": {},
     "output_type": "execute_result"
    }
   ],
   "source": [
    "from scipy.stats import poisson\n",
    "\n",
    "before = poisson(lam1).rvs(t1)\n",
    "before"
   ]
  },
  {
   "cell_type": "code",
   "execution_count": 6,
   "metadata": {},
   "outputs": [
    {
     "data": {
      "text/plain": [
       "array([5, 3, 0, 3, 0, 3, 6, 1, 1, 3, 2, 1, 1, 2, 0, 2, 1, 1, 0, 2, 1, 1,\n",
       "       0, 1, 1, 3, 2, 2, 1, 2])"
      ]
     },
     "execution_count": 6,
     "metadata": {},
     "output_type": "execute_result"
    }
   ],
   "source": [
    "after = poisson(lam2).rvs(t2)\n",
    "after"
   ]
  },
  {
   "cell_type": "code",
   "execution_count": 7,
   "metadata": {},
   "outputs": [],
   "source": [
    "data = np.concatenate([before, after])"
   ]
  },
  {
   "cell_type": "code",
   "execution_count": 6,
   "metadata": {},
   "outputs": [
    {
     "data": {
      "text/plain": [
       "array([0.14652511, 0.19536681, 0.19536681, 0.05954036, 0.14652511,\n",
       "       0.14652511, 0.19536681, 0.19536681, 0.15629345, 0.19536681,\n",
       "       0.19536681, 0.00192454, 0.14652511, 0.05954036, 0.02977018,\n",
       "       0.19536681, 0.19536681, 0.19536681, 0.19536681, 0.19536681,\n",
       "       0.14652511, 0.19536681, 0.15629345, 0.19536681, 0.19536681,\n",
       "       0.19536681, 0.07326256, 0.15629345, 0.19536681, 0.05954036])"
      ]
     },
     "execution_count": 6,
     "metadata": {},
     "output_type": "execute_result"
    }
   ],
   "source": [
    "poisson.pmf(before, 4)"
   ]
  },
  {
   "cell_type": "code",
   "execution_count": 7,
   "metadata": {},
   "outputs": [
    {
     "data": {
      "text/plain": [
       "array([0.27067057, 0.03608941, 0.18044704, 0.09022352, 0.18044704,\n",
       "       0.27067057, 0.13533528, 0.09022352, 0.13533528, 0.27067057,\n",
       "       0.27067057, 0.27067057, 0.27067057, 0.13533528, 0.27067057,\n",
       "       0.18044704, 0.13533528, 0.18044704, 0.18044704, 0.09022352,\n",
       "       0.18044704, 0.09022352, 0.27067057, 0.27067057, 0.27067057,\n",
       "       0.13533528, 0.27067057, 0.18044704, 0.18044704, 0.13533528])"
      ]
     },
     "execution_count": 7,
     "metadata": {},
     "output_type": "execute_result"
    }
   ],
   "source": [
    "poisson.pmf(after, 2)"
   ]
  },
  {
   "cell_type": "code",
   "execution_count": 106,
   "metadata": {},
   "outputs": [],
   "source": [
    "def likelihood(t, lam1, lam2):\n",
    "    before = data[:t]\n",
    "    after = data[t:]\n",
    "    # make meshes\n",
    "    like1 = 0\n",
    "    like2 = 0\n",
    "    return like1 * like2"
   ]
  },
  {
   "cell_type": "code",
   "execution_count": 107,
   "metadata": {},
   "outputs": [],
   "source": [
    "from empiricaldist import Pmf\n",
    "\n",
    "ts = range(1, len(data))\n",
    "prior_t = Pmf(1, ts)"
   ]
  },
  {
   "cell_type": "code",
   "execution_count": 108,
   "metadata": {},
   "outputs": [],
   "source": [
    "lams = np.linspace(0, 10, 51)\n",
    "prior_lam1 = Pmf(1, lams)"
   ]
  },
  {
   "cell_type": "code",
   "execution_count": 109,
   "metadata": {},
   "outputs": [],
   "source": [
    "lams = np.linspace(0, 10, 41)\n",
    "prior_lam2 = Pmf(1, lams)"
   ]
  },
  {
   "cell_type": "code",
   "execution_count": 110,
   "metadata": {},
   "outputs": [],
   "source": [
    "from utils import make_joint\n",
    "\n",
    "def make_joint3(pmf1, pmf2, pmf3):\n",
    "    \"\"\"Make a joint distribution with three parameters.\"\"\"\n",
    "    joint2 = make_joint(pmf2, pmf1).stack()\n",
    "    joint3 = make_joint(pmf3, joint2).stack()\n",
    "    return Pmf(joint3)"
   ]
  },
  {
   "cell_type": "code",
   "execution_count": 111,
   "metadata": {},
   "outputs": [
    {
     "data": {
      "text/html": [
       "<div>\n",
       "<style scoped>\n",
       "    .dataframe tbody tr th:only-of-type {\n",
       "        vertical-align: middle;\n",
       "    }\n",
       "\n",
       "    .dataframe tbody tr th {\n",
       "        vertical-align: top;\n",
       "    }\n",
       "\n",
       "    .dataframe thead th {\n",
       "        text-align: right;\n",
       "    }\n",
       "</style>\n",
       "<table border=\"1\" class=\"dataframe\">\n",
       "  <thead>\n",
       "    <tr style=\"text-align: right;\">\n",
       "      <th></th>\n",
       "      <th></th>\n",
       "      <th></th>\n",
       "      <th>probs</th>\n",
       "    </tr>\n",
       "  </thead>\n",
       "  <tbody>\n",
       "    <tr>\n",
       "      <th rowspan=\"3\" valign=\"top\">1</th>\n",
       "      <th rowspan=\"3\" valign=\"top\">0.0</th>\n",
       "      <th>0.00</th>\n",
       "      <td>1</td>\n",
       "    </tr>\n",
       "    <tr>\n",
       "      <th>0.25</th>\n",
       "      <td>1</td>\n",
       "    </tr>\n",
       "    <tr>\n",
       "      <th>0.50</th>\n",
       "      <td>1</td>\n",
       "    </tr>\n",
       "  </tbody>\n",
       "</table>\n",
       "</div>"
      ],
      "text/plain": [
       "1  0.0  0.00    1\n",
       "        0.25    1\n",
       "        0.50    1\n",
       "Name: , dtype: int64"
      ]
     },
     "execution_count": 111,
     "metadata": {},
     "output_type": "execute_result"
    }
   ],
   "source": [
    "joint_prior = make_joint3(prior_t, prior_lam1, prior_lam2)\n",
    "joint_prior.head()"
   ]
  },
  {
   "cell_type": "code",
   "execution_count": 112,
   "metadata": {},
   "outputs": [
    {
     "data": {
      "text/html": [
       "<div>\n",
       "<style scoped>\n",
       "    .dataframe tbody tr th:only-of-type {\n",
       "        vertical-align: middle;\n",
       "    }\n",
       "\n",
       "    .dataframe tbody tr th {\n",
       "        vertical-align: top;\n",
       "    }\n",
       "\n",
       "    .dataframe thead tr th {\n",
       "        text-align: left;\n",
       "    }\n",
       "</style>\n",
       "<table border=\"1\" class=\"dataframe\">\n",
       "  <thead>\n",
       "    <tr>\n",
       "      <th></th>\n",
       "      <th colspan=\"10\" halign=\"left\">0.0</th>\n",
       "      <th>...</th>\n",
       "      <th colspan=\"10\" halign=\"left\">10.0</th>\n",
       "    </tr>\n",
       "    <tr>\n",
       "      <th></th>\n",
       "      <th>0.0</th>\n",
       "      <th>0.2</th>\n",
       "      <th>0.4</th>\n",
       "      <th>0.6</th>\n",
       "      <th>0.8</th>\n",
       "      <th>1.0</th>\n",
       "      <th>1.2</th>\n",
       "      <th>1.4</th>\n",
       "      <th>1.6</th>\n",
       "      <th>1.8</th>\n",
       "      <th>...</th>\n",
       "      <th>8.2</th>\n",
       "      <th>8.4</th>\n",
       "      <th>8.6</th>\n",
       "      <th>8.8</th>\n",
       "      <th>9.0</th>\n",
       "      <th>9.2</th>\n",
       "      <th>9.4</th>\n",
       "      <th>9.6</th>\n",
       "      <th>9.8</th>\n",
       "      <th>10.0</th>\n",
       "    </tr>\n",
       "  </thead>\n",
       "  <tbody>\n",
       "    <tr>\n",
       "      <th>1</th>\n",
       "      <td>1</td>\n",
       "      <td>1</td>\n",
       "      <td>1</td>\n",
       "      <td>1</td>\n",
       "      <td>1</td>\n",
       "      <td>1</td>\n",
       "      <td>1</td>\n",
       "      <td>1</td>\n",
       "      <td>1</td>\n",
       "      <td>1</td>\n",
       "      <td>...</td>\n",
       "      <td>1</td>\n",
       "      <td>1</td>\n",
       "      <td>1</td>\n",
       "      <td>1</td>\n",
       "      <td>1</td>\n",
       "      <td>1</td>\n",
       "      <td>1</td>\n",
       "      <td>1</td>\n",
       "      <td>1</td>\n",
       "      <td>1</td>\n",
       "    </tr>\n",
       "    <tr>\n",
       "      <th>2</th>\n",
       "      <td>1</td>\n",
       "      <td>1</td>\n",
       "      <td>1</td>\n",
       "      <td>1</td>\n",
       "      <td>1</td>\n",
       "      <td>1</td>\n",
       "      <td>1</td>\n",
       "      <td>1</td>\n",
       "      <td>1</td>\n",
       "      <td>1</td>\n",
       "      <td>...</td>\n",
       "      <td>1</td>\n",
       "      <td>1</td>\n",
       "      <td>1</td>\n",
       "      <td>1</td>\n",
       "      <td>1</td>\n",
       "      <td>1</td>\n",
       "      <td>1</td>\n",
       "      <td>1</td>\n",
       "      <td>1</td>\n",
       "      <td>1</td>\n",
       "    </tr>\n",
       "    <tr>\n",
       "      <th>3</th>\n",
       "      <td>1</td>\n",
       "      <td>1</td>\n",
       "      <td>1</td>\n",
       "      <td>1</td>\n",
       "      <td>1</td>\n",
       "      <td>1</td>\n",
       "      <td>1</td>\n",
       "      <td>1</td>\n",
       "      <td>1</td>\n",
       "      <td>1</td>\n",
       "      <td>...</td>\n",
       "      <td>1</td>\n",
       "      <td>1</td>\n",
       "      <td>1</td>\n",
       "      <td>1</td>\n",
       "      <td>1</td>\n",
       "      <td>1</td>\n",
       "      <td>1</td>\n",
       "      <td>1</td>\n",
       "      <td>1</td>\n",
       "      <td>1</td>\n",
       "    </tr>\n",
       "    <tr>\n",
       "      <th>4</th>\n",
       "      <td>1</td>\n",
       "      <td>1</td>\n",
       "      <td>1</td>\n",
       "      <td>1</td>\n",
       "      <td>1</td>\n",
       "      <td>1</td>\n",
       "      <td>1</td>\n",
       "      <td>1</td>\n",
       "      <td>1</td>\n",
       "      <td>1</td>\n",
       "      <td>...</td>\n",
       "      <td>1</td>\n",
       "      <td>1</td>\n",
       "      <td>1</td>\n",
       "      <td>1</td>\n",
       "      <td>1</td>\n",
       "      <td>1</td>\n",
       "      <td>1</td>\n",
       "      <td>1</td>\n",
       "      <td>1</td>\n",
       "      <td>1</td>\n",
       "    </tr>\n",
       "    <tr>\n",
       "      <th>5</th>\n",
       "      <td>1</td>\n",
       "      <td>1</td>\n",
       "      <td>1</td>\n",
       "      <td>1</td>\n",
       "      <td>1</td>\n",
       "      <td>1</td>\n",
       "      <td>1</td>\n",
       "      <td>1</td>\n",
       "      <td>1</td>\n",
       "      <td>1</td>\n",
       "      <td>...</td>\n",
       "      <td>1</td>\n",
       "      <td>1</td>\n",
       "      <td>1</td>\n",
       "      <td>1</td>\n",
       "      <td>1</td>\n",
       "      <td>1</td>\n",
       "      <td>1</td>\n",
       "      <td>1</td>\n",
       "      <td>1</td>\n",
       "      <td>1</td>\n",
       "    </tr>\n",
       "  </tbody>\n",
       "</table>\n",
       "<p>5 rows × 2091 columns</p>\n",
       "</div>"
      ],
      "text/plain": [
       "  0.0                                                ... 10.0                 \\\n",
       "  0.0  0.2  0.4  0.6  0.8  1.0  1.2  1.4  1.6  1.8   ... 8.2  8.4  8.6  8.8    \n",
       "1    1    1    1    1    1    1    1    1    1    1  ...    1    1    1    1   \n",
       "2    1    1    1    1    1    1    1    1    1    1  ...    1    1    1    1   \n",
       "3    1    1    1    1    1    1    1    1    1    1  ...    1    1    1    1   \n",
       "4    1    1    1    1    1    1    1    1    1    1  ...    1    1    1    1   \n",
       "5    1    1    1    1    1    1    1    1    1    1  ...    1    1    1    1   \n",
       "\n",
       "                                 \n",
       "  9.0  9.2  9.4  9.6  9.8  10.0  \n",
       "1    1    1    1    1    1    1  \n",
       "2    1    1    1    1    1    1  \n",
       "3    1    1    1    1    1    1  \n",
       "4    1    1    1    1    1    1  \n",
       "5    1    1    1    1    1    1  \n",
       "\n",
       "[5 rows x 2091 columns]"
      ]
     },
     "execution_count": 112,
     "metadata": {},
     "output_type": "execute_result"
    }
   ],
   "source": [
    "likelihood = joint_prior.copy().unstack().unstack()\n",
    "likelihood.head()"
   ]
  },
  {
   "cell_type": "code",
   "execution_count": 126,
   "metadata": {},
   "outputs": [
    {
     "data": {
      "text/html": [
       "<div>\n",
       "<style scoped>\n",
       "    .dataframe tbody tr th:only-of-type {\n",
       "        vertical-align: middle;\n",
       "    }\n",
       "\n",
       "    .dataframe tbody tr th {\n",
       "        vertical-align: top;\n",
       "    }\n",
       "\n",
       "    .dataframe thead th {\n",
       "        text-align: right;\n",
       "    }\n",
       "</style>\n",
       "<table border=\"1\" class=\"dataframe\">\n",
       "  <thead>\n",
       "    <tr style=\"text-align: right;\">\n",
       "      <th></th>\n",
       "      <th>0.0</th>\n",
       "      <th>0.2</th>\n",
       "      <th>0.4</th>\n",
       "      <th>0.6</th>\n",
       "      <th>0.8</th>\n",
       "      <th>1.0</th>\n",
       "      <th>1.2</th>\n",
       "      <th>1.4</th>\n",
       "      <th>1.6</th>\n",
       "      <th>1.8</th>\n",
       "      <th>...</th>\n",
       "      <th>8.2</th>\n",
       "      <th>8.4</th>\n",
       "      <th>8.6</th>\n",
       "      <th>8.8</th>\n",
       "      <th>9.0</th>\n",
       "      <th>9.2</th>\n",
       "      <th>9.4</th>\n",
       "      <th>9.6</th>\n",
       "      <th>9.8</th>\n",
       "      <th>10.0</th>\n",
       "    </tr>\n",
       "  </thead>\n",
       "  <tbody>\n",
       "    <tr>\n",
       "      <th>0.00</th>\n",
       "      <td>0.0</td>\n",
       "      <td>0.000000e+00</td>\n",
       "      <td>0.000000e+00</td>\n",
       "      <td>0.000000e+00</td>\n",
       "      <td>0.000000e+00</td>\n",
       "      <td>0.000000e+00</td>\n",
       "      <td>0.000000e+00</td>\n",
       "      <td>0.000000e+00</td>\n",
       "      <td>0.000000e+00</td>\n",
       "      <td>0.000000e+00</td>\n",
       "      <td>...</td>\n",
       "      <td>0.000000e+00</td>\n",
       "      <td>0.000000e+00</td>\n",
       "      <td>0.000000e+00</td>\n",
       "      <td>0.000000e+00</td>\n",
       "      <td>0.000000e+00</td>\n",
       "      <td>0.000000e+00</td>\n",
       "      <td>0.000000e+00</td>\n",
       "      <td>0.000000e+00</td>\n",
       "      <td>0.000000e+00</td>\n",
       "      <td>0.000000e+00</td>\n",
       "    </tr>\n",
       "    <tr>\n",
       "      <th>0.25</th>\n",
       "      <td>0.0</td>\n",
       "      <td>2.566392e-168</td>\n",
       "      <td>3.303053e-137</td>\n",
       "      <td>4.318866e-120</td>\n",
       "      <td>1.053759e-108</td>\n",
       "      <td>1.865932e-100</td>\n",
       "      <td>3.415298e-94</td>\n",
       "      <td>2.665030e-89</td>\n",
       "      <td>2.065538e-85</td>\n",
       "      <td>2.743777e-82</td>\n",
       "      <td>...</td>\n",
       "      <td>6.463076e-92</td>\n",
       "      <td>2.381228e-93</td>\n",
       "      <td>8.233425e-95</td>\n",
       "      <td>2.679455e-96</td>\n",
       "      <td>8.229648e-98</td>\n",
       "      <td>2.391608e-99</td>\n",
       "      <td>6.591831e-101</td>\n",
       "      <td>1.727021e-102</td>\n",
       "      <td>4.309959e-104</td>\n",
       "      <td>1.026563e-105</td>\n",
       "    </tr>\n",
       "    <tr>\n",
       "      <th>0.50</th>\n",
       "      <td>0.0</td>\n",
       "      <td>3.196275e-156</td>\n",
       "      <td>4.113739e-125</td>\n",
       "      <td>5.378868e-108</td>\n",
       "      <td>1.312389e-96</td>\n",
       "      <td>2.323898e-88</td>\n",
       "      <td>4.253532e-82</td>\n",
       "      <td>3.319122e-77</td>\n",
       "      <td>2.572494e-73</td>\n",
       "      <td>3.417197e-70</td>\n",
       "      <td>...</td>\n",
       "      <td>8.049343e-80</td>\n",
       "      <td>2.965665e-81</td>\n",
       "      <td>1.025420e-82</td>\n",
       "      <td>3.337087e-84</td>\n",
       "      <td>1.024949e-85</td>\n",
       "      <td>2.978593e-87</td>\n",
       "      <td>8.209698e-89</td>\n",
       "      <td>2.150893e-90</td>\n",
       "      <td>5.367775e-92</td>\n",
       "      <td>1.278518e-93</td>\n",
       "    </tr>\n",
       "    <tr>\n",
       "      <th>0.75</th>\n",
       "      <td>0.0</td>\n",
       "      <td>1.690790e-150</td>\n",
       "      <td>2.176117e-119</td>\n",
       "      <td>2.845355e-102</td>\n",
       "      <td>6.942375e-91</td>\n",
       "      <td>1.229313e-82</td>\n",
       "      <td>2.250066e-76</td>\n",
       "      <td>1.755775e-71</td>\n",
       "      <td>1.360818e-67</td>\n",
       "      <td>1.807655e-64</td>\n",
       "      <td>...</td>\n",
       "      <td>4.258003e-74</td>\n",
       "      <td>1.568800e-75</td>\n",
       "      <td>5.424345e-77</td>\n",
       "      <td>1.765278e-78</td>\n",
       "      <td>5.421857e-80</td>\n",
       "      <td>1.575639e-81</td>\n",
       "      <td>4.342830e-83</td>\n",
       "      <td>1.137796e-84</td>\n",
       "      <td>2.839487e-86</td>\n",
       "      <td>6.763205e-88</td>\n",
       "    </tr>\n",
       "    <tr>\n",
       "      <th>1.00</th>\n",
       "      <td>0.0</td>\n",
       "      <td>2.201693e-147</td>\n",
       "      <td>2.833670e-116</td>\n",
       "      <td>3.705130e-99</td>\n",
       "      <td>9.040137e-88</td>\n",
       "      <td>1.600772e-79</td>\n",
       "      <td>2.929964e-73</td>\n",
       "      <td>2.286314e-68</td>\n",
       "      <td>1.772013e-64</td>\n",
       "      <td>2.353871e-61</td>\n",
       "      <td>...</td>\n",
       "      <td>5.544635e-71</td>\n",
       "      <td>2.042841e-72</td>\n",
       "      <td>7.063407e-74</td>\n",
       "      <td>2.298688e-75</td>\n",
       "      <td>7.060167e-77</td>\n",
       "      <td>2.051747e-78</td>\n",
       "      <td>5.655093e-80</td>\n",
       "      <td>1.481601e-81</td>\n",
       "      <td>3.697489e-83</td>\n",
       "      <td>8.806827e-85</td>\n",
       "    </tr>\n",
       "  </tbody>\n",
       "</table>\n",
       "<p>5 rows × 51 columns</p>\n",
       "</div>"
      ],
      "text/plain": [
       "      0.0            0.2            0.4            0.6            0.8   \\\n",
       "0.00   0.0   0.000000e+00   0.000000e+00   0.000000e+00   0.000000e+00   \n",
       "0.25   0.0  2.566392e-168  3.303053e-137  4.318866e-120  1.053759e-108   \n",
       "0.50   0.0  3.196275e-156  4.113739e-125  5.378868e-108   1.312389e-96   \n",
       "0.75   0.0  1.690790e-150  2.176117e-119  2.845355e-102   6.942375e-91   \n",
       "1.00   0.0  2.201693e-147  2.833670e-116   3.705130e-99   9.040137e-88   \n",
       "\n",
       "               1.0           1.2           1.4           1.6           1.8   \\\n",
       "0.00   0.000000e+00  0.000000e+00  0.000000e+00  0.000000e+00  0.000000e+00   \n",
       "0.25  1.865932e-100  3.415298e-94  2.665030e-89  2.065538e-85  2.743777e-82   \n",
       "0.50   2.323898e-88  4.253532e-82  3.319122e-77  2.572494e-73  3.417197e-70   \n",
       "0.75   1.229313e-82  2.250066e-76  1.755775e-71  1.360818e-67  1.807655e-64   \n",
       "1.00   1.600772e-79  2.929964e-73  2.286314e-68  1.772013e-64  2.353871e-61   \n",
       "\n",
       "      ...          8.2           8.4           8.6           8.8   \\\n",
       "0.00  ...  0.000000e+00  0.000000e+00  0.000000e+00  0.000000e+00   \n",
       "0.25  ...  6.463076e-92  2.381228e-93  8.233425e-95  2.679455e-96   \n",
       "0.50  ...  8.049343e-80  2.965665e-81  1.025420e-82  3.337087e-84   \n",
       "0.75  ...  4.258003e-74  1.568800e-75  5.424345e-77  1.765278e-78   \n",
       "1.00  ...  5.544635e-71  2.042841e-72  7.063407e-74  2.298688e-75   \n",
       "\n",
       "              9.0           9.2            9.4            9.6            9.8   \\\n",
       "0.00  0.000000e+00  0.000000e+00   0.000000e+00   0.000000e+00   0.000000e+00   \n",
       "0.25  8.229648e-98  2.391608e-99  6.591831e-101  1.727021e-102  4.309959e-104   \n",
       "0.50  1.024949e-85  2.978593e-87   8.209698e-89   2.150893e-90   5.367775e-92   \n",
       "0.75  5.421857e-80  1.575639e-81   4.342830e-83   1.137796e-84   2.839487e-86   \n",
       "1.00  7.060167e-77  2.051747e-78   5.655093e-80   1.481601e-81   3.697489e-83   \n",
       "\n",
       "               10.0  \n",
       "0.00   0.000000e+00  \n",
       "0.25  1.026563e-105  \n",
       "0.50   1.278518e-93  \n",
       "0.75   6.763205e-88  \n",
       "1.00   8.806827e-85  \n",
       "\n",
       "[5 rows x 51 columns]"
      ]
     },
     "execution_count": 126,
     "metadata": {},
     "output_type": "execute_result"
    }
   ],
   "source": [
    "t = 30\n",
    "row = likelihood.loc[t].unstack()\n",
    "row.head()"
   ]
  },
  {
   "cell_type": "code",
   "execution_count": 127,
   "metadata": {},
   "outputs": [
    {
     "data": {
      "text/plain": [
       "(51,)"
      ]
     },
     "execution_count": 127,
     "metadata": {},
     "output_type": "execute_result"
    }
   ],
   "source": [
    "lams = row.columns\n",
    "lams.shape"
   ]
  },
  {
   "cell_type": "code",
   "execution_count": 116,
   "metadata": {},
   "outputs": [
    {
     "data": {
      "text/plain": [
       "(30, 51)"
      ]
     },
     "execution_count": 116,
     "metadata": {},
     "output_type": "execute_result"
    }
   ],
   "source": [
    "lam_mesh, data_mesh = np.meshgrid(lams, data[:t])\n",
    "probs = poisson.pmf(data_mesh, lam_mesh)\n",
    "probs.shape"
   ]
  },
  {
   "cell_type": "code",
   "execution_count": 117,
   "metadata": {},
   "outputs": [
    {
     "data": {
      "text/plain": [
       "(51,)"
      ]
     },
     "execution_count": 117,
     "metadata": {},
     "output_type": "execute_result"
    }
   ],
   "source": [
    "likelihood1 = probs.prod(axis=0)\n",
    "likelihood1.shape"
   ]
  },
  {
   "cell_type": "code",
   "execution_count": 119,
   "metadata": {},
   "outputs": [
    {
     "data": {
      "text/plain": [
       "(41,)"
      ]
     },
     "execution_count": 119,
     "metadata": {},
     "output_type": "execute_result"
    }
   ],
   "source": [
    "lams = row.index\n",
    "lams.shape"
   ]
  },
  {
   "cell_type": "code",
   "execution_count": 120,
   "metadata": {},
   "outputs": [
    {
     "data": {
      "text/plain": [
       "(30, 41)"
      ]
     },
     "execution_count": 120,
     "metadata": {},
     "output_type": "execute_result"
    }
   ],
   "source": [
    "lam_mesh, data_mesh = np.meshgrid(lams, data[t:])\n",
    "probs = poisson.pmf(data_mesh, lam_mesh)\n",
    "probs.shape"
   ]
  },
  {
   "cell_type": "code",
   "execution_count": 121,
   "metadata": {},
   "outputs": [
    {
     "data": {
      "text/plain": [
       "(41,)"
      ]
     },
     "execution_count": 121,
     "metadata": {},
     "output_type": "execute_result"
    }
   ],
   "source": [
    "likelihood2 = probs.prod(axis=0)\n",
    "likelihood2.shape"
   ]
  },
  {
   "cell_type": "code",
   "execution_count": 122,
   "metadata": {},
   "outputs": [
    {
     "data": {
      "text/plain": [
       "(41, 51)"
      ]
     },
     "execution_count": 122,
     "metadata": {},
     "output_type": "execute_result"
    }
   ],
   "source": [
    "likelihood_row = np.multiply.outer(likelihood2, likelihood1)\n",
    "likelihood_row.shape"
   ]
  },
  {
   "cell_type": "code",
   "execution_count": 103,
   "metadata": {},
   "outputs": [
    {
     "data": {
      "text/plain": [
       "Float64Index([ 0.0, 0.25,  0.5, 0.75,  1.0, 1.25,  1.5, 1.75,  2.0, 2.25,  2.5,\n",
       "              2.75,  3.0, 3.25,  3.5, 3.75,  4.0, 4.25,  4.5, 4.75,  5.0, 5.25,\n",
       "               5.5, 5.75,  6.0, 6.25,  6.5, 6.75,  7.0, 7.25,  7.5, 7.75,  8.0,\n",
       "              8.25,  8.5, 8.75,  9.0, 9.25,  9.5, 9.75, 10.0],\n",
       "             dtype='float64')"
      ]
     },
     "execution_count": 103,
     "metadata": {},
     "output_type": "execute_result"
    }
   ],
   "source": []
  },
  {
   "cell_type": "code",
   "execution_count": 124,
   "metadata": {},
   "outputs": [],
   "source": [
    "likelihood.loc[t] = likelihood_row.flatten()"
   ]
  },
  {
   "cell_type": "code",
   "execution_count": 125,
   "metadata": {},
   "outputs": [
    {
     "data": {
      "text/plain": [
       "0.0   0.0      0.000000e+00\n",
       "      0.2      0.000000e+00\n",
       "      0.4      0.000000e+00\n",
       "      0.6      0.000000e+00\n",
       "      0.8      0.000000e+00\n",
       "                  ...      \n",
       "10.0  9.2     1.128791e-144\n",
       "      9.4     3.111212e-146\n",
       "      9.6     8.151194e-148\n",
       "      9.8     2.034214e-149\n",
       "      10.0    4.845174e-151\n",
       "Name: 30, Length: 2091, dtype: float64"
      ]
     },
     "execution_count": 125,
     "metadata": {},
     "output_type": "execute_result"
    }
   ],
   "source": [
    "likelihood.loc[t]"
   ]
  },
  {
   "cell_type": "code",
   "execution_count": 131,
   "metadata": {},
   "outputs": [
    {
     "data": {
      "text/html": [
       "<div>\n",
       "<style scoped>\n",
       "    .dataframe tbody tr th:only-of-type {\n",
       "        vertical-align: middle;\n",
       "    }\n",
       "\n",
       "    .dataframe tbody tr th {\n",
       "        vertical-align: top;\n",
       "    }\n",
       "\n",
       "    .dataframe thead tr th {\n",
       "        text-align: left;\n",
       "    }\n",
       "</style>\n",
       "<table border=\"1\" class=\"dataframe\">\n",
       "  <thead>\n",
       "    <tr>\n",
       "      <th></th>\n",
       "      <th colspan=\"10\" halign=\"left\">0.0</th>\n",
       "      <th>...</th>\n",
       "      <th colspan=\"10\" halign=\"left\">10.0</th>\n",
       "    </tr>\n",
       "    <tr>\n",
       "      <th></th>\n",
       "      <th>0.0</th>\n",
       "      <th>0.2</th>\n",
       "      <th>0.4</th>\n",
       "      <th>0.6</th>\n",
       "      <th>0.8</th>\n",
       "      <th>1.0</th>\n",
       "      <th>1.2</th>\n",
       "      <th>1.4</th>\n",
       "      <th>1.6</th>\n",
       "      <th>1.8</th>\n",
       "      <th>...</th>\n",
       "      <th>8.2</th>\n",
       "      <th>8.4</th>\n",
       "      <th>8.6</th>\n",
       "      <th>8.8</th>\n",
       "      <th>9.0</th>\n",
       "      <th>9.2</th>\n",
       "      <th>9.4</th>\n",
       "      <th>9.6</th>\n",
       "      <th>9.8</th>\n",
       "      <th>10.0</th>\n",
       "    </tr>\n",
       "  </thead>\n",
       "  <tbody>\n",
       "    <tr>\n",
       "      <th>1</th>\n",
       "      <td>1</td>\n",
       "      <td>1</td>\n",
       "      <td>1</td>\n",
       "      <td>1</td>\n",
       "      <td>1</td>\n",
       "      <td>1</td>\n",
       "      <td>1</td>\n",
       "      <td>1</td>\n",
       "      <td>1</td>\n",
       "      <td>1</td>\n",
       "      <td>...</td>\n",
       "      <td>1</td>\n",
       "      <td>1</td>\n",
       "      <td>1</td>\n",
       "      <td>1</td>\n",
       "      <td>1</td>\n",
       "      <td>1</td>\n",
       "      <td>1</td>\n",
       "      <td>1</td>\n",
       "      <td>1</td>\n",
       "      <td>1</td>\n",
       "    </tr>\n",
       "    <tr>\n",
       "      <th>2</th>\n",
       "      <td>1</td>\n",
       "      <td>1</td>\n",
       "      <td>1</td>\n",
       "      <td>1</td>\n",
       "      <td>1</td>\n",
       "      <td>1</td>\n",
       "      <td>1</td>\n",
       "      <td>1</td>\n",
       "      <td>1</td>\n",
       "      <td>1</td>\n",
       "      <td>...</td>\n",
       "      <td>1</td>\n",
       "      <td>1</td>\n",
       "      <td>1</td>\n",
       "      <td>1</td>\n",
       "      <td>1</td>\n",
       "      <td>1</td>\n",
       "      <td>1</td>\n",
       "      <td>1</td>\n",
       "      <td>1</td>\n",
       "      <td>1</td>\n",
       "    </tr>\n",
       "    <tr>\n",
       "      <th>3</th>\n",
       "      <td>1</td>\n",
       "      <td>1</td>\n",
       "      <td>1</td>\n",
       "      <td>1</td>\n",
       "      <td>1</td>\n",
       "      <td>1</td>\n",
       "      <td>1</td>\n",
       "      <td>1</td>\n",
       "      <td>1</td>\n",
       "      <td>1</td>\n",
       "      <td>...</td>\n",
       "      <td>1</td>\n",
       "      <td>1</td>\n",
       "      <td>1</td>\n",
       "      <td>1</td>\n",
       "      <td>1</td>\n",
       "      <td>1</td>\n",
       "      <td>1</td>\n",
       "      <td>1</td>\n",
       "      <td>1</td>\n",
       "      <td>1</td>\n",
       "    </tr>\n",
       "    <tr>\n",
       "      <th>4</th>\n",
       "      <td>1</td>\n",
       "      <td>1</td>\n",
       "      <td>1</td>\n",
       "      <td>1</td>\n",
       "      <td>1</td>\n",
       "      <td>1</td>\n",
       "      <td>1</td>\n",
       "      <td>1</td>\n",
       "      <td>1</td>\n",
       "      <td>1</td>\n",
       "      <td>...</td>\n",
       "      <td>1</td>\n",
       "      <td>1</td>\n",
       "      <td>1</td>\n",
       "      <td>1</td>\n",
       "      <td>1</td>\n",
       "      <td>1</td>\n",
       "      <td>1</td>\n",
       "      <td>1</td>\n",
       "      <td>1</td>\n",
       "      <td>1</td>\n",
       "    </tr>\n",
       "    <tr>\n",
       "      <th>5</th>\n",
       "      <td>1</td>\n",
       "      <td>1</td>\n",
       "      <td>1</td>\n",
       "      <td>1</td>\n",
       "      <td>1</td>\n",
       "      <td>1</td>\n",
       "      <td>1</td>\n",
       "      <td>1</td>\n",
       "      <td>1</td>\n",
       "      <td>1</td>\n",
       "      <td>...</td>\n",
       "      <td>1</td>\n",
       "      <td>1</td>\n",
       "      <td>1</td>\n",
       "      <td>1</td>\n",
       "      <td>1</td>\n",
       "      <td>1</td>\n",
       "      <td>1</td>\n",
       "      <td>1</td>\n",
       "      <td>1</td>\n",
       "      <td>1</td>\n",
       "    </tr>\n",
       "  </tbody>\n",
       "</table>\n",
       "<p>5 rows × 2091 columns</p>\n",
       "</div>"
      ],
      "text/plain": [
       "  0.0                                                ... 10.0                 \\\n",
       "  0.0  0.2  0.4  0.6  0.8  1.0  1.2  1.4  1.6  1.8   ... 8.2  8.4  8.6  8.8    \n",
       "1    1    1    1    1    1    1    1    1    1    1  ...    1    1    1    1   \n",
       "2    1    1    1    1    1    1    1    1    1    1  ...    1    1    1    1   \n",
       "3    1    1    1    1    1    1    1    1    1    1  ...    1    1    1    1   \n",
       "4    1    1    1    1    1    1    1    1    1    1  ...    1    1    1    1   \n",
       "5    1    1    1    1    1    1    1    1    1    1  ...    1    1    1    1   \n",
       "\n",
       "                                 \n",
       "  9.0  9.2  9.4  9.6  9.8  10.0  \n",
       "1    1    1    1    1    1    1  \n",
       "2    1    1    1    1    1    1  \n",
       "3    1    1    1    1    1    1  \n",
       "4    1    1    1    1    1    1  \n",
       "5    1    1    1    1    1    1  \n",
       "\n",
       "[5 rows x 2091 columns]"
      ]
     },
     "execution_count": 131,
     "metadata": {},
     "output_type": "execute_result"
    }
   ],
   "source": [
    "likelihood = joint_prior.copy().unstack().unstack()\n",
    "likelihood.head()"
   ]
  },
  {
   "cell_type": "code",
   "execution_count": 132,
   "metadata": {},
   "outputs": [],
   "source": [
    "for t in likelihood.index:\n",
    "    row = likelihood.loc[t].unstack()\n",
    "    lams = row.columns\n",
    "    lam_mesh, data_mesh = np.meshgrid(lams, data[:t])\n",
    "    probs = poisson.pmf(data_mesh, lam_mesh)\n",
    "    likelihood1 = probs.prod(axis=0)\n",
    "\n",
    "    lams = row.index\n",
    "    lam_mesh, data_mesh = np.meshgrid(lams, data[t:])\n",
    "    probs = poisson.pmf(data_mesh, lam_mesh)\n",
    "    likelihood2 = probs.prod(axis=0)\n",
    "\n",
    "    likelihood_row = np.multiply.outer(likelihood2, likelihood1)\n",
    "    likelihood.loc[t] = likelihood_row.flatten()"
   ]
  },
  {
   "cell_type": "code",
   "execution_count": 133,
   "metadata": {},
   "outputs": [],
   "source": [
    "from utils import normalize\n",
    "\n",
    "def update(prior, data):\n",
    "    \"\"\"\n",
    "    \n",
    "    prior: Pmf representing the joint prior\n",
    "    data: sequence f counts\n",
    "    \n",
    "    returns: Pmf representing the joint posterior\n",
    "    \"\"\"\n",
    "    likelihood = joint_prior.copy().unstack().unstack()\n",
    "\n",
    "    for t in likelihood.index:\n",
    "        row = likelihood.loc[t].unstack()\n",
    "        lams = row.columns\n",
    "        lam_mesh, data_mesh = np.meshgrid(lams, data[:t])\n",
    "        probs = poisson.pmf(data_mesh, lam_mesh)\n",
    "        likelihood1 = probs.prod(axis=0)\n",
    "\n",
    "        lams = row.index\n",
    "        lam_mesh, data_mesh = np.meshgrid(lams, data[t:])\n",
    "        probs = poisson.pmf(data_mesh, lam_mesh)\n",
    "        likelihood2 = probs.prod(axis=0)\n",
    "        \n",
    "        likelihood_row = np.multiply.outer(likelihood2, likelihood1)\n",
    "        likelihood.loc[t] = likelihood_row.flatten()\n",
    "\n",
    "    posterior = prior * likelihood.stack().stack()\n",
    "    normalize(posterior)\n",
    "    return posterior"
   ]
  },
  {
   "cell_type": "code",
   "execution_count": 135,
   "metadata": {},
   "outputs": [],
   "source": [
    "posterior = update(joint_prior, data)"
   ]
  },
  {
   "cell_type": "code",
   "execution_count": 139,
   "metadata": {},
   "outputs": [
    {
     "data": {
      "text/html": [
       "<div>\n",
       "<style scoped>\n",
       "    .dataframe tbody tr th:only-of-type {\n",
       "        vertical-align: middle;\n",
       "    }\n",
       "\n",
       "    .dataframe tbody tr th {\n",
       "        vertical-align: top;\n",
       "    }\n",
       "\n",
       "    .dataframe thead th {\n",
       "        text-align: right;\n",
       "    }\n",
       "</style>\n",
       "<table border=\"1\" class=\"dataframe\">\n",
       "  <thead>\n",
       "    <tr style=\"text-align: right;\">\n",
       "      <th></th>\n",
       "      <th>probs</th>\n",
       "    </tr>\n",
       "  </thead>\n",
       "  <tbody>\n",
       "    <tr>\n",
       "      <th>1</th>\n",
       "      <td>8.413001e-07</td>\n",
       "    </tr>\n",
       "    <tr>\n",
       "      <th>2</th>\n",
       "      <td>5.502589e-07</td>\n",
       "    </tr>\n",
       "    <tr>\n",
       "      <th>3</th>\n",
       "      <td>5.536595e-07</td>\n",
       "    </tr>\n",
       "  </tbody>\n",
       "</table>\n",
       "</div>"
      ],
      "text/plain": [
       "1    8.413001e-07\n",
       "2    5.502589e-07\n",
       "3    5.536595e-07\n",
       "Name: , dtype: float64"
      ]
     },
     "execution_count": 139,
     "metadata": {},
     "output_type": "execute_result"
    }
   ],
   "source": [
    "from utils import pmf_marginal\n",
    "\n",
    "posterior_t = pmf_marginal(posterior, 0)\n",
    "posterior_t.head(3)"
   ]
  },
  {
   "cell_type": "code",
   "execution_count": 140,
   "metadata": {},
   "outputs": [
    {
     "data": {
      "text/plain": [
       "<AxesSubplot:>"
      ]
     },
     "execution_count": 140,
     "metadata": {},
     "output_type": "execute_result"
    },
    {
     "data": {
      "image/png": "[encoded data removed]",
      "text/plain": [
       "<Figure size 432x288 with 1 Axes>"
      ]
     },
     "metadata": {
      "needs_background": "light"
     },
     "output_type": "display_data"
    }
   ],
   "source": [
    "posterior_t.plot()"
   ]
  },
  {
   "cell_type": "code",
   "execution_count": 142,
   "metadata": {},
   "outputs": [
    {
     "data": {
      "text/plain": [
       "<AxesSubplot:>"
      ]
     },
     "execution_count": 142,
     "metadata": {},
     "output_type": "execute_result"
    },
    {
     "data": {
      "image/png": "[encoded data removed]",
      "text/plain": [
       "<Figure size 432x288 with 1 Axes>"
      ]
     },
     "metadata": {
      "needs_background": "light"
     },
     "output_type": "display_data"
    }
   ],
   "source": [
    "posterior_lam1 = pmf_marginal(posterior, 1)\n",
    "posterior_lam2 = pmf_marginal(posterior, 2)\n",
    "\n",
    "posterior_lam1.plot()\n",
    "posterior_lam2.plot()"
   ]
  },
  {
   "cell_type": "markdown",
   "metadata": {},
   "source": [
    "Based on an example from Chapter 1 of [Bayesian Methods for Hackers](http://nbviewer.jupyter.org/github/CamDavidsonPilon/Probabilistic-Programming-and-Bayesian-Methods-for-Hackers/blob/master/Chapter1_Introduction/Ch1_Introduction_PyMC2.ipynb)\n",
    "\n",
    "and this example from [Computational Statistics in Python](http://people.duke.edu/~ccc14/sta-663-2016/16C_PyMC3.html#Changepoint-detection)"
   ]
  },
  {
   "cell_type": "code",
   "execution_count": 17,
   "metadata": {},
   "outputs": [
    {
     "name": "stderr",
     "output_type": "stream",
     "text": [
      "/home/downey/anaconda3/lib/python3.6/site-packages/h5py/__init__.py:36: FutureWarning: Conversion of the second argument of issubdtype from `float` to `np.floating` is deprecated. In future, it will be treated as `np.float64 == np.dtype(float).type`.\n",
      "  from ._conv import register_converters as _register_converters\n"
     ]
    }
   ],
   "source": [
    "import pymc3 as pm"
   ]
  },
  {
   "cell_type": "code",
   "execution_count": 32,
   "metadata": {},
   "outputs": [
    {
     "data": {
      "text/plain": [
       "0.3278688524590164"
      ]
     },
     "execution_count": 32,
     "metadata": {},
     "output_type": "execute_result"
    }
   ],
   "source": [
    "n = len(data)\n",
    "t = range(n)\n",
    "alpha = 1.0 / np.mean(data)"
   ]
  },
  {
   "cell_type": "code",
   "execution_count": 63,
   "metadata": {},
   "outputs": [
    {
     "name": "stderr",
     "output_type": "stream",
     "text": [
      "Multiprocess sampling (4 chains in 4 jobs)\n",
      "CompoundStep\n",
      ">Metropolis: [tau]\n",
      ">NUTS: [lam2, lam1]\n",
      "Sampling 4 chains: 100%|██████████| 48000/48000 [00:13<00:00, 3443.13draws/s]\n",
      "The number of effective samples is smaller than 10% for some parameters.\n"
     ]
    }
   ],
   "source": [
    "import theano.tensor as T\n",
    "\n",
    "with pm.Model() as model:\n",
    "    tau = pm.DiscreteUniform('tau', lower=0, upper=n)\n",
    "    lam1 = pm.Exponential('lam1', alpha)\n",
    "    lam2 = pm.Exponential('lam2', alpha)\n",
    "    lam = T.switch(t < tau, lam1, lam2)\n",
    "    Y_obs = pm.Poisson('Y_obs', lam, observed=data)\n",
    "    trace = pm.sample(10000, tune=2000)"
   ]
  },
  {
   "cell_type": "code",
   "execution_count": 64,
   "metadata": {},
   "outputs": [
    {
     "data": {
      "image/png": "[encoded data removed]",
      "text/plain": [
       "<Figure size 864x432 with 6 Axes>"
      ]
     },
     "metadata": {},
     "output_type": "display_data"
    }
   ],
   "source": [
    "pm.traceplot(trace);"
   ]
  },
  {
   "cell_type": "code",
   "execution_count": 65,
   "metadata": {},
   "outputs": [
    {
     "data": {
      "text/plain": [
       "{'xscale': 'linear', 'yscale': 'linear'}"
      ]
     },
     "execution_count": 65,
     "metadata": {},
     "output_type": "execute_result"
    },
    {
     "data": {
      "image/png": "[encoded data removed]",
      "text/plain": [
       "<Figure size 432x288 with 1 Axes>"
      ]
     },
     "metadata": {},
     "output_type": "display_data"
    }
   ],
   "source": [
    "tau_sample = trace['tau']\n",
    "cdf_tau = Cdf(tau_sample)\n",
    "thinkplot.Cdf(cdf_tau)"
   ]
  },
  {
   "cell_type": "code",
   "execution_count": 66,
   "metadata": {},
   "outputs": [
    {
     "data": {
      "text/plain": [
       "{'xscale': 'linear', 'yscale': 'linear'}"
      ]
     },
     "execution_count": 66,
     "metadata": {},
     "output_type": "execute_result"
    },
    {
     "data": {
      "image/png": "[encoded data removed]",
      "text/plain": [
       "<Figure size 432x288 with 1 Axes>"
      ]
     },
     "metadata": {},
     "output_type": "display_data"
    }
   ],
   "source": [
    "lam1_sample = trace['lam1']\n",
    "cdf_lam1 = Cdf(lam1_sample)\n",
    "thinkplot.Cdf(cdf_lam1)\n",
    "\n",
    "lam2_sample = trace['lam2']\n",
    "cdf_lam2 = Cdf(lam2_sample)\n",
    "thinkplot.Cdf(cdf_lam2)"
   ]
  },
  {
   "cell_type": "code",
   "execution_count": null,
   "metadata": {},
   "outputs": [],
   "source": []
  },
  {
   "cell_type": "code",
   "execution_count": null,
   "metadata": {},
   "outputs": [],
   "source": []
  },
  {
   "cell_type": "code",
   "execution_count": null,
   "metadata": {},
   "outputs": [],
   "source": [
    "stop"
   ]
  },
  {
   "cell_type": "code",
   "execution_count": 31,
   "metadata": {},
   "outputs": [],
   "source": [
    "# !wget https://raw.githubusercontent.com/baltimore-sun-data/2018-shootings-analysis/master/BPD_Part_1_Victim_Based_Crime_Data.csv"
   ]
  },
  {
   "cell_type": "code",
   "execution_count": 32,
   "metadata": {},
   "outputs": [
    {
     "data": {
      "text/html": [
       "<div>\n",
       "<style scoped>\n",
       "    .dataframe tbody tr th:only-of-type {\n",
       "        vertical-align: middle;\n",
       "    }\n",
       "\n",
       "    .dataframe tbody tr th {\n",
       "        vertical-align: top;\n",
       "    }\n",
       "\n",
       "    .dataframe thead th {\n",
       "        text-align: right;\n",
       "    }\n",
       "</style>\n",
       "<table border=\"1\" class=\"dataframe\">\n",
       "  <thead>\n",
       "    <tr style=\"text-align: right;\">\n",
       "      <th></th>\n",
       "      <th>CrimeDate</th>\n",
       "      <th>CrimeTime</th>\n",
       "      <th>CrimeCode</th>\n",
       "      <th>Location</th>\n",
       "      <th>Description</th>\n",
       "      <th>Inside/Outside</th>\n",
       "      <th>Weapon</th>\n",
       "      <th>Post</th>\n",
       "      <th>District</th>\n",
       "      <th>Neighborhood</th>\n",
       "      <th>Longitude</th>\n",
       "      <th>Latitude</th>\n",
       "      <th>Location 1</th>\n",
       "      <th>Premise</th>\n",
       "      <th>crimeCaseNumber</th>\n",
       "      <th>Total Incidents</th>\n",
       "    </tr>\n",
       "  </thead>\n",
       "  <tbody>\n",
       "    <tr>\n",
       "      <th>0</th>\n",
       "      <td>2018-07-07</td>\n",
       "      <td>23:53:00</td>\n",
       "      <td>1F</td>\n",
       "      <td>1600 PENTWOOD RD</td>\n",
       "      <td>HOMICIDE</td>\n",
       "      <td>NaN</td>\n",
       "      <td>FIREARM</td>\n",
       "      <td>413.0</td>\n",
       "      <td>NORTHEASTERN</td>\n",
       "      <td>Stonewood-Pentwood-Winsto</td>\n",
       "      <td>-76.58727</td>\n",
       "      <td>39.34782</td>\n",
       "      <td>(39.34782, -76.58727)</td>\n",
       "      <td>Alley</td>\n",
       "      <td>NaN</td>\n",
       "      <td>1.0</td>\n",
       "    </tr>\n",
       "    <tr>\n",
       "      <th>1</th>\n",
       "      <td>2018-07-07</td>\n",
       "      <td>23:50:00</td>\n",
       "      <td>4E</td>\n",
       "      <td>ST &amp; DIVISION ST</td>\n",
       "      <td>COMMON ASSAULT</td>\n",
       "      <td>O</td>\n",
       "      <td>NaN</td>\n",
       "      <td>131.0</td>\n",
       "      <td>CENTRAL</td>\n",
       "      <td>Druid Heights</td>\n",
       "      <td>-76.63936</td>\n",
       "      <td>39.30903</td>\n",
       "      <td>(39.30903, -76.63936)</td>\n",
       "      <td>STREET</td>\n",
       "      <td>NaN</td>\n",
       "      <td>1.0</td>\n",
       "    </tr>\n",
       "    <tr>\n",
       "      <th>2</th>\n",
       "      <td>2018-07-07</td>\n",
       "      <td>23:18:00</td>\n",
       "      <td>4C</td>\n",
       "      <td>2500 PERRING MANOR RD</td>\n",
       "      <td>AGG. ASSAULT</td>\n",
       "      <td>I</td>\n",
       "      <td>OTHER</td>\n",
       "      <td>423.0</td>\n",
       "      <td>NORTHEASTERN</td>\n",
       "      <td>Hamilton Hills</td>\n",
       "      <td>-76.56094</td>\n",
       "      <td>39.37189</td>\n",
       "      <td>(39.37189, -76.56094)</td>\n",
       "      <td>ROW/TOWNHO</td>\n",
       "      <td>NaN</td>\n",
       "      <td>1.0</td>\n",
       "    </tr>\n",
       "    <tr>\n",
       "      <th>3</th>\n",
       "      <td>2018-07-07</td>\n",
       "      <td>22:41:00</td>\n",
       "      <td>9S</td>\n",
       "      <td>3700 S HANOVER ST</td>\n",
       "      <td>SHOOTING</td>\n",
       "      <td>NaN</td>\n",
       "      <td>FIREARM</td>\n",
       "      <td>913.0</td>\n",
       "      <td>SOUTHERN</td>\n",
       "      <td>Brooklyn</td>\n",
       "      <td>-76.61033</td>\n",
       "      <td>39.23703</td>\n",
       "      <td>(39.23703, -76.61033)</td>\n",
       "      <td>Common Bus</td>\n",
       "      <td>NaN</td>\n",
       "      <td>1.0</td>\n",
       "    </tr>\n",
       "    <tr>\n",
       "      <th>4</th>\n",
       "      <td>2018-07-07</td>\n",
       "      <td>22:55:00</td>\n",
       "      <td>4E</td>\n",
       "      <td>LOMBARD ST &amp; LIGHT ST</td>\n",
       "      <td>COMMON ASSAULT</td>\n",
       "      <td>I</td>\n",
       "      <td>NaN</td>\n",
       "      <td>111.0</td>\n",
       "      <td>CENTRAL</td>\n",
       "      <td>Inner Harbor</td>\n",
       "      <td>-76.61362</td>\n",
       "      <td>39.28775</td>\n",
       "      <td>(39.28775, -76.61362)</td>\n",
       "      <td>CONVENIENC</td>\n",
       "      <td>NaN</td>\n",
       "      <td>1.0</td>\n",
       "    </tr>\n",
       "  </tbody>\n",
       "</table>\n",
       "</div>"
      ],
      "text/plain": [
       "   CrimeDate CrimeTime CrimeCode               Location     Description  \\\n",
       "0 2018-07-07  23:53:00        1F       1600 PENTWOOD RD        HOMICIDE   \n",
       "1 2018-07-07  23:50:00        4E       ST & DIVISION ST  COMMON ASSAULT   \n",
       "2 2018-07-07  23:18:00        4C  2500 PERRING MANOR RD    AGG. ASSAULT   \n",
       "3 2018-07-07  22:41:00        9S      3700 S HANOVER ST        SHOOTING   \n",
       "4 2018-07-07  22:55:00        4E  LOMBARD ST & LIGHT ST  COMMON ASSAULT   \n",
       "\n",
       "  Inside/Outside   Weapon   Post      District               Neighborhood  \\\n",
       "0            NaN  FIREARM  413.0  NORTHEASTERN  Stonewood-Pentwood-Winsto   \n",
       "1              O      NaN  131.0       CENTRAL              Druid Heights   \n",
       "2              I    OTHER  423.0  NORTHEASTERN             Hamilton Hills   \n",
       "3            NaN  FIREARM  913.0      SOUTHERN                   Brooklyn   \n",
       "4              I      NaN  111.0       CENTRAL               Inner Harbor   \n",
       "\n",
       "   Longitude  Latitude             Location 1     Premise  crimeCaseNumber  \\\n",
       "0  -76.58727  39.34782  (39.34782, -76.58727)       Alley              NaN   \n",
       "1  -76.63936  39.30903  (39.30903, -76.63936)      STREET              NaN   \n",
       "2  -76.56094  39.37189  (39.37189, -76.56094)  ROW/TOWNHO              NaN   \n",
       "3  -76.61033  39.23703  (39.23703, -76.61033)  Common Bus              NaN   \n",
       "4  -76.61362  39.28775  (39.28775, -76.61362)  CONVENIENC              NaN   \n",
       "\n",
       "   Total Incidents  \n",
       "0              1.0  \n",
       "1              1.0  \n",
       "2              1.0  \n",
       "3              1.0  \n",
       "4              1.0  "
      ]
     },
     "execution_count": 32,
     "metadata": {},
     "output_type": "execute_result"
    }
   ],
   "source": [
    "\n",
    "df = pd.read_csv('BPD_Part_1_Victim_Based_Crime_Data.csv', parse_dates=[0])\n",
    "df.head()"
   ]
  },
  {
   "cell_type": "code",
   "execution_count": 33,
   "metadata": {},
   "outputs": [
    {
     "data": {
      "text/plain": [
       "(329456, 16)"
      ]
     },
     "execution_count": 33,
     "metadata": {},
     "output_type": "execute_result"
    }
   ],
   "source": [
    "df.shape"
   ]
  },
  {
   "cell_type": "code",
   "execution_count": 34,
   "metadata": {},
   "outputs": [
    {
     "data": {
      "text/plain": [
       "(5295, 16)"
      ]
     },
     "execution_count": 34,
     "metadata": {},
     "output_type": "execute_result"
    }
   ],
   "source": [
    "shootings = df[df.Description.isin(['HOMICIDE', 'SHOOTING']) & (df.Weapon == 'FIREARM')]\n",
    "shootings.shape"
   ]
  },
  {
   "cell_type": "code",
   "execution_count": 35,
   "metadata": {},
   "outputs": [
    {
     "data": {
      "text/plain": [
       "<pandas.core.groupby.groupby.DataFrameGroupBy object at 0x7f1607112198>"
      ]
     },
     "execution_count": 35,
     "metadata": {},
     "output_type": "execute_result"
    }
   ],
   "source": [
    "grouped = shootings.groupby('CrimeDate')"
   ]
  },
  {
   "cell_type": "code",
   "execution_count": 36,
   "metadata": {},
   "outputs": [
    {
     "data": {
      "text/plain": [
       "CrimeDate\n",
       "2012-01-01    1.0\n",
       "2012-01-03    2.0\n",
       "2012-01-05    1.0\n",
       "2012-01-06    2.0\n",
       "2012-01-07    3.0\n",
       "Name: Total Incidents, dtype: float64"
      ]
     },
     "execution_count": 36,
     "metadata": {},
     "output_type": "execute_result"
    }
   ],
   "source": [
    "counts = grouped['Total Incidents'].sum()\n",
    "counts.head()"
   ]
  },
  {
   "cell_type": "code",
   "execution_count": 37,
   "metadata": {},
   "outputs": [
    {
     "data": {
      "text/plain": [
       "DatetimeIndex(['2012-01-01', '2012-01-02', '2012-01-03', '2012-01-04',\n",
       "               '2012-01-05', '2012-01-06', '2012-01-07', '2012-01-08',\n",
       "               '2012-01-09', '2012-01-10',\n",
       "               ...\n",
       "               '2018-10-04', '2018-10-05', '2018-10-06', '2018-10-07',\n",
       "               '2018-10-08', '2018-10-09', '2018-10-10', '2018-10-11',\n",
       "               '2018-10-12', '2018-10-13'],\n",
       "              dtype='datetime64[ns]', length=2478, freq='D')"
      ]
     },
     "execution_count": 37,
     "metadata": {},
     "output_type": "execute_result"
    }
   ],
   "source": [
    "index = pd.date_range(counts.index[0], counts.index[-1])"
   ]
  },
  {
   "cell_type": "code",
   "execution_count": 38,
   "metadata": {},
   "outputs": [
    {
     "data": {
      "text/plain": [
       "2012-01-01    1.0\n",
       "2012-01-02    0.0\n",
       "2012-01-03    2.0\n",
       "2012-01-04    0.0\n",
       "2012-01-05    1.0\n",
       "Freq: D, Name: Total Incidents, dtype: float64"
      ]
     },
     "execution_count": 38,
     "metadata": {},
     "output_type": "execute_result"
    }
   ],
   "source": [
    "counts = counts.reindex(index, fill_value=0)\n",
    "counts.head()"
   ]
  },
  {
   "cell_type": "code",
   "execution_count": 39,
   "metadata": {},
   "outputs": [
    {
     "data": {
      "image/png": "[encoded data removed]",
      "text/plain": [
       "<Figure size 432x288 with 1 Axes>"
      ]
     },
     "metadata": {},
     "output_type": "display_data"
    }
   ],
   "source": [
    "counts.plot()\n",
    "thinkplot.decorate(xlabel='Date',\n",
    "                   ylabel='Number of shootings')\n"
   ]
  }
 ],
 "metadata": {
  "kernelspec": {
   "display_name": "Python 3",
   "language": "python",
   "name": "python3"
  },
  "language_info": {
   "codemirror_mode": {
    "name": "ipython",
    "version": 3
   },
   "file_extension": ".py",
   "mimetype": "text/x-python",
   "name": "python",
   "nbconvert_exporter": "python",
   "pygments_lexer": "ipython3",
   "version": "3.8.8"
  }
 },
 "nbformat": 4,
 "nbformat_minor": 1
}
