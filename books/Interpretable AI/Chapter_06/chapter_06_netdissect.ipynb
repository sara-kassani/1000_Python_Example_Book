{
 "cells": [
  {
   "cell_type": "code",
   "execution_count": null,
   "metadata": {},
   "outputs": [],
   "source": [
    "%load_ext autoreload\n",
    "%autoreload 2"
   ]
  },
  {
   "cell_type": "code",
   "execution_count": null,
   "metadata": {},
   "outputs": [],
   "source": [
    "import os\n",
    "import sys\n",
    "sys.path.insert(1, 'NetDissect-Lite/')\n",
    "import pickle\n",
    "import settings\n",
    "from loader.model_loader import loadmodel\n",
    "from feature_operation import hook_feature,FeatureOperator\n",
    "from visualize.report import generate_html_summary\n",
    "from util.clean import clean"
   ]
  },
  {
   "cell_type": "code",
   "execution_count": null,
   "metadata": {},
   "outputs": [],
   "source": [
    "import torch\n",
    "import torchvision\n",
    "import numpy as np\n",
    "import pandas as pd\n",
    "from collections import OrderedDict"
   ]
  },
  {
   "cell_type": "markdown",
   "metadata": {},
   "source": [
    "# Load Model"
   ]
  },
  {
   "cell_type": "code",
   "execution_count": null,
   "metadata": {},
   "outputs": [],
   "source": [
    "fo = FeatureOperator()\n",
    "model = loadmodel(hook_feature)"
   ]
  },
  {
   "cell_type": "markdown",
   "metadata": {},
   "source": [
    "# Extract Features"
   ]
  },
  {
   "cell_type": "code",
   "execution_count": null,
   "metadata": {},
   "outputs": [],
   "source": [
    "features, maxfeatures = fo.feature_extraction(model=model)"
   ]
  },
  {
   "cell_type": "markdown",
   "metadata": {},
   "source": [
    "# Generate Results"
   ]
  },
  {
   "cell_type": "code",
   "execution_count": null,
   "metadata": {},
   "outputs": [],
   "source": [
    "for layer_id, layer in enumerate(settings.FEATURE_NAMES):\n",
    "    # Calculate Threshold\n",
    "    thresholds = fo.quantile_threshold(features[layer_id], savepath=f\"quantile_{layer}.npy\")\n",
    "\n",
    "    # Calculate IoU scores\n",
    "    tally_result = fo.tally(features[layer_id],thresholds, savepath=f\"tally_{layer}.csv\")\n",
    "\n",
    "    # Generate Results\n",
    "    generate_html_summary(fo.data, layer,\n",
    "                          tally_result=tally_result,\n",
    "                          maxfeature=maxfeatures[layer_id],\n",
    "                          features=features[layer_id],\n",
    "                          thresholds=thresholds)\n",
    "    if settings.CLEAN:\n",
    "        clean()"
   ]
  }
 ],
 "metadata": {
  "kernelspec": {
   "display_name": "Python 3",
   "language": "python",
   "name": "python3"
  },
  "language_info": {
   "codemirror_mode": {
    "name": "ipython",
    "version": 3
   },
   "file_extension": ".py",
   "mimetype": "text/x-python",
   "name": "python",
   "nbconvert_exporter": "python",
   "pygments_lexer": "ipython3",
   "version": "3.7.5"
  }
 },
 "nbformat": 4,
 "nbformat_minor": 2
}
