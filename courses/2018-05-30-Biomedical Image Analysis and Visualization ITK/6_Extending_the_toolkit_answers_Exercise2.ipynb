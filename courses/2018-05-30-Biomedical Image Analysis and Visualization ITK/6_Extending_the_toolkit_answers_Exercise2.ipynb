{
 "cells": [
  {
   "cell_type": "markdown",
   "metadata": {},
   "source": [
    "### Exercise 2: Modify the module"
   ]
  },
  {
   "cell_type": "markdown",
   "metadata": {},
   "source": [
    "* Open a Notebook terminal (New->Terminal)\n",
    "* Explore module code\n",
    "        cd ITKModuleTemplate\n",
    "        ls\n",
    "        cd include/\n",
    "        ls\n",
    "* Look at `itkMyFilter.hxx`\n",
    "* Modify `itkMyFilter.hxx`"
   ]
  }
 ],
 "metadata": {
  "kernelspec": {
   "display_name": "Python 3",
   "language": "python",
   "name": "python3"
  },
  "language_info": {
   "codemirror_mode": {
    "name": "ipython",
    "version": 3
   },
   "file_extension": ".py",
   "mimetype": "text/x-python",
   "name": "python",
   "nbconvert_exporter": "python",
   "pygments_lexer": "ipython3",
   "version": "3.6.2"
  }
 },
 "nbformat": 4,
 "nbformat_minor": 2
}
