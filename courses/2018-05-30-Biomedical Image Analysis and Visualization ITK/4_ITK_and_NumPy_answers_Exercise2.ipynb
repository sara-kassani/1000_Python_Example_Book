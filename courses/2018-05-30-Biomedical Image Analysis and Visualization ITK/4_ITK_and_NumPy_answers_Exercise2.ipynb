{
 "cells": [
  {
   "cell_type": "markdown",
   "metadata": {},
   "source": [
    "### Exercise 2: ITK image to NumPy array\n",
    "\n",
    "* Read an image with ITK\n",
    "* Convert image to NumPy array\n",
    "* Modify a pixel in the image\n",
    "* Has the array been modified?\n",
    "* Why did you make that choice?"
   ]
  },
  {
   "cell_type": "code",
   "execution_count": 2,
   "metadata": {},
   "outputs": [
    {
     "name": "stdout",
     "output_type": "stream",
     "text": [
      "Pixel in array: 56.000000\n",
      "Pixel in array: 125.000000\n",
      "Pixel in image: 56.000000\n"
     ]
    }
   ],
   "source": [
    "import itk\n",
    "import numpy as np\n",
    "\n",
    "im=itk.imread('data/KitwareITK.jpg', itk.UC)\n",
    "arr = itk.GetArrayFromImage(im)\n",
    "arr[0,0]\n",
    "print(\"Pixel in array: %f\"%arr[0,0])\n",
    "arr[0,0]=125\n",
    "print(\"Pixel in array: %f\"%arr[0,0])\n",
    "print(\"Pixel in image: %f\"%im.GetPixel([0,0]))"
   ]
  },
  {
   "cell_type": "code",
   "execution_count": null,
   "metadata": {},
   "outputs": [],
   "source": []
  }
 ],
 "metadata": {
  "kernelspec": {
   "display_name": "Python 3",
   "language": "python",
   "name": "python3"
  },
  "language_info": {
   "codemirror_mode": {
    "name": "ipython",
    "version": 3
   },
   "file_extension": ".py",
   "mimetype": "text/x-python",
   "name": "python",
   "nbconvert_exporter": "python",
   "pygments_lexer": "ipython3",
   "version": "3.6.2"
  }
 },
 "nbformat": 4,
 "nbformat_minor": 2
}
