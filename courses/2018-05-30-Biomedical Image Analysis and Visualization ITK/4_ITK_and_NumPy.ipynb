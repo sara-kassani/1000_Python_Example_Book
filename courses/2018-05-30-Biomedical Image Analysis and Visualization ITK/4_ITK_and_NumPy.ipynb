{
 "cells": [
  {
   "cell_type": "markdown",
   "metadata": {
    "collapsed": true,
    "slideshow": {
     "slide_type": "slide"
    }
   },
   "source": [
    "# NumPy and ITK"
   ]
  },
  {
   "cell_type": "markdown",
   "metadata": {
    "slideshow": {
     "slide_type": "slide"
    }
   },
   "source": [
    "## ITK and other Python packages\n",
    "\n",
    "* ITK is great at reading and processing images\n",
    "* ITK does not show images\n",
    "* Some algorithms are not available in ITK\n",
    "* NumPy is great at processing arrays in simple ways\n",
    "* NumPy arrays can be read by many other Python packages\n",
    "    * matplotlib\n",
    "    * scikit-learn"
   ]
  },
  {
   "cell_type": "markdown",
   "metadata": {
    "collapsed": true,
    "slideshow": {
     "slide_type": "subslide"
    }
   },
   "source": [
    "Let's convert an ITK image to a NumPy array\n",
    "\n",
    "* Load an image with ITK\n",
    "* Convert the image to a NumPy array\n",
    "* Check some values in the image"
   ]
  },
  {
   "cell_type": "code",
   "execution_count": 1,
   "metadata": {
    "slideshow": {
     "slide_type": "subslide"
    }
   },
   "outputs": [],
   "source": [
    "import itk\n",
    "from itkwidgets import view\n",
    "import numpy as np\n",
    "import matplotlib.pyplot as plt\n",
    "%matplotlib inline"
   ]
  },
  {
   "cell_type": "code",
   "execution_count": 2,
   "metadata": {
    "slideshow": {
     "slide_type": "subslide"
    }
   },
   "outputs": [
    {
     "name": "stdout",
     "output_type": "stream",
     "text": [
      "[51 56 60]\n"
     ]
    }
   ],
   "source": [
    "im=itk.imread(\"data/KitwareITK.jpg\")\n",
    "arr=itk.GetArrayFromImage(im)\n",
    "print(arr[1,1])\n"
   ]
  },
  {
   "cell_type": "markdown",
   "metadata": {
    "slideshow": {
     "slide_type": "subslide"
    }
   },
   "source": [
    "Let go the other way around: NumPy array to an ITK image. First, we create an array with some values."
   ]
  },
  {
   "cell_type": "code",
   "execution_count": 3,
   "metadata": {
    "slideshow": {
     "slide_type": "fragment"
    }
   },
   "outputs": [],
   "source": [
    "def makeGaussian(size, fwhm = 3, center=None):\n",
    "    \"\"\" Make a square gaussian kernel.\n",
    "\n",
    "    size is the length of a side of the square\n",
    "    fwhm is full-width-half-maximum, which\n",
    "    can be thought of as an effective radius.\n",
    "    \"\"\"\n",
    "\n",
    "    x = np.arange(0, size, 1, np.float32)\n",
    "    y = x[:,np.newaxis]\n",
    "\n",
    "    if center is None:\n",
    "        x0 = y0 = size // 2\n",
    "    else:\n",
    "        x0 = center[0]\n",
    "        y0 = center[1]\n",
    "\n",
    "    return np.exp(-4*np.log(2) * ((x-x0)**2 + (y-y0)**2) / fwhm**2)\n",
    "\n",
    "\n",
    "arr = makeGaussian(11)\n"
   ]
  },
  {
   "cell_type": "markdown",
   "metadata": {
    "slideshow": {
     "slide_type": "subslide"
    }
   },
   "source": [
    "Let's look at the array. We use matplotlib to do this."
   ]
  },
  {
   "cell_type": "code",
   "execution_count": 4,
   "metadata": {
    "slideshow": {
     "slide_type": "fragment"
    }
   },
   "outputs": [
    {
     "data": {
      "text/plain": [
       "(-0.5, 10.5, 10.5, -0.5)"
      ]
     },
     "execution_count": 4,
     "metadata": {},
     "output_type": "execute_result"
    },
    {
     "data": {
      "image/png": "[encoded data removed]",
      "text/plain": [
       "<matplotlib.figure.Figure at 0x7fd7403f39b0>"
      ]
     },
     "metadata": {},
     "output_type": "display_data"
    }
   ],
   "source": [
    "plt.gray()\n",
    "plt.imshow(arr)\n",
    "plt.axis('off')"
   ]
  },
  {
   "cell_type": "markdown",
   "metadata": {
    "slideshow": {
     "slide_type": "subslide"
    }
   },
   "source": [
    "And now, let's convert it to an ITK image."
   ]
  },
  {
   "cell_type": "code",
   "execution_count": 5,
   "metadata": {
    "slideshow": {
     "slide_type": "fragment"
    }
   },
   "outputs": [],
   "source": [
    "im = itk.GetImageViewFromArray(arr)"
   ]
  },
  {
   "cell_type": "markdown",
   "metadata": {
    "slideshow": {
     "slide_type": "subslide"
    }
   },
   "source": [
    "We can now look at pixel values..."
   ]
  },
  {
   "cell_type": "code",
   "execution_count": 6,
   "metadata": {
    "slideshow": {
     "slide_type": "fragment"
    }
   },
   "outputs": [
    {
     "data": {
      "text/plain": [
       "1.0"
      ]
     },
     "execution_count": 6,
     "metadata": {},
     "output_type": "execute_result"
    }
   ],
   "source": [
    "im.GetPixel([5,5])"
   ]
  },
  {
   "cell_type": "markdown",
   "metadata": {
    "slideshow": {
     "slide_type": "subslide"
    }
   },
   "source": [
    " or call any ITK filter on the image."
   ]
  },
  {
   "cell_type": "code",
   "execution_count": 7,
   "metadata": {
    "slideshow": {
     "slide_type": "fragment"
    }
   },
   "outputs": [],
   "source": [
    "filtered_image=itk.MedianImageFilter(im, Radius=[2,2])"
   ]
  },
  {
   "cell_type": "markdown",
   "metadata": {
    "slideshow": {
     "slide_type": "skip"
    }
   },
   "source": [
    "We can compare some pixel values to see the effect of the filter."
   ]
  },
  {
   "cell_type": "code",
   "execution_count": 8,
   "metadata": {
    "slideshow": {
     "slide_type": "skip"
    }
   },
   "outputs": [
    {
     "name": "stdout",
     "output_type": "stream",
     "text": [
      "Original image pixel value: 1.000000\n",
      "Filtered image pixel value: 0.291632\n"
     ]
    }
   ],
   "source": [
    "print(\"Original image pixel value: %f\"%im.GetPixel([5,5]))\n",
    "print(\"Filtered image pixel value: %f\"%filtered_image.GetPixel([5,5]))"
   ]
  },
  {
   "cell_type": "markdown",
   "metadata": {
    "slideshow": {
     "slide_type": "subslide"
    }
   },
   "source": [
    "Let's modify a pixel in our image, and look at the original array."
   ]
  },
  {
   "cell_type": "code",
   "execution_count": 9,
   "metadata": {
    "slideshow": {
     "slide_type": "fragment"
    }
   },
   "outputs": [
    {
     "data": {
      "text/plain": [
       "<matplotlib.image.AxesImage at 0x7fd74693d128>"
      ]
     },
     "execution_count": 9,
     "metadata": {},
     "output_type": "execute_result"
    },
    {
     "data": {
      "image/png": "[encoded data removed]",
      "text/plain": [
       "<matplotlib.figure.Figure at 0x7fd7469a74e0>"
      ]
     },
     "metadata": {},
     "output_type": "display_data"
    }
   ],
   "source": [
    "im.SetPixel([5,5], 0)\n",
    "plt.imshow(arr)\n"
   ]
  },
  {
   "cell_type": "markdown",
   "metadata": {
    "collapsed": true,
    "slideshow": {
     "slide_type": "subslide"
    }
   },
   "source": [
    "Now let's load an image and show it with matplotlib."
   ]
  },
  {
   "cell_type": "code",
   "execution_count": 10,
   "metadata": {
    "slideshow": {
     "slide_type": "fragment"
    }
   },
   "outputs": [
    {
     "data": {
      "text/plain": [
       "<matplotlib.image.AxesImage at 0x7fd73a98db00>"
      ]
     },
     "execution_count": 10,
     "metadata": {},
     "output_type": "execute_result"
    },
    {
     "data": {
      "image/png": "[encoded data removed]",
      "text/plain": [
       "<matplotlib.figure.Figure at 0x7fd73ff00da0>"
      ]
     },
     "metadata": {},
     "output_type": "display_data"
    }
   ],
   "source": [
    "im=itk.imread(\"data/CBCT-TextureInput.png\", itk.UC)\n",
    "arr = itk.GetArrayViewFromImage(im)\n",
    "plt.imshow(arr)"
   ]
  },
  {
   "cell_type": "markdown",
   "metadata": {
    "slideshow": {
     "slide_type": "subslide"
    }
   },
   "source": [
    "We can modify a value in the array and look at the value of this pixel in the image."
   ]
  },
  {
   "cell_type": "code",
   "execution_count": 11,
   "metadata": {
    "slideshow": {
     "slide_type": "fragment"
    }
   },
   "outputs": [
    {
     "name": "stdout",
     "output_type": "stream",
     "text": [
      "Original image pixel value:146\n",
      "Modified image pixel value:0\n"
     ]
    }
   ],
   "source": [
    "print(\"Original image pixel value:%d\"%im.GetPixel([270,270]))\n",
    "arr[270,270] = 0\n",
    "print(\"Modified image pixel value:%d\"%im.GetPixel([270,270]))"
   ]
  },
  {
   "cell_type": "markdown",
   "metadata": {
    "collapsed": true,
    "slideshow": {
     "slide_type": "slide"
    }
   },
   "source": [
    "## Views vs copy"
   ]
  },
  {
   "cell_type": "markdown",
   "metadata": {
    "slideshow": {
     "slide_type": "subslide"
    }
   },
   "source": [
    "So far we have used `itk.GetArrayViewFromImage()` and `itk.GetImageViewFromArray()`. You can see the keyword `View` in both the names of these functions."
   ]
  },
  {
   "cell_type": "markdown",
   "metadata": {
    "slideshow": {
     "slide_type": "subslide"
    }
   },
   "source": [
    "Let's compare the result of `itk.GetArrayViewFromImage()` and `itk.GetArrayFromImage()`"
   ]
  },
  {
   "cell_type": "code",
   "execution_count": 12,
   "metadata": {
    "slideshow": {
     "slide_type": "subslide"
    }
   },
   "outputs": [
    {
     "data": {
      "text/plain": [
       "<matplotlib.text.Text at 0x7fd73911dcf8>"
      ]
     },
     "execution_count": 12,
     "metadata": {},
     "output_type": "execute_result"
    },
    {
     "data": {
      "image/png": "[encoded data removed]",
      "text/plain": [
       "<matplotlib.figure.Figure at 0x7fd73deac860>"
      ]
     },
     "metadata": {},
     "output_type": "display_data"
    }
   ],
   "source": [
    "gaussian=itk.GaussianImageSource(Size=11, Sigma=3, Scale=100, Mean=[5,5])\n",
    "arr_view_gaussian = itk.GetArrayViewFromImage(gaussian)\n",
    "arr_gaussian = itk.GetArrayFromImage(gaussian)\n",
    "gaussian.SetPixel([5,5],0)\n",
    "plt.subplot(1, 2, 1)\n",
    "plt.imshow(arr_view_gaussian)\n",
    "plt.title(\"View\")\n",
    "plt.subplot(1, 2, 2)\n",
    "plt.imshow(arr_gaussian)\n",
    "plt.title(\"Copy\")"
   ]
  },
  {
   "cell_type": "markdown",
   "metadata": {
    "slideshow": {
     "slide_type": "subslide"
    }
   },
   "source": [
    "The `View` functions does not copy the memory. It shares the same information. In some cases, it is better not to copy the memory (speed, memory limitation). In other cases, it is better to copy the memory (original image needs to be used later)"
   ]
  },
  {
   "cell_type": "markdown",
   "metadata": {
    "slideshow": {
     "slide_type": "fragment"
    }
   },
   "source": [
    "Copies and views work in both directions: From NumPy to ITK and from ITK to NumPy."
   ]
  },
  {
   "cell_type": "code",
   "execution_count": 23,
   "metadata": {
    "slideshow": {
     "slide_type": "subslide"
    }
   },
   "outputs": [
    {
     "data": {
      "application/vnd.jupyter.widget-view+json": {
       "model_id": "f8918bbb90314ac89488a35ee9da3cb2",
       "version_major": 2,
       "version_minor": 0
      },
      "text/html": [
       "<p>Failed to display Jupyter Widget of type <code>Viewer</code>.</p>\n",
       "<p>\n",
       "  If you're reading this message in the Jupyter Notebook or JupyterLab Notebook, it may mean\n",
       "  that the widgets JavaScript is still loading. If this message persists, it\n",
       "  likely means that the widgets JavaScript library is either not installed or\n",
       "  not enabled. See the <a href=\"https://ipywidgets.readthedocs.io/en/stable/user_install.html\">Jupyter\n",
       "  Widgets Documentation</a> for setup instructions.\n",
       "</p>\n",
       "<p>\n",
       "  If you're reading this message in another frontend (for example, a static\n",
       "  rendering on GitHub or <a href=\"https://nbviewer.jupyter.org/\">NBViewer</a>),\n",
       "  it may mean that your frontend doesn't currently support widgets.\n",
       "</p>\n"
      ],
      "text/plain": [
       "Viewer(image=<itkImagePython.itkImageSS2; proxy of <Swig Object of type 'itkImageSS2 *' at 0x7fd7403b24b0> >)"
      ]
     },
     "metadata": {},
     "output_type": "display_data"
    }
   ],
   "source": [
    "im = itk.GetImageFromArray(arr_gaussian)\n",
    "im_view = itk.GetImageViewFromArray(arr_gaussian)\n",
    "arr_gaussian[5,5] = 0\n",
    "view(im)"
   ]
  },
  {
   "cell_type": "code",
   "execution_count": 14,
   "metadata": {
    "slideshow": {
     "slide_type": "subslide"
    }
   },
   "outputs": [
    {
     "data": {
      "application/vnd.jupyter.widget-view+json": {
       "model_id": "0120ff2866584dc1bbc39fe1a27a495f",
       "version_major": 2,
       "version_minor": 0
      },
      "text/html": [
       "<p>Failed to display Jupyter Widget of type <code>Viewer</code>.</p>\n",
       "<p>\n",
       "  If you're reading this message in the Jupyter Notebook or JupyterLab Notebook, it may mean\n",
       "  that the widgets JavaScript is still loading. If this message persists, it\n",
       "  likely means that the widgets JavaScript library is either not installed or\n",
       "  not enabled. See the <a href=\"https://ipywidgets.readthedocs.io/en/stable/user_install.html\">Jupyter\n",
       "  Widgets Documentation</a> for setup instructions.\n",
       "</p>\n",
       "<p>\n",
       "  If you're reading this message in another frontend (for example, a static\n",
       "  rendering on GitHub or <a href=\"https://nbviewer.jupyter.org/\">NBViewer</a>),\n",
       "  it may mean that your frontend doesn't currently support widgets.\n",
       "</p>\n"
      ],
      "text/plain": [
       "Viewer(image=<itkImagePython.itkImageSS2; proxy of <Swig Object of type 'itkImageSS2 *' at 0x7fd7390c1840> >)"
      ]
     },
     "metadata": {},
     "output_type": "display_data"
    }
   ],
   "source": [
    "view(im_view)"
   ]
  },
  {
   "cell_type": "markdown",
   "metadata": {
    "slideshow": {
     "slide_type": "slide"
    }
   },
   "source": [
    "## Exercises"
   ]
  },
  {
   "cell_type": "markdown",
   "metadata": {
    "slideshow": {
     "slide_type": "subslide"
    }
   },
   "source": [
    "### Exercise 1: Visualize an image\n",
    "* Read an image with ITK\n",
    "* Apply a filter\n",
    "* Show both original image and filtered images with matplotlib"
   ]
  },
  {
   "cell_type": "markdown",
   "metadata": {
    "slideshow": {
     "slide_type": "subslide"
    }
   },
   "source": [
    "### Exercise 2: ITK image to NumPy array\n",
    "\n",
    "* Read an image with ITK\n",
    "* Convert image to NumPy array\n",
    "* Modify a pixel in the image\n",
    "* Has the array been modified?\n",
    "* Why did you make that choice?"
   ]
  },
  {
   "cell_type": "markdown",
   "metadata": {
    "slideshow": {
     "slide_type": "slide"
    }
   },
   "source": [
    "# ITK Image and NumPy array index order"
   ]
  },
  {
   "cell_type": "markdown",
   "metadata": {
    "slideshow": {
     "slide_type": "subslide"
    }
   },
   "source": [
    "Let's look at the size of an ITK image and the size of a NumPy array."
   ]
  },
  {
   "cell_type": "code",
   "execution_count": 15,
   "metadata": {
    "slideshow": {
     "slide_type": "fragment"
    }
   },
   "outputs": [
    {
     "name": "stdout",
     "output_type": "stream",
     "text": [
      "Image size: itkSize2 ([570, 326])\n",
      "Array size: (326, 570)\n"
     ]
    }
   ],
   "source": [
    "im=itk.imread(\"data/CBCT-TextureInput.png\", itk.UC)\n",
    "arr = itk.GetArrayViewFromImage(im)\n",
    "print(\"Image size: \" + str(itk.size(im)))\n",
    "print(\"Array size: \" + str(arr.shape))"
   ]
  },
  {
   "cell_type": "markdown",
   "metadata": {
    "slideshow": {
     "slide_type": "subslide"
    }
   },
   "source": [
    "The sizes appear to be inverted!"
   ]
  },
  {
   "cell_type": "markdown",
   "metadata": {
    "slideshow": {
     "slide_type": "fragment"
    }
   },
   "source": [
    "Let's see what happens if we get the value of a point at a certain location."
   ]
  },
  {
   "cell_type": "code",
   "execution_count": 16,
   "metadata": {
    "slideshow": {
     "slide_type": "fragment"
    }
   },
   "outputs": [
    {
     "name": "stdout",
     "output_type": "stream",
     "text": [
      "Pixel value at image location [300,240]:241\n",
      "Pixel value at array location [300,240]:254\n",
      "Pixel value at array location [240,300]:241\n"
     ]
    }
   ],
   "source": [
    "print(\"Pixel value at image location [300,240]:\" + str(im.GetPixel([300,240])))\n",
    "print(\"Pixel value at array location [300,240]:\" + str(arr[300,240]))\n",
    "print(\"Pixel value at array location [240,300]:\" + str(arr[240,300]))"
   ]
  },
  {
   "cell_type": "markdown",
   "metadata": {
    "slideshow": {
     "slide_type": "subslide"
    }
   },
   "source": [
    "Indeed, it is inverted. Why?"
   ]
  },
  {
   "cell_type": "markdown",
   "metadata": {
    "slideshow": {
     "slide_type": "fragment"
    }
   },
   "source": [
    "ITK and NumPy use the opposite convention for their indices order. It is not important when you use filters and work on the image as a whole. The algorithms are aware of the order if they need to."
   ]
  },
  {
   "cell_type": "markdown",
   "metadata": {
    "slideshow": {
     "slide_type": "skip"
    }
   },
   "source": [
    "Could the ITK axes order be kept when converting an image to an array?"
   ]
  },
  {
   "cell_type": "markdown",
   "metadata": {
    "slideshow": {
     "slide_type": "skip"
    }
   },
   "source": [
    "Yes. An option is being added to the function `itk.GetArrayFromImage()` to keep the axis order.\n",
    "When *keepAxes* is *False* (default), the NumPy array will have C-order indexing.\n",
    "This is the reverse of how indices are specified in ITK, i.e. k,j,i versus i,j,k.\n",
    "However C-order indexing is expected by most algorithms in NumPy / SciPy."
   ]
  },
  {
   "cell_type": "markdown",
   "metadata": {
    "slideshow": {
     "slide_type": "slide"
    }
   },
   "source": [
    "# scikit-learn"
   ]
  },
  {
   "cell_type": "markdown",
   "metadata": {
    "slideshow": {
     "slide_type": "subslide"
    }
   },
   "source": [
    "* scikit-learn is a machine learning package in Python.\n",
    "* It is used to illustrate solving a problem using ITK and NumPy arrays."
   ]
  },
  {
   "cell_type": "code",
   "execution_count": 17,
   "metadata": {
    "slideshow": {
     "slide_type": "subslide"
    }
   },
   "outputs": [],
   "source": [
    "import sklearn"
   ]
  },
  {
   "cell_type": "markdown",
   "metadata": {
    "slideshow": {
     "slide_type": "subslide"
    }
   },
   "source": [
    "First, we load 10 2D-images of circles with different radii and center position to which some noise has been added, and their corresponding ground truth segmentations."
   ]
  },
  {
   "cell_type": "code",
   "execution_count": 18,
   "metadata": {
    "slideshow": {
     "slide_type": "subslide"
    }
   },
   "outputs": [
    {
     "data": {
      "text/plain": [
       "<matplotlib.text.Text at 0x7fd729ca1048>"
      ]
     },
     "execution_count": 18,
     "metadata": {},
     "output_type": "execute_result"
    },
    {
     "data": {
      "image/png": "[encoded data removed]",
      "text/plain": [
       "<matplotlib.figure.Figure at 0x7fd739106240>"
      ]
     },
     "metadata": {},
     "output_type": "display_data"
    }
   ],
   "source": [
    "l_label=[]\n",
    "l_im=[]\n",
    "for i in range(0,10):\n",
    "    imageName='data/sklearn/im%d.nrrd'%i\n",
    "    im=itk.imread(imageName,itk.F)\n",
    "    arr = itk.GetArrayFromImage(im)\n",
    "    l_im.append(arr)\n",
    "    labelName='data/sklearn/im%d_label.nrrd'%i\n",
    "    im=itk.imread(labelName,itk.UC)\n",
    "    arr = itk.GetArrayFromImage(im)\n",
    "    l_label.append(arr)\n",
    "size=itk.size(im)\n",
    "plt.subplot(1, 2, 1)\n",
    "plt.imshow(l_label[0])\n",
    "plt.title(\"Segmentation\")\n",
    "plt.subplot(1, 2, 2)\n",
    "plt.imshow(l_im[0])\n",
    "plt.title(\"Image\")"
   ]
  },
  {
   "cell_type": "markdown",
   "metadata": {
    "slideshow": {
     "slide_type": "subslide"
    }
   },
   "source": [
    "The goal is to find the segmentation based on the input image."
   ]
  },
  {
   "cell_type": "markdown",
   "metadata": {
    "slideshow": {
     "slide_type": "subslide"
    }
   },
   "source": [
    "We create arrays of data:\n",
    "* X - the input samples\n",
    "* Y - the target values"
   ]
  },
  {
   "cell_type": "code",
   "execution_count": 19,
   "metadata": {
    "slideshow": {
     "slide_type": "fragment"
    }
   },
   "outputs": [],
   "source": [
    "X0=l_im[0].flatten()\n",
    "X=X0\n",
    "Y=l_label[0].flatten()\n",
    "for i in range(1,10):\n",
    "    X=np.concatenate((X, l_im[i].flatten()))\n",
    "    Y=np.concatenate((Y, l_label[i].flatten()))"
   ]
  },
  {
   "cell_type": "markdown",
   "metadata": {
    "slideshow": {
     "slide_type": "subslide"
    }
   },
   "source": [
    "* We use a supervised learning methods based on applying Bayes’ theorem.\n",
    "* The only information provided to the algorithm is the image intensity value."
   ]
  },
  {
   "cell_type": "code",
   "execution_count": 20,
   "metadata": {
    "slideshow": {
     "slide_type": "fragment"
    }
   },
   "outputs": [
    {
     "data": {
      "text/plain": [
       "<matplotlib.image.AxesImage at 0x7fd7234e3be0>"
      ]
     },
     "execution_count": 20,
     "metadata": {},
     "output_type": "execute_result"
    },
    {
     "data": {
      "image/png": "[encoded data removed]",
      "text/plain": [
       "<matplotlib.figure.Figure at 0x7fd781b0f940>"
      ]
     },
     "metadata": {},
     "output_type": "display_data"
    }
   ],
   "source": [
    "from sklearn.naive_bayes import GaussianNB\n",
    "clf = GaussianNB()\n",
    "clf.fit(X.reshape(-1,1), Y)\n",
    "result=clf.predict(X0.reshape(-1,1)).reshape(size[0],size[1])\n",
    "plt.imshow(result)"
   ]
  },
  {
   "cell_type": "markdown",
   "metadata": {
    "slideshow": {
     "slide_type": "subslide"
    }
   },
   "source": [
    "To improve our segmentation, we filter the input image with a median image filter and add this information as a second sample vector."
   ]
  },
  {
   "cell_type": "code",
   "execution_count": 21,
   "metadata": {
    "slideshow": {
     "slide_type": "fragment"
    }
   },
   "outputs": [],
   "source": [
    "l_median=[]\n",
    "for i in range(0,10):\n",
    "    imageName='data/sklearn/im%d.nrrd'%i\n",
    "    im=itk.imread(imageName,itk.F)\n",
    "    median=itk.MedianImageFilter(im, Radius=3)\n",
    "    arr = itk.GetArrayFromImage(median)\n",
    "    l_median.append(arr)\n",
    "\n",
    "M0=l_median[0].flatten()\n",
    "M=M0\n",
    "X0=np.concatenate((X0.reshape(-1,1),M0.reshape(-1,1)), axis=1)\n",
    "for i in range(1,10):\n",
    "    M=np.concatenate((M, l_median[i].flatten()))\n",
    "\n",
    "X = np.concatenate((X.reshape(-1,1),M.reshape(-1,1)), axis=1)"
   ]
  },
  {
   "cell_type": "code",
   "execution_count": 22,
   "metadata": {
    "slideshow": {
     "slide_type": "subslide"
    }
   },
   "outputs": [
    {
     "data": {
      "text/plain": [
       "<matplotlib.image.AxesImage at 0x7fd7233fc128>"
      ]
     },
     "execution_count": 22,
     "metadata": {},
     "output_type": "execute_result"
    },
    {
     "data": {
      "image/png": "[encoded data removed]",
      "text/plain": [
       "<matplotlib.figure.Figure at 0x7fd7390864a8>"
      ]
     },
     "metadata": {},
     "output_type": "display_data"
    }
   ],
   "source": [
    "clf.fit(X, Y)\n",
    "result=clf.predict(X0).reshape(50,50)\n",
    "plt.imshow(result)"
   ]
  },
  {
   "cell_type": "markdown",
   "metadata": {
    "slideshow": {
     "slide_type": "subslide"
    }
   },
   "source": [
    "## Typical processing\n",
    "\n",
    "* Image preprocessing\n",
    "    * Bias field correction (N4BiasFieldCorrectionImageFilter)\n",
    "    * Noise reduction (SmoothingRecursiveGaussianImageFilter)\n",
    "    * Feature computation (Texture, Wavelet, Edge detector)\n",
    "* Converting ITK data to NumPy and organizing the data as needed\n",
    "* Train classifier\n",
    "* Use classifier on new data\n",
    "* Convert classifier result to ITK data\n",
    "* Apply some post processing filters\n",
    "    * Fill holes (BinaryFillholeImageFilter)\n",
    "    * Smoothing (MedianImageFilter)"
   ]
  },
  {
   "cell_type": "markdown",
   "metadata": {
    "slideshow": {
     "slide_type": "slide"
    }
   },
   "source": [
    "### Enjoy ITK!"
   ]
  }
 ],
 "metadata": {
  "kernelspec": {
   "display_name": "Python 3",
   "language": "python",
   "name": "python3"
  },
  "language_info": {
   "codemirror_mode": {
    "name": "ipython",
    "version": 3
   },
   "file_extension": ".py",
   "mimetype": "text/x-python",
   "name": "python",
   "nbconvert_exporter": "python",
   "pygments_lexer": "ipython3",
   "version": "3.6.2"
  }
 },
 "nbformat": 4,
 "nbformat_minor": 2
}
