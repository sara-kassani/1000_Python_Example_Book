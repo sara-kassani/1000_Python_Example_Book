{
 "cells": [
  {
   "cell_type": "code",
   "execution_count": 1,
   "id": "7cc3021e",
   "metadata": {},
   "outputs": [],
   "source": [
    "import numpy as np\n",
    "import sys"
   ]
  },
  {
   "cell_type": "code",
   "execution_count": 2,
   "id": "da6c2521",
   "metadata": {},
   "outputs": [
    {
     "data": {
      "text/plain": [
       "array([0.000000e+00, 1.000000e+00, 2.000000e+00, ..., 9.999997e+06,\n",
       "       9.999998e+06, 9.999999e+06])"
      ]
     },
     "execution_count": 2,
     "metadata": {},
     "output_type": "execute_result"
    }
   ],
   "source": [
    "# create an array with 10^7 elements\n",
    "arr = np.arange(1e7)\n",
    "arr"
   ]
  },
  {
   "cell_type": "code",
   "execution_count": 4,
   "id": "79ee6ae4",
   "metadata": {},
   "outputs": [
    {
     "data": {
      "text/plain": [
       "(10000000,)"
      ]
     },
     "execution_count": 4,
     "metadata": {},
     "output_type": "execute_result"
    }
   ],
   "source": [
    "arr.shape"
   ]
  },
  {
   "cell_type": "code",
   "execution_count": 5,
   "id": "f1f1327c",
   "metadata": {},
   "outputs": [
    {
     "data": {
      "text/plain": [
       "1"
      ]
     },
     "execution_count": 5,
     "metadata": {},
     "output_type": "execute_result"
    }
   ],
   "source": [
    "arr.ndim"
   ]
  },
  {
   "cell_type": "code",
   "execution_count": 8,
   "id": "1c33b3e2",
   "metadata": {},
   "outputs": [],
   "source": [
    "# converting ndarray to lsit\n",
    "larr = arr.tolist()\n",
    "# larr"
   ]
  },
  {
   "cell_type": "markdown",
   "id": "acffc8c5",
   "metadata": {},
   "source": [
    "### Array Creation and Data Typing: np.array, np.zeros, np.arange, np.linspace, np.logspace, dtype, astype"
   ]
  },
  {
   "cell_type": "code",
   "execution_count": 3,
   "id": "626aea3e",
   "metadata": {},
   "outputs": [
    {
     "data": {
      "text/plain": [
       "array([0.    , 0.0101, 0.0202, 0.0303, 0.0404, 0.0505, 0.0606, 0.0707,\n",
       "       0.0808, 0.0909, 0.101 , 0.1111, 0.1212, 0.1313, 0.1414, 0.1515,\n",
       "       0.1616, 0.1718, 0.1818, 0.1919, 0.202 , 0.2122, 0.2222, 0.2323,\n",
       "       0.2424, 0.2524, 0.2627, 0.2727, 0.2827, 0.293 , 0.303 , 0.3132,\n",
       "       0.3232, 0.3333, 0.3435, 0.3535, 0.3635, 0.3738, 0.3838, 0.394 ,\n",
       "       0.404 , 0.414 , 0.4243, 0.4343, 0.4443, 0.4546, 0.4646, 0.4749,\n",
       "       0.4849, 0.4949, 0.505 , 0.515 , 0.5254, 0.535 , 0.5454, 0.5557,\n",
       "       0.5654, 0.5757, 0.586 , 0.596 , 0.606 , 0.616 , 0.6265, 0.636 ,\n",
       "       0.6465, 0.6567, 0.6665, 0.677 , 0.687 , 0.697 , 0.707 , 0.7173,\n",
       "       0.727 , 0.7373, 0.7476, 0.758 , 0.7676, 0.778 , 0.788 , 0.798 ,\n",
       "       0.808 , 0.8184, 0.828 , 0.8384, 0.8486, 0.8584, 0.8687, 0.879 ,\n",
       "       0.8887, 0.899 , 0.909 , 0.9194, 0.929 , 0.9395, 0.9497, 0.9595,\n",
       "       0.9697, 0.98  , 0.9897, 1.    ], dtype=float16)"
      ]
     },
     "execution_count": 3,
     "metadata": {},
     "output_type": "execute_result"
    }
   ],
   "source": [
    "a = np.linspace(0, 1, 100).astype(np.float16)\n",
    "a"
   ]
  },
  {
   "cell_type": "code",
   "execution_count": 5,
   "id": "d5dd52fe",
   "metadata": {},
   "outputs": [
    {
     "data": {
      "text/plain": [
       "array([ 1.        ,  1.02353102,  1.04761575,  1.07226722,  1.09749877,\n",
       "        1.12332403,  1.149757  ,  1.17681195,  1.20450354,  1.23284674,\n",
       "        1.26185688,  1.29154967,  1.32194115,  1.35304777,  1.38488637,\n",
       "        1.41747416,  1.45082878,  1.48496826,  1.51991108,  1.55567614,\n",
       "        1.59228279,  1.62975083,  1.66810054,  1.70735265,  1.7475284 ,\n",
       "        1.78864953,  1.83073828,  1.87381742,  1.91791026,  1.96304065,\n",
       "        2.009233  ,  2.05651231,  2.10490414,  2.15443469,  2.20513074,\n",
       "        2.25701972,  2.3101297 ,  2.36448941,  2.42012826,  2.47707636,\n",
       "        2.53536449,  2.59502421,  2.65608778,  2.71858824,  2.7825594 ,\n",
       "        2.84803587,  2.91505306,  2.98364724,  3.05385551,  3.12571585,\n",
       "        3.19926714,  3.27454916,  3.35160265,  3.43046929,  3.51119173,\n",
       "        3.59381366,  3.67837977,  3.76493581,  3.85352859,  3.94420606,\n",
       "        4.03701726,  4.1320124 ,  4.22924287,  4.32876128,  4.43062146,\n",
       "        4.53487851,  4.64158883,  4.75081016,  4.86260158,  4.97702356,\n",
       "        5.09413801,  5.21400829,  5.33669923,  5.46227722,  5.59081018,\n",
       "        5.72236766,  5.85702082,  5.9948425 ,  6.13590727,  6.28029144,\n",
       "        6.42807312,  6.57933225,  6.73415066,  6.8926121 ,  7.05480231,\n",
       "        7.22080902,  7.39072203,  7.56463328,  7.74263683,  7.92482898,\n",
       "        8.11130831,  8.30217568,  8.49753436,  8.69749003,  8.90215085,\n",
       "        9.11162756,  9.32603347,  9.54548457,  9.77009957, 10.        ])"
      ]
     },
     "execution_count": 5,
     "metadata": {},
     "output_type": "execute_result"
    }
   ],
   "source": [
    "# generate an array from 1 to 10 # in log10 space in 100 steps\n",
    "b = np.logspace(0, 1, 100, base= 10)\n",
    "b"
   ]
  },
  {
   "cell_type": "code",
   "execution_count": 9,
   "id": "a4800a7b",
   "metadata": {},
   "outputs": [],
   "source": [
    "arr1d = np.arange(1000)\n",
    "arr3d = arr1d.reshape(10, 10, 10)"
   ]
  },
  {
   "cell_type": "code",
   "execution_count": 10,
   "id": "3b978bde",
   "metadata": {},
   "outputs": [],
   "source": [
    "arr4d = np.zeros((10, 10, 10, 10))"
   ]
  },
  {
   "cell_type": "code",
   "execution_count": 12,
   "id": "5bb78111",
   "metadata": {},
   "outputs": [
    {
     "name": "stdout",
     "output_type": "stream",
     "text": [
      "(1000,)\n",
      "(10, 10, 10, 10)\n"
     ]
    }
   ],
   "source": [
    " # Inversely, we can flatten arrays\n",
    "arr4d.ravel()\n",
    "print(arr1d.shape)\n",
    "print(arr4d.shape)"
   ]
  },
  {
   "cell_type": "code",
   "execution_count": null,
   "id": "7a8c80b5",
   "metadata": {},
   "outputs": [],
   "source": [
    "# create a 100-element array with random values from standard normal distribution (Gaussian distribution) sigma=1, mean=0"
   ]
  },
  {
   "cell_type": "code",
   "execution_count": 5,
   "id": "b661f25d",
   "metadata": {},
   "outputs": [],
   "source": [
    "a = np.random.randn(100)  # anp ndarray with shape of (100, 0)"
   ]
  },
  {
   "cell_type": "code",
   "execution_count": 6,
   "id": "be0b1666",
   "metadata": {},
   "outputs": [
    {
     "data": {
      "text/plain": [
       "array([0.75730032, 1.07838768, 0.35275228, 0.49104486, 0.77979982,\n",
       "       0.72076138, 0.49462479, 0.91183041, 0.86314427, 0.61679063,\n",
       "       1.22689179, 1.97101512, 0.99093739, 0.53596934, 0.52708209,\n",
       "       0.74770233, 1.00362755, 1.104705  , 0.73589991, 0.31893356,\n",
       "       0.53924909, 0.33987522, 0.46755449, 0.57046981, 0.84729592,\n",
       "       1.40497021, 1.12184692, 0.78191418, 0.75911089, 0.50024785,\n",
       "       1.68572181, 1.77815168, 0.85744835, 1.01745687, 0.73621516,\n",
       "       1.01182761, 1.36785899, 0.38853605, 1.39648006, 1.1869768 ,\n",
       "       0.40912747, 1.01367117, 0.2636897 , 0.2256965 , 1.87162703,\n",
       "       1.12252029, 0.94655006, 1.207317  , 0.99729015])"
      ]
     },
     "execution_count": 6,
     "metadata": {},
     "output_type": "execute_result"
    }
   ],
   "source": [
    "index= a > 0.2\n",
    "b = a[index]    # extract some elements\n",
    "b"
   ]
  },
  {
   "cell_type": "code",
   "execution_count": 8,
   "id": "551a57cd",
   "metadata": {},
   "outputs": [
    {
     "data": {
      "text/plain": [
       "array([4.03489148, 2.70070293, 5.51774718, 5.09364107, 3.9374197 ,\n",
       "       4.19188922, 5.08124068, 3.36554489, 3.57497976, 4.62300478,\n",
       "       2.24476424, 5.55285023, 3.03641171, 4.93346756, 4.96591936,\n",
       "       4.0763116 , 2.98551632, 2.60781805, 4.12708026, 5.60347221,\n",
       "       4.92140025, 5.55128308, 5.17336031, 4.80416526, 3.64375379,\n",
       "       2.00067906, 2.54976218, 3.92823835, 4.02706592, 5.06163237,\n",
       "       2.70838823, 3.34983364, 3.59967432, 2.93080338, 4.1257268 ,\n",
       "       2.95297599, 2.01663114, 5.41894796, 2.00248437, 2.34938274,\n",
       "       5.3584767 , 2.94569936, 5.72670571, 5.79883912, 4.25897213,\n",
       "       2.54752333, 3.21891091, 2.29418221, 3.010854  ])"
      ]
     },
     "execution_count": 8,
     "metadata": {},
     "output_type": "execute_result"
    }
   ],
   "source": [
    "b = (b ** 2) + 2    #  execute some operation\n",
    "b"
   ]
  },
  {
   "cell_type": "code",
   "execution_count": 10,
   "id": "07cc85ec",
   "metadata": {},
   "outputs": [
    {
     "data": {
      "text/plain": [
       "array([ 4.03489148,  2.70070293, -0.82916546,  5.51774718, -1.65337568,\n",
       "       -0.60745323, -1.31295613,  5.09364107, -0.87127516,  3.9374197 ,\n",
       "       -0.87100475,  4.19188922,  5.08124068,  3.36554489, -2.1171383 ,\n",
       "        3.57497976, -0.17796029, -1.86846966, -0.07931709, -0.51367314,\n",
       "        4.62300478,  0.11674007,  2.24476424,  5.55285023, -1.08747717,\n",
       "        3.03641171,  4.93346756,  0.00753873, -0.38391767,  4.96591936,\n",
       "        4.0763116 ,  2.98551632,  2.60781805,  4.12708026, -0.36888534,\n",
       "       -0.37126957,  5.60347221,  4.92140025,  5.55128308, -1.29141198,\n",
       "       -1.15612004, -0.15586548,  5.17336031, -0.39231806,  0.10609292,\n",
       "       -0.71173534,  4.80416526,  3.64375379,  2.00067906, -0.46735435,\n",
       "        2.54976218, -1.4580978 , -1.09240242,  3.92823835,  0.14231511,\n",
       "       -0.18094151,  4.02706592, -0.32328322,  5.06163237, -0.55546894,\n",
       "        2.70838823,  3.34983364,  3.59967432, -0.15941361,  2.93080338,\n",
       "        4.1257268 , -1.83279909, -0.56971362,  2.95297599, -0.8662924 ,\n",
       "        2.01663114,  5.41894796, -0.99161594, -0.97742166,  2.00248437,\n",
       "       -0.3685805 , -0.29232977, -1.48641681, -0.48842532,  0.13232932,\n",
       "        2.34938274, -0.48660589, -0.55570606, -1.24234772,  5.3584767 ,\n",
       "        0.15288801,  2.94569936,  5.72670571, -1.13586022, -1.23009053,\n",
       "        5.79883912, -0.57122194,  4.25897213, -0.10037115,  2.54752333,\n",
       "        3.21891091, -1.04337176,  2.29418221,  3.010854  , -1.59139524])"
      ]
     },
     "execution_count": 10,
     "metadata": {},
     "output_type": "execute_result"
    }
   ],
   "source": [
    "a[index] = b  #  put back the modified elements\n",
    "a"
   ]
  },
  {
   "cell_type": "code",
   "execution_count": null,
   "id": "02262751",
   "metadata": {},
   "outputs": [],
   "source": [
    "np.save('a.npy', a)\n",
    "np.savez('a.npyz', a)    # if space is the issue for latge files, use np.savez instead"
   ]
  },
  {
   "cell_type": "markdown",
   "id": "26809c38",
   "metadata": {},
   "source": [
    "## linear Algebra\n",
    "$AX = B$ &rarr; X = $A^{-1}B$"
   ]
  },
  {
   "cell_type": "code",
   "execution_count": 11,
   "id": "c6fd18d9",
   "metadata": {},
   "outputs": [
    {
     "data": {
      "text/plain": [
       "matrix([[ 3,  6, -5],\n",
       "        [ 1, -3,  2],\n",
       "        [ 5, -1,  4]])"
      ]
     },
     "execution_count": 11,
     "metadata": {},
     "output_type": "execute_result"
    }
   ],
   "source": [
    "# defining matrices\n",
    "A = np.matrix([[3, 6, -5], [1, -3, 2], [5, -1, 4]])\n",
    "\n",
    "B = np.matrix([[12], [-2], [10]])\n",
    "\n",
    "A"
   ]
  },
  {
   "cell_type": "code",
   "execution_count": 13,
   "id": "45f72af5",
   "metadata": {},
   "outputs": [
    {
     "data": {
      "text/plain": [
       "matrix([[12],\n",
       "        [-2],\n",
       "        [10]])"
      ]
     },
     "execution_count": 13,
     "metadata": {},
     "output_type": "execute_result"
    }
   ],
   "source": [
    "B"
   ]
  },
  {
   "cell_type": "code",
   "execution_count": 15,
   "id": "f5666795",
   "metadata": {},
   "outputs": [
    {
     "data": {
      "text/plain": [
       "matrix([[1.75],\n",
       "        [1.75],\n",
       "        [0.75]])"
      ]
     },
     "execution_count": 15,
     "metadata": {},
     "output_type": "execute_result"
    }
   ],
   "source": [
    "# solving for the variables, where we invert A\n",
    "X = (A ** (-1)) * B\n",
    "X"
   ]
  },
  {
   "cell_type": "markdown",
   "id": "ab319752",
   "metadata": {},
   "source": [
    "$x$ = 1.75, $y$ = 1.75, and $z$ = 0.75"
   ]
  },
  {
   "cell_type": "markdown",
   "id": "47085f1f",
   "metadata": {},
   "source": [
    "_____"
   ]
  },
  {
   "cell_type": "code",
   "execution_count": 16,
   "id": "24617438",
   "metadata": {},
   "outputs": [],
   "source": [
    "a = np.array([[3, 6, -5],\n",
    "[1, -3, 2],\n",
    "[5, -1, 4]])\n",
    "\n",
    "# Defining the array\n",
    "b = np.array([12, -2, 10])"
   ]
  },
  {
   "cell_type": "code",
   "execution_count": 17,
   "id": "d17d933b",
   "metadata": {},
   "outputs": [
    {
     "data": {
      "text/plain": [
       "array([1.75, 1.75, 0.75])"
      ]
     },
     "execution_count": 17,
     "metadata": {},
     "output_type": "execute_result"
    }
   ],
   "source": [
    "# Soling for the variables, where we invert A\n",
    "x= np.linalg.inv(a).dot(b)\n",
    "x"
   ]
  },
  {
   "cell_type": "markdown",
   "id": "d7671b03",
   "metadata": {},
   "source": [
    "## Scipy\n",
    "The optimization package in SciPy allows us to solve minimization problems easily and quickly"
   ]
  },
  {
   "cell_type": "code",
   "execution_count": 1,
   "id": "0825c415",
   "metadata": {},
   "outputs": [],
   "source": [
    "# linear regression\n",
    "import numpy as np\n",
    "from scipy.optimize import curve_fit"
   ]
  },
  {
   "cell_type": "code",
   "execution_count": 3,
   "id": "1c4bb934",
   "metadata": {},
   "outputs": [],
   "source": [
    "# create a function to model and create data\n",
    "def func(x, a, b):\n",
    "    return a *x + b\n",
    "\n",
    "# generating clean data \n",
    "x= np.linspace(0, 10, 100)  # an array of 100 elements between 0 to 10\n",
    "y= func(x, 1, 2)    # an array of 100 elements generated from x, a, b\n",
    "\n",
    "# adding noise to the data\n",
    "yn = y + 0.9 * np.random.normal(size = (len(x)))    # an array of 100 elements"
   ]
  },
  {
   "cell_type": "code",
   "execution_count": 8,
   "id": "74e99296",
   "metadata": {},
   "outputs": [],
   "source": [
    "# executing curve_fir on noisy data\n",
    "ppt, pcov = curve_fit(func, x, yn)"
   ]
  },
  {
   "cell_type": "code",
   "execution_count": null,
   "id": "5bf1e432",
   "metadata": {},
   "outputs": [],
   "source": []
  },
  {
   "cell_type": "code",
   "execution_count": null,
   "id": "e6f35866",
   "metadata": {},
   "outputs": [],
   "source": []
  },
  {
   "cell_type": "code",
   "execution_count": null,
   "id": "35517276",
   "metadata": {},
   "outputs": [],
   "source": []
  },
  {
   "cell_type": "code",
   "execution_count": null,
   "id": "ebb45682",
   "metadata": {},
   "outputs": [],
   "source": []
  },
  {
   "cell_type": "code",
   "execution_count": null,
   "id": "421d1d76",
   "metadata": {},
   "outputs": [],
   "source": []
  },
  {
   "cell_type": "code",
   "execution_count": null,
   "id": "6570ca72",
   "metadata": {},
   "outputs": [],
   "source": []
  },
  {
   "cell_type": "code",
   "execution_count": null,
   "id": "4b5df4ba",
   "metadata": {},
   "outputs": [],
   "source": []
  },
  {
   "cell_type": "code",
   "execution_count": null,
   "id": "22329cfb",
   "metadata": {},
   "outputs": [],
   "source": []
  },
  {
   "cell_type": "code",
   "execution_count": null,
   "id": "4ca02528",
   "metadata": {},
   "outputs": [],
   "source": []
  },
  {
   "cell_type": "code",
   "execution_count": null,
   "id": "136ceca2",
   "metadata": {},
   "outputs": [],
   "source": []
  },
  {
   "cell_type": "code",
   "execution_count": null,
   "id": "58351bc3",
   "metadata": {},
   "outputs": [],
   "source": []
  },
  {
   "cell_type": "code",
   "execution_count": null,
   "id": "93a16f23",
   "metadata": {},
   "outputs": [],
   "source": []
  },
  {
   "cell_type": "code",
   "execution_count": null,
   "id": "e65b8a94",
   "metadata": {},
   "outputs": [],
   "source": []
  },
  {
   "cell_type": "code",
   "execution_count": null,
   "id": "2910e85a",
   "metadata": {},
   "outputs": [],
   "source": []
  },
  {
   "cell_type": "code",
   "execution_count": null,
   "id": "9542396f",
   "metadata": {},
   "outputs": [],
   "source": []
  },
  {
   "cell_type": "code",
   "execution_count": null,
   "id": "cddd07b1",
   "metadata": {},
   "outputs": [],
   "source": []
  },
  {
   "cell_type": "code",
   "execution_count": null,
   "id": "9de3ef9b",
   "metadata": {},
   "outputs": [],
   "source": []
  },
  {
   "cell_type": "code",
   "execution_count": null,
   "id": "bb4dd82f",
   "metadata": {},
   "outputs": [],
   "source": []
  },
  {
   "cell_type": "code",
   "execution_count": null,
   "id": "bdf49da3",
   "metadata": {},
   "outputs": [],
   "source": []
  }
 ],
 "metadata": {
  "kernelspec": {
   "display_name": "Python 3 (ipykernel)",
   "language": "python",
   "name": "python3"
  },
  "language_info": {
   "codemirror_mode": {
    "name": "ipython",
    "version": 3
   },
   "file_extension": ".py",
   "mimetype": "text/x-python",
   "name": "python",
   "nbconvert_exporter": "python",
   "pygments_lexer": "ipython3",
   "version": "3.9.7"
  }
 },
 "nbformat": 4,
 "nbformat_minor": 5
}
