{
 "cells": [
  {
   "cell_type": "code",
   "execution_count": 1,
   "id": "ae85483b",
   "metadata": {},
   "outputs": [],
   "source": [
    "from monai.transforms import (\n",
    "    EnsureChannelFirstd,\n",
    "    LoadImage,\n",
    "    LoadImaged,\n",
    "    Orientationd,\n",
    "    Rand3DElasticd,\n",
    "    RandAffined,\n",
    "    Spacingd,\n",
    ")\n",
    "from monai.config import print_config\n",
    "\n",
    "import numpy as np\n",
    "import shutil\n",
    "import glob\n",
    "import matplotlib.pyplot as plt\n",
    "import os\n",
    "from sklearn.model_selection import train_test_split\n",
    "%matplotlib inline"
   ]
  },
  {
   "cell_type": "code",
   "execution_count": 2,
   "id": "983d5d90",
   "metadata": {},
   "outputs": [
    {
     "name": "stdout",
     "output_type": "stream",
     "text": [
      "MONAI version: 1.2.dev2302\n",
      "Numpy version: 1.19.5\n",
      "Pytorch version: 1.13.1+cu116\n",
      "MONAI flags: HAS_EXT = False, USE_COMPILED = False, USE_META_DICT = False\n",
      "MONAI rev id: 708e1a1cf4a1d5516eaf65b8a0bee8887cdee494\n",
      "MONAI __file__: c:\\users\\user\\appdata\\local\\programs\\python\\python38\\lib\\site-packages\\monai\\__init__.py\n",
      "\n",
      "Optional dependencies:\n",
      "Pytorch Ignite version: 0.4.10\n",
      "Nibabel version: 4.0.1\n",
      "scikit-image version: 0.19.3\n",
      "Pillow version: 9.1.1\n",
      "Tensorboard version: 2.9.1\n",
      "gdown version: 4.6.0\n",
      "TorchVision version: 0.14.1+cu116\n",
      "tqdm version: 4.64.0\n",
      "lmdb version: NOT INSTALLED or UNKNOWN VERSION.\n",
      "psutil version: 5.9.1\n",
      "pandas version: 1.4.2\n",
      "einops version: NOT INSTALLED or UNKNOWN VERSION.\n",
      "transformers version: NOT INSTALLED or UNKNOWN VERSION.\n",
      "mlflow version: NOT INSTALLED or UNKNOWN VERSION.\n",
      "pynrrd version: NOT INSTALLED or UNKNOWN VERSION.\n",
      "\n",
      "For details about installing the optional dependencies, please visit:\n",
      "    https://docs.monai.io/en/latest/installation.html#installing-the-recommended-dependencies\n",
      "\n"
     ]
    }
   ],
   "source": [
    "print_config()"
   ]
  },
  {
   "cell_type": "code",
   "execution_count": 3,
   "id": "e1b67932",
   "metadata": {},
   "outputs": [
    {
     "data": {
      "text/plain": [
       "['images', 'manual_spleen_segmentations']"
      ]
     },
     "execution_count": 3,
     "metadata": {},
     "output_type": "execute_result"
    }
   ],
   "source": [
    "os.listdir(\"data/\")"
   ]
  },
  {
   "cell_type": "code",
   "execution_count": 4,
   "id": "297b6865",
   "metadata": {},
   "outputs": [],
   "source": [
    "train_images= sorted(glob.glob(\"data/images/*.nii\"))\n",
    "train_labels= sorted(glob.glob(\"data/manual_spleen_segmentations/*.nii\"))"
   ]
  },
  {
   "cell_type": "code",
   "execution_count": 5,
   "id": "d7f0fe8f",
   "metadata": {},
   "outputs": [],
   "source": [
    "data_dict= [{\"image\": image_name, \"label\": label_name}\n",
    "            for image_name, label_name in zip(train_images, train_labels)]"
   ]
  },
  {
   "cell_type": "code",
   "execution_count": 6,
   "id": "abfbe6da",
   "metadata": {},
   "outputs": [
    {
     "data": {
      "text/plain": [
       "{'image': 'data/images\\\\00001---002.nii',\n",
       " 'label': 'data/manual_spleen_segmentations\\\\00001---002.nii'}"
      ]
     },
     "execution_count": 6,
     "metadata": {},
     "output_type": "execute_result"
    }
   ],
   "source": [
    "data_dict[0]"
   ]
  },
  {
   "cell_type": "markdown",
   "id": "e19bd069",
   "metadata": {},
   "source": [
    "## load one nii image and its metadata"
   ]
  },
  {
   "cell_type": "code",
   "execution_count": 7,
   "id": "9311e235",
   "metadata": {},
   "outputs": [],
   "source": [
    "img_loader = LoadImage(dtype=np.float32)"
   ]
  },
  {
   "cell_type": "code",
   "execution_count": 8,
   "id": "fb2333d5",
   "metadata": {},
   "outputs": [],
   "source": [
    "img, meta= img_loader(data_dict[0][\"image\"])"
   ]
  },
  {
   "cell_type": "code",
   "execution_count": 9,
   "id": "cfe59222",
   "metadata": {},
   "outputs": [
    {
     "data": {
      "text/plain": [
       "{'sizeof_hdr': array(348),\n",
       " 'extents': array(0),\n",
       " 'session_error': array(0, dtype=int16),\n",
       " 'dim_info': array(0, dtype=uint8),\n",
       " 'dim': array([  3, 512, 512, 116,   1,   1,   1,   1], dtype=int16),\n",
       " 'intent_p1': array(0., dtype=float32),\n",
       " 'intent_p2': array(0., dtype=float32),\n",
       " 'intent_p3': array(0., dtype=float32),\n",
       " 'intent_code': array(0, dtype=int16),\n",
       " 'datatype': array(64, dtype=int16),\n",
       " 'bitpix': array(64, dtype=int16),\n",
       " 'slice_start': array(0, dtype=int16),\n",
       " 'pixdim': array([1.   , 0.644, 0.644, 4.   , 1.   , 1.   , 1.   , 1.   ],\n",
       "       dtype=float32),\n",
       " 'vox_offset': array(0., dtype=float32),\n",
       " 'scl_slope': array(nan, dtype=float32),\n",
       " 'scl_inter': array(nan, dtype=float32),\n",
       " 'slice_end': array(0, dtype=int16),\n",
       " 'slice_code': array(0, dtype=uint8),\n",
       " 'xyzt_units': array(0, dtype=uint8),\n",
       " 'cal_max': array(0., dtype=float32),\n",
       " 'cal_min': array(0., dtype=float32),\n",
       " 'slice_duration': array(0., dtype=float32),\n",
       " 'toffset': array(0., dtype=float32),\n",
       " 'glmax': array(0),\n",
       " 'glmin': array(0),\n",
       " 'qform_code': array(0, dtype=int16),\n",
       " 'sform_code': array(2, dtype=int16),\n",
       " 'quatern_b': array(0., dtype=float32),\n",
       " 'quatern_c': array(0., dtype=float32),\n",
       " 'quatern_d': array(0., dtype=float32),\n",
       " 'qoffset_x': array(0., dtype=float32),\n",
       " 'qoffset_y': array(0., dtype=float32),\n",
       " 'qoffset_z': array(0., dtype=float32),\n",
       " 'srow_x': array([0.644, 0.   , 0.   , 0.   ], dtype=float32),\n",
       " 'srow_y': array([0.   , 0.644, 0.   , 0.   ], dtype=float32),\n",
       " 'srow_z': array([0., 0., 4., 0.], dtype=float32),\n",
       " affine: tensor([[0.6440, 0.0000, 0.0000, 0.0000],\n",
       "         [0.0000, 0.6440, 0.0000, 0.0000],\n",
       "         [0.0000, 0.0000, 4.0000, 0.0000],\n",
       "         [0.0000, 0.0000, 0.0000, 1.0000]], dtype=torch.float64),\n",
       " original_affine: array([[0.64399999, 0.        , 0.        , 0.        ],\n",
       "        [0.        , 0.64399999, 0.        , 0.        ],\n",
       "        [0.        , 0.        , 4.        , 0.        ],\n",
       "        [0.        , 0.        , 0.        , 1.        ]]),\n",
       " 'as_closest_canonical': False,\n",
       " spatial_shape: array([512, 512, 116], dtype=int16),\n",
       " space: RAS,\n",
       " original_channel_dim: 'no_channel',\n",
       " 'filename_or_obj': 'data\\\\images\\\\00001---002.nii'}"
      ]
     },
     "execution_count": 9,
     "metadata": {},
     "output_type": "execute_result"
    }
   ],
   "source": [
    "meta"
   ]
  },
  {
   "cell_type": "code",
   "execution_count": 10,
   "id": "f68a77ad",
   "metadata": {},
   "outputs": [
    {
     "name": "stdout",
     "output_type": "stream",
     "text": [
      "image slpe:\n",
      "nan\n"
     ]
    }
   ],
   "source": [
    "print(f\"image slpe:\\n{meta['scl_slope']}\")"
   ]
  },
  {
   "cell_type": "markdown",
   "id": "4cf8c1ef",
   "metadata": {},
   "source": [
    "## load & plot one nii image"
   ]
  },
  {
   "cell_type": "code",
   "execution_count": 11,
   "id": "43ed6049",
   "metadata": {},
   "outputs": [],
   "source": [
    "one_img_loader= LoadImage(image_only= True, dtype= np.float32)"
   ]
  },
  {
   "cell_type": "code",
   "execution_count": 12,
   "id": "d7157821",
   "metadata": {},
   "outputs": [
    {
     "name": "stdout",
     "output_type": "stream",
     "text": [
      "input: data/images\\00001---002.nii\n",
      "shape: torch.Size([512, 512, 116])\n",
      "pixdim: tensor([0.6440, 0.6440, 4.0000], dtype=torch.float64)\n",
      "affine: \n",
      " tensor([[0.6440, 0.0000, 0.0000, 0.0000],\n",
      "        [0.0000, 0.6440, 0.0000, 0.0000],\n",
      "        [0.0000, 0.0000, 4.0000, 0.0000],\n",
      "        [0.0000, 0.0000, 0.0000, 1.0000]], dtype=torch.float64)\n"
     ]
    }
   ],
   "source": [
    "image= one_img_loader(data_dict[0][\"image\"])\n",
    "print(f\"input: {data_dict[0]['image']}\") # volume path and name\n",
    "print(f\"shape: {image.shape}\")\n",
    "print(f\"pixdim: {image.pixdim}\")\n",
    "print(f\"affine: \\n {image.meta['affine']}\")"
   ]
  },
  {
   "cell_type": "code",
   "execution_count": 13,
   "id": "8d80526f",
   "metadata": {},
   "outputs": [
    {
     "data": {
      "text/plain": [
       "<matplotlib.image.AxesImage at 0x2558fadf7c0>"
      ]
     },
     "execution_count": 13,
     "metadata": {},
     "output_type": "execute_result"
    },
    {
     "data": {
      "image/png": "[encoded data removed]",
      "text/plain": [
       "<Figure size 576x288 with 1 Axes>"
      ]
     },
     "metadata": {
      "needs_background": "light"
     },
     "output_type": "display_data"
    }
   ],
   "source": [
    "plt.figure(figsize=(8, 4))\n",
    "plt.imshow(image[:, :, 80], cmap= 'gray')"
   ]
  },
  {
   "cell_type": "markdown",
   "id": "c14d74e6",
   "metadata": {},
   "source": [
    "## load & plot image and mask"
   ]
  },
  {
   "cell_type": "code",
   "execution_count": 14,
   "id": "485afb28",
   "metadata": {},
   "outputs": [],
   "source": [
    "image_mask_loader= LoadImaged(keys= (\"image\", \"label\"), image_only= False)"
   ]
  },
  {
   "cell_type": "code",
   "execution_count": 15,
   "id": "9f70f276",
   "metadata": {},
   "outputs": [],
   "source": [
    "sample_dict= image_mask_loader(data_dict[0]) # it's a dict datatype"
   ]
  },
  {
   "cell_type": "code",
   "execution_count": 16,
   "id": "02e19c76",
   "metadata": {},
   "outputs": [
    {
     "data": {
      "text/plain": [
       "dict"
      ]
     },
     "execution_count": 16,
     "metadata": {},
     "output_type": "execute_result"
    }
   ],
   "source": [
    "type(sample_dict)"
   ]
  },
  {
   "cell_type": "code",
   "execution_count": 17,
   "id": "8c86cfee",
   "metadata": {},
   "outputs": [
    {
     "name": "stdout",
     "output_type": "stream",
     "text": [
      "image shape: torch.Size([512, 512, 116])\n",
      "label shape: torch.Size([512, 512, 116])\n",
      "image pixdim: tensor([0.6440, 0.6440, 4.0000], dtype=torch.float64)\n"
     ]
    }
   ],
   "source": [
    "print(f\"image shape: {sample_dict['image'].shape}\") ### Note: inside f\"\" should be sigle quote\n",
    "print(f\"label shape: {sample_dict['label'].shape}\")\n",
    "print(f\"image pixdim: {sample_dict['image'].pixdim}\")"
   ]
  },
  {
   "cell_type": "code",
   "execution_count": 18,
   "id": "28b096e6",
   "metadata": {},
   "outputs": [],
   "source": [
    "# load voxel data from dict into the variables:\n",
    "image, label = sample_dict['image'], sample_dict['label']"
   ]
  },
  {
   "cell_type": "code",
   "execution_count": 19,
   "id": "45ae28f9",
   "metadata": {},
   "outputs": [
    {
     "data": {
      "text/plain": [
       "Text(0.5, 1.0, 'mask')"
      ]
     },
     "execution_count": 19,
     "metadata": {},
     "output_type": "execute_result"
    },
    {
     "data": {
      "image/png": "[encoded data removed]",
      "text/plain": [
       "<Figure size 576x432 with 2 Axes>"
      ]
     },
     "metadata": {
      "needs_background": "light"
     },
     "output_type": "display_data"
    }
   ],
   "source": [
    "plt.figure(figsize= (8, 6))\n",
    "plt.subplot(121)\n",
    "plt.imshow(image[:, :, 100], cmap= 'gray')\n",
    "plt.title(\"image\")\n",
    "\n",
    "plt.subplot(122)\n",
    "plt.imshow(label[:, :, 100], cmap= 'gray')\n",
    "plt.title(\"mask\")"
   ]
  },
  {
   "cell_type": "markdown",
   "id": "88b2b513",
   "metadata": {},
   "source": [
    "## Ensure the first dimension is channel"
   ]
  },
  {
   "cell_type": "code",
   "execution_count": null,
   "id": "d97d15e4",
   "metadata": {},
   "outputs": [],
   "source": [
    "# [num_channels, spatial_dim1, spatial_dim2, spatial_dim3]"
   ]
  },
  {
   "cell_type": "code",
   "execution_count": null,
   "id": "0bad84bd",
   "metadata": {},
   "outputs": [],
   "source": [
    "ensure_channel_first_transform= EnsureChannelFirstd(keys= [\"image\", \"label\"])\n",
    "sample_dict_channelfirst= ensure_channel_first_transform(sample_dict)\n",
    "\n",
    "print(f\"image shape: {sample_dict_channelfirst['image'].shape}\")"
   ]
  },
  {
   "cell_type": "markdown",
   "id": "bdb8c4b2",
   "metadata": {},
   "source": [
    "## Reorientation to a designated axes codes\n",
    "\n",
    "transform all the input volumes in a consistent axes orientation.  \n",
    "The default axis labels are Left (L), Right (R), Posterior (P), Anterior (A), Inferior (I), Superior (S).  \n",
    "The following transform is created to reorientate the volumes to have 'Posterior, Left, Inferior' (PLI) orientation (To ensure the spatial axes are processed consistently across the subjects, this orientation transform should be put before any anisotropic spatial transforms):"
   ]
  },
  {
   "cell_type": "code",
   "execution_count": null,
   "id": "c442c9e6",
   "metadata": {},
   "outputs": [],
   "source": [
    "orientation_transform= Orientationd(keys=[\"image\", \"label\"], axcodes= \"PLI\")"
   ]
  },
  {
   "cell_type": "code",
   "execution_count": null,
   "id": "db00d63d",
   "metadata": {},
   "outputs": [],
   "source": [
    "sample_dict_oriented= orientation_transform(sample_dict_channelfirst)"
   ]
  },
  {
   "cell_type": "code",
   "execution_count": null,
   "id": "529a4588",
   "metadata": {},
   "outputs": [],
   "source": [
    "print(f\"image shape after reorientation: {sample_dict_oriented['image'].shape}\")\n",
    "print(f\"image shape before reorientation {sample_dict_channelfirst['image'].shape}\")\n",
    "print(f\"\")"
   ]
  },
  {
   "cell_type": "markdown",
   "id": "5cf5ffb7",
   "metadata": {},
   "source": [
    "## resample to the consistent voxel size"
   ]
  },
  {
   "cell_type": "code",
   "execution_count": null,
   "id": "9b2b5e3e",
   "metadata": {},
   "outputs": [],
   "source": [
    "spacing_transform= Spacingd(keys= [\"image\", \"label\"], pixdim= (1.5, 1.5, 5.0), mode= (\"bilinear\", \"nearest\"))"
   ]
  },
  {
   "cell_type": "code",
   "execution_count": null,
   "id": "46f5124f",
   "metadata": {},
   "outputs": [],
   "source": [
    "sample_resampled= spacing_transform(sample_dict_oriented)"
   ]
  },
  {
   "cell_type": "code",
   "execution_count": null,
   "id": "f7477efc",
   "metadata": {},
   "outputs": [],
   "source": [
    "print(f\"image shape before resampling: {sample_dict_oriented['image'].shape}\")\n",
    "print(f\"image shape after resampling: {sample_resampled['image'].shape}\")\n",
    "print(f\"image affine before resampling: {sample_dict_oriented['image'].meta['affine']}\")\n",
    "print(f\"image affine after resampling: \\n {sample_resampled['image'].meta['affine']}\")\n",
    "print(\"====\"*20)\n",
    "\n",
    "print(f\"image pixdim before resampling: {sample_dict_oriented['image'].pixdim}\")\n",
    "print(f\"image pixdim after resampling: {sample_resampled['image'].pixdim}\")"
   ]
  },
  {
   "cell_type": "code",
   "execution_count": null,
   "id": "144518e9",
   "metadata": {},
   "outputs": [],
   "source": [
    "image, label= sample_resampled['image'], sample_resampled['label']\n",
    "\n",
    "plt.subplot(121)\n",
    "plt.imshow(image[0, :, :, 18], cmap= 'gray')\n",
    "plt.title(\"image\")\n",
    "\n",
    "plt.subplot(122)\n",
    "plt.imshow(label[0, :, :, 18], cmap= 'gray')\n",
    "plt.title(\"mask\")"
   ]
  },
  {
   "cell_type": "code",
   "execution_count": null,
   "id": "b79af2c9",
   "metadata": {},
   "outputs": [],
   "source": []
  },
  {
   "cell_type": "code",
   "execution_count": null,
   "id": "9b2a22da",
   "metadata": {},
   "outputs": [],
   "source": []
  },
  {
   "cell_type": "code",
   "execution_count": null,
   "id": "3c63c29d",
   "metadata": {},
   "outputs": [],
   "source": []
  },
  {
   "cell_type": "code",
   "execution_count": null,
   "id": "6577e1da",
   "metadata": {},
   "outputs": [],
   "source": []
  },
  {
   "cell_type": "code",
   "execution_count": null,
   "id": "14990ad3",
   "metadata": {},
   "outputs": [],
   "source": []
  },
  {
   "cell_type": "code",
   "execution_count": null,
   "id": "c5b421b3",
   "metadata": {},
   "outputs": [],
   "source": []
  },
  {
   "cell_type": "code",
   "execution_count": null,
   "id": "1fe730c3",
   "metadata": {},
   "outputs": [],
   "source": []
  }
 ],
 "metadata": {
  "kernelspec": {
   "display_name": "Python 3 (ipykernel)",
   "language": "python",
   "name": "python3"
  },
  "language_info": {
   "codemirror_mode": {
    "name": "ipython",
    "version": 3
   },
   "file_extension": ".py",
   "mimetype": "text/x-python",
   "name": "python",
   "nbconvert_exporter": "python",
   "pygments_lexer": "ipython3",
   "version": "3.8.7"
  }
 },
 "nbformat": 4,
 "nbformat_minor": 5
}
