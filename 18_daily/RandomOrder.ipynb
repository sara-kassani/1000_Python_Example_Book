{
 "cells": [
  {
   "cell_type": "code",
   "execution_count": 1,
   "metadata": {},
   "outputs": [],
   "source": [
    "import random"
   ]
  },
  {
   "cell_type": "code",
   "execution_count": 2,
   "metadata": {},
   "outputs": [
    {
     "name": "stdout",
     "output_type": "stream",
     "text": [
      "23\n"
     ]
    }
   ],
   "source": [
    "samples = ['UP2101', 'UP2102', 'UP2103', 'UP2104', 'UP2105', 'UP2106', 'UP2108', 'UP2109', 'UP2110', 'UP2111', \n",
    "           'UP2113', 'UP2114', 'UP2115', 'UP2116', 'UP2117', 'UP2118', 'UP2121', 'UP2122', 'UP2123', 'UP2123_Substudy',\n",
    "           'UP2124', 'UP2125', 'UP2128']\n",
    "\n",
    "print(len(samples))\n"
   ]
  },
  {
   "cell_type": "code",
   "execution_count": 4,
   "metadata": {
    "scrolled": false
   },
   "outputs": [
    {
     "data": {
      "text/plain": [
       "['UP2123',\n",
       " 'UP2116',\n",
       " 'UP2121',\n",
       " 'UP2104',\n",
       " 'UP2106',\n",
       " 'UP2122',\n",
       " 'UP2102',\n",
       " 'UP2115',\n",
       " 'UP2128',\n",
       " 'UP2114',\n",
       " 'UP2105',\n",
       " 'UP2118',\n",
       " 'UP2110',\n",
       " 'UP2123_Substudy',\n",
       " 'UP2101',\n",
       " 'UP2124',\n",
       " 'UP2117',\n",
       " 'UP2113',\n",
       " 'UP2103',\n",
       " 'UP2109',\n",
       " 'UP2108',\n",
       " 'UP2111',\n",
       " 'UP2125']"
      ]
     },
     "execution_count": 4,
     "metadata": {},
     "output_type": "execute_result"
    }
   ],
   "source": [
    "def shuffled(patients):\n",
    "    random.shuffle(patients)\n",
    "    return patients\n",
    "\n",
    "shuffled(samples)"
   ]
  },
  {
   "cell_type": "code",
   "execution_count": null,
   "metadata": {},
   "outputs": [],
   "source": []
  },
  {
   "cell_type": "code",
   "execution_count": null,
   "metadata": {},
   "outputs": [],
   "source": []
  }
 ],
 "metadata": {
  "kernelspec": {
   "display_name": "Python 3",
   "language": "python",
   "name": "python3"
  },
  "language_info": {
   "codemirror_mode": {
    "name": "ipython",
    "version": 3
   },
   "file_extension": ".py",
   "mimetype": "text/x-python",
   "name": "python",
   "nbconvert_exporter": "python",
   "pygments_lexer": "ipython3",
   "version": "3.8.5"
  }
 },
 "nbformat": 4,
 "nbformat_minor": 5
}
