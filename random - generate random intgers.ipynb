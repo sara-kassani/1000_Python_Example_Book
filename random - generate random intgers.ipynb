{
 "cells": [
  {
   "cell_type": "code",
   "execution_count": 4,
   "id": "f5029e76",
   "metadata": {},
   "outputs": [],
   "source": [
    "import numpy as np"
   ]
  },
  {
   "cell_type": "markdown",
   "id": "d71a2577-b862-472d-8a58-8786160a788a",
   "metadata": {},
   "source": [
    "## random.randint\n",
    "Return random integers from low (inclusive) to high (exclusive)."
   ]
  },
  {
   "cell_type": "code",
   "execution_count": 5,
   "id": "7be9ff07",
   "metadata": {},
   "outputs": [
    {
     "data": {
      "text/plain": [
       "array([9, 9, 9, 6, 6, 6, 0, 5, 3, 9, 9, 8, 3, 9, 4])"
      ]
     },
     "execution_count": 5,
     "metadata": {},
     "output_type": "execute_result"
    }
   ],
   "source": [
    "x1 = np.random.randint(low=0, high= 10, size=(15, ))\n",
    "x1"
   ]
  },
  {
   "cell_type": "markdown",
   "id": "cb28a7b8-62dd-44be-9e67-2d027d79925f",
   "metadata": {},
   "source": [
    "## random.uniform\n",
    "Draw samples from a uniform distribution. Samples are uniformly distributed over the half-open interval [low, high) (includes low, but excludes high).\n",
    "\n",
    "In other words, any value within the given interval is equally likely to be drawn by uniform.\n",
    "\n",
    "$p(x) = \\frac{1}{b - a}$"
   ]
  },
  {
   "cell_type": "code",
   "execution_count": 7,
   "id": "9cb94200-db05-4b37-9d93-2edc7b9ee1ae",
   "metadata": {},
   "outputs": [
    {
     "data": {
      "text/plain": [
       "array([3, 8, 6, 6, 7, 0, 4, 6, 5, 6, 0, 0, 2, 4, 4])"
      ]
     },
     "execution_count": 7,
     "metadata": {},
     "output_type": "execute_result"
    }
   ],
   "source": [
    "x2 = np.random.uniform(low=0, high= 10, size=(15, )).astype(int)\n",
    "x2"
   ]
  },
  {
   "cell_type": "markdown",
   "id": "63c97575",
   "metadata": {},
   "source": [
    "## random.choice\n",
    "Generates a random sample from a given 1-D array"
   ]
  },
  {
   "cell_type": "code",
   "execution_count": 9,
   "id": "7c230fd3",
   "metadata": {},
   "outputs": [
    {
     "data": {
      "text/plain": [
       "array([10,  1,  3,  0])"
      ]
     },
     "execution_count": 9,
     "metadata": {},
     "output_type": "execute_result"
    }
   ],
   "source": [
    "x3 = np.random.choice(a=15, size=4)\n",
    "x3"
   ]
  },
  {
   "cell_type": "markdown",
   "id": "139e0eb9",
   "metadata": {},
   "source": [
    "Generate a uniform random sample from np.arange(5) of size 3 without replacement:"
   ]
  },
  {
   "cell_type": "code",
   "execution_count": 10,
   "id": "55ce7d1a",
   "metadata": {},
   "outputs": [
    {
     "data": {
      "text/plain": [
       "array([2, 0, 3, 4])"
      ]
     },
     "execution_count": 10,
     "metadata": {},
     "output_type": "execute_result"
    }
   ],
   "source": [
    "x3 = np.random.choice(a=15, size=4, replace= False)\n",
    "x3"
   ]
  },
  {
   "cell_type": "markdown",
   "id": "9f55fbad",
   "metadata": {},
   "source": [
    "## random.randrange\n",
    "The randrange() method returns a randomly selected element from the specified range.\n",
    "\n",
    "\n",
    "random.randrange(start, stop, step)\n"
   ]
  },
  {
   "cell_type": "code",
   "execution_count": 14,
   "id": "7eb14610",
   "metadata": {},
   "outputs": [
    {
     "data": {
      "text/plain": [
       "[1, 4, 4, 4, 1, 2, 4, 3, 2, 1, 2, 4, 4, 1, 1]"
      ]
     },
     "execution_count": 14,
     "metadata": {},
     "output_type": "execute_result"
    }
   ],
   "source": [
    "from random import randrange\n",
    "\n",
    "x4 = [randrange(5) for i in range(15)]\n",
    "\n",
    "x4"
   ]
  },
  {
   "cell_type": "markdown",
   "id": "aeafc1f9",
   "metadata": {},
   "source": [
    "## random.randint\n",
    "\n",
    "random.randint(a, b) returns a random integer N such that a <= N <= b.\n",
    "\n",
    "Syntax: random.randint(start, stop)"
   ]
  },
  {
   "cell_type": "code",
   "execution_count": 16,
   "id": "08a604c7",
   "metadata": {},
   "outputs": [
    {
     "data": {
      "text/plain": [
       "[2, 3, 5, 5, 5, 1, 2, 2, 0, 3, 1, 2, 0, 0, 1]"
      ]
     },
     "execution_count": 16,
     "metadata": {},
     "output_type": "execute_result"
    }
   ],
   "source": [
    "from random import randint\n",
    "x5 = [randint(0, 5) for i in range(0, 15)]\n",
    "x5"
   ]
  }
 ],
 "metadata": {
  "kernelspec": {
   "display_name": "Python 3 (ipykernel)",
   "language": "python",
   "name": "python3"
  },
  "language_info": {
   "codemirror_mode": {
    "name": "ipython",
    "version": 3
   },
   "file_extension": ".py",
   "mimetype": "text/x-python",
   "name": "python",
   "nbconvert_exporter": "python",
   "pygments_lexer": "ipython3",
   "version": "3.9.7"
  }
 },
 "nbformat": 4,
 "nbformat_minor": 5
}
